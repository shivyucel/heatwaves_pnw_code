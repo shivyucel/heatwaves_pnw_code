{
 "cells": [
  {
   "cell_type": "code",
   "execution_count": 1,
   "id": "d4a26202-7f6b-4cc1-8d3a-24a730f53544",
   "metadata": {},
   "outputs": [
    {
     "name": "stderr",
     "output_type": "stream",
     "text": [
      "/var/folders/8g/qp1k_1g91m5f2m9pypxwxdhh0000gn/T/ipykernel_37575/460733291.py:8: DeprecationWarning: Please use `pearsonr` from the `scipy.stats` namespace, the `scipy.stats.stats` namespace is deprecated.\n",
      "  from scipy.stats.stats import pearsonr\n"
     ]
    }
   ],
   "source": [
    "import pandas as pd\n",
    "import geopandas as gpd\n",
    "import matplotlib.pyplot as plt\n",
    "import seaborn as sns\n",
    "sns.set_style('darkgrid')\n",
    "from scipy.stats import ttest_ind\n",
    "import numpy as np\n",
    "from scipy.stats.stats import pearsonr\n",
    "from IPython.display import display, Markdown, Latex\n",
    "plt.style.use('ggplot')\n",
    "\n",
    "from datetime import timedelta\n",
    "from dateutil.parser import parse\n",
    "data_path = '/Users/shivyucel/Documents/projects/DPhil/Code_Data/data/'"
   ]
  },
  {
   "cell_type": "markdown",
   "id": "6370a074-6b64-4470-8ed6-683259025ab6",
   "metadata": {},
   "source": [
    "# Load and forma mobility data for BC, Washington, Oregon, California "
   ]
  },
  {
   "cell_type": "code",
   "execution_count": 2,
   "id": "be205f3c-2c44-40ee-8e37-ef19d29c8788",
   "metadata": {
    "tags": []
   },
   "outputs": [
    {
     "name": "stderr",
     "output_type": "stream",
     "text": [
      "/var/folders/8g/qp1k_1g91m5f2m9pypxwxdhh0000gn/T/ipykernel_37575/343977191.py:3: DtypeWarning: Columns (6) have mixed types. Specify dtype option on import or set low_memory=False.\n",
      "  df = pd.read_csv(data_path + f'google_mobility/clean/US_{year}.csv')\n",
      "/var/folders/8g/qp1k_1g91m5f2m9pypxwxdhh0000gn/T/ipykernel_37575/343977191.py:4: FutureWarning: The frame.append method is deprecated and will be removed from pandas in a future version. Use pandas.concat instead.\n",
      "  mobility_data = mobility_data.append(df)\n",
      "/var/folders/8g/qp1k_1g91m5f2m9pypxwxdhh0000gn/T/ipykernel_37575/343977191.py:3: DtypeWarning: Columns (6) have mixed types. Specify dtype option on import or set low_memory=False.\n",
      "  df = pd.read_csv(data_path + f'google_mobility/clean/US_{year}.csv')\n",
      "/var/folders/8g/qp1k_1g91m5f2m9pypxwxdhh0000gn/T/ipykernel_37575/343977191.py:4: FutureWarning: The frame.append method is deprecated and will be removed from pandas in a future version. Use pandas.concat instead.\n",
      "  mobility_data = mobility_data.append(df)\n",
      "/var/folders/8g/qp1k_1g91m5f2m9pypxwxdhh0000gn/T/ipykernel_37575/343977191.py:3: DtypeWarning: Columns (6) have mixed types. Specify dtype option on import or set low_memory=False.\n",
      "  df = pd.read_csv(data_path + f'google_mobility/clean/US_{year}.csv')\n",
      "/var/folders/8g/qp1k_1g91m5f2m9pypxwxdhh0000gn/T/ipykernel_37575/343977191.py:4: FutureWarning: The frame.append method is deprecated and will be removed from pandas in a future version. Use pandas.concat instead.\n",
      "  mobility_data = mobility_data.append(df)\n",
      "/var/folders/8g/qp1k_1g91m5f2m9pypxwxdhh0000gn/T/ipykernel_37575/343977191.py:8: FutureWarning: The frame.append method is deprecated and will be removed from pandas in a future version. Use pandas.concat instead.\n",
      "  mobility_data = mobility_data.append(df)\n",
      "/var/folders/8g/qp1k_1g91m5f2m9pypxwxdhh0000gn/T/ipykernel_37575/343977191.py:8: FutureWarning: The frame.append method is deprecated and will be removed from pandas in a future version. Use pandas.concat instead.\n",
      "  mobility_data = mobility_data.append(df)\n",
      "/var/folders/8g/qp1k_1g91m5f2m9pypxwxdhh0000gn/T/ipykernel_37575/343977191.py:8: FutureWarning: The frame.append method is deprecated and will be removed from pandas in a future version. Use pandas.concat instead.\n",
      "  mobility_data = mobility_data.append(df)\n"
     ]
    }
   ],
   "source": [
    "mobility_data = pd.DataFrame()\n",
    "for year in [2020, 2021, 2022]:\n",
    "    df = pd.read_csv(data_path + f'google_mobility/clean/US_{year}.csv')\n",
    "    mobility_data = mobility_data.append(df)\n",
    "    \n",
    "for year in [2020, 2021, 2022]:\n",
    "    df = pd.read_csv(data_path + f'google_mobility/clean/CA_{year}.csv')\n",
    "    mobility_data = mobility_data.append(df)"
   ]
  },
  {
   "cell_type": "code",
   "execution_count": 3,
   "id": "c30c0f6b-e0a0-46ee-8578-2854f9f42abd",
   "metadata": {},
   "outputs": [],
   "source": [
    "nw_mobility = mobility_data[mobility_data['state'].isin(['Washington', 'California', 'Oregon', 'British Columbia'])]"
   ]
  },
  {
   "cell_type": "code",
   "execution_count": 4,
   "id": "012c3b41-5137-4034-a6ce-05cee081328c",
   "metadata": {},
   "outputs": [],
   "source": [
    "nw_mobility = nw_mobility.dropna(subset='county')"
   ]
  },
  {
   "cell_type": "code",
   "execution_count": 5,
   "id": "f1241425-0d05-4bf2-a34d-7c351850b373",
   "metadata": {},
   "outputs": [],
   "source": [
    "nw_mobility['location'] = nw_mobility['county'] + ', ' + nw_mobility['state']"
   ]
  },
  {
   "cell_type": "code",
   "execution_count": 6,
   "id": "6e24394c-58ec-4777-adfd-912d6d637095",
   "metadata": {},
   "outputs": [
    {
     "data": {
      "text/plain": [
       "array(['Alberni-Clayoquot', 'Bulkley-Nechako', 'Capital', 'Cariboo',\n",
       "       'Central Kootenay', 'Central Okanagan', 'Columbia-Shuswap',\n",
       "       'Comox Valley', 'Cowichan Valley', 'East Kootenay',\n",
       "       'Fraser Valley', 'Fraser-Fort George', 'Kitimat-Stikine',\n",
       "       'Kootenay Boundary', 'Metro Vancouver', 'Mount Waddington',\n",
       "       'Nanaimo', 'North Coast', 'North Okanagan', 'Okanagan-Similkameen',\n",
       "       'Peace River', 'qathet Regional District', 'Squamish-Lillooet',\n",
       "       'Strathcona', 'Sunshine Coast Regional District',\n",
       "       'Thompson-Nicola'], dtype=object)"
      ]
     },
     "execution_count": 6,
     "metadata": {},
     "output_type": "execute_result"
    }
   ],
   "source": [
    "nw_mobility[nw_mobility['state'] == 'British Columbia']['county'].unique()"
   ]
  },
  {
   "cell_type": "code",
   "execution_count": 7,
   "id": "f4359d25-af4b-40ec-8201-7347d7ed4601",
   "metadata": {},
   "outputs": [],
   "source": [
    "nw_mobility['date'] = pd.to_datetime(nw_mobility['date'])"
   ]
  },
  {
   "cell_type": "code",
   "execution_count": 8,
   "id": "480f2f8e-31d1-4e67-9a41-81b68d3cab51",
   "metadata": {},
   "outputs": [],
   "source": [
    "nw_mobility['year'] = [x.year for x in nw_mobility['date']]"
   ]
  },
  {
   "cell_type": "code",
   "execution_count": 9,
   "id": "4184f0d1-e35d-45bd-be17-f938e86b260a",
   "metadata": {},
   "outputs": [
    {
     "data": {
      "text/html": [
       "<div>\n",
       "<style scoped>\n",
       "    .dataframe tbody tr th:only-of-type {\n",
       "        vertical-align: middle;\n",
       "    }\n",
       "\n",
       "    .dataframe tbody tr th {\n",
       "        vertical-align: top;\n",
       "    }\n",
       "\n",
       "    .dataframe thead th {\n",
       "        text-align: right;\n",
       "    }\n",
       "</style>\n",
       "<table border=\"1\" class=\"dataframe\">\n",
       "  <thead>\n",
       "    <tr style=\"text-align: right;\">\n",
       "      <th></th>\n",
       "      <th>count</th>\n",
       "      <th>mean</th>\n",
       "      <th>std</th>\n",
       "      <th>min</th>\n",
       "      <th>25%</th>\n",
       "      <th>50%</th>\n",
       "      <th>75%</th>\n",
       "      <th>max</th>\n",
       "    </tr>\n",
       "    <tr>\n",
       "      <th>year</th>\n",
       "      <th></th>\n",
       "      <th></th>\n",
       "      <th></th>\n",
       "      <th></th>\n",
       "      <th></th>\n",
       "      <th></th>\n",
       "      <th></th>\n",
       "      <th></th>\n",
       "    </tr>\n",
       "  </thead>\n",
       "  <tbody>\n",
       "    <tr>\n",
       "      <th>2020</th>\n",
       "      <td>34246.0</td>\n",
       "      <td>8.391257</td>\n",
       "      <td>6.318755</td>\n",
       "      <td>-7.0</td>\n",
       "      <td>4.0</td>\n",
       "      <td>8.0</td>\n",
       "      <td>12.0</td>\n",
       "      <td>37.0</td>\n",
       "    </tr>\n",
       "    <tr>\n",
       "      <th>2021</th>\n",
       "      <td>43782.0</td>\n",
       "      <td>5.519666</td>\n",
       "      <td>4.721171</td>\n",
       "      <td>-10.0</td>\n",
       "      <td>2.0</td>\n",
       "      <td>5.0</td>\n",
       "      <td>8.0</td>\n",
       "      <td>34.0</td>\n",
       "    </tr>\n",
       "    <tr>\n",
       "      <th>2022</th>\n",
       "      <td>34591.0</td>\n",
       "      <td>3.433986</td>\n",
       "      <td>3.661568</td>\n",
       "      <td>-8.0</td>\n",
       "      <td>1.0</td>\n",
       "      <td>3.0</td>\n",
       "      <td>5.0</td>\n",
       "      <td>29.0</td>\n",
       "    </tr>\n",
       "  </tbody>\n",
       "</table>\n",
       "</div>"
      ],
      "text/plain": [
       "        count      mean       std   min  25%  50%   75%   max\n",
       "year                                                         \n",
       "2020  34246.0  8.391257  6.318755  -7.0  4.0  8.0  12.0  37.0\n",
       "2021  43782.0  5.519666  4.721171 -10.0  2.0  5.0   8.0  34.0\n",
       "2022  34591.0  3.433986  3.661568  -8.0  1.0  3.0   5.0  29.0"
      ]
     },
     "execution_count": 9,
     "metadata": {},
     "output_type": "execute_result"
    }
   ],
   "source": [
    "nw_mobility.groupby('year')['residential'].describe()"
   ]
  },
  {
   "cell_type": "code",
   "execution_count": 10,
   "id": "66e9c90e-2b50-498f-98c8-b9e6a5a924db",
   "metadata": {},
   "outputs": [],
   "source": [
    "nw_mobility.replace('Sunshine Coast Regional District', \"Sunshine Coast\", inplace=True)\n",
    "nw_mobility.replace('Metro Vancouver', \"Greater Vancouver\", inplace=True)\n",
    "nw_mobility['location'] = nw_mobility['county'] + ', ' + nw_mobility['state']\n",
    "\n"
   ]
  },
  {
   "cell_type": "code",
   "execution_count": 11,
   "id": "b955e8fd-f7f1-4072-b341-5c29b6dd8f4a",
   "metadata": {},
   "outputs": [
    {
     "data": {
      "text/plain": [
       "152"
      ]
     },
     "execution_count": 11,
     "metadata": {},
     "output_type": "execute_result"
    }
   ],
   "source": [
    "len(nw_mobility['location'].unique())"
   ]
  },
  {
   "cell_type": "code",
   "execution_count": 12,
   "id": "eccebc26-68d3-40fe-85b8-462b7676f2ea",
   "metadata": {},
   "outputs": [],
   "source": [
    "nw_mobility.replace('Sunshine Coast Regional District', \"Sunshine Coast\", inplace=True)\n",
    "nw_mobility.replace('Metro Vancouver', \"Greater Vancouver\", inplace=True)\n",
    "nw_mobility['location'] = nw_mobility['county'] + ', ' + nw_mobility['state']\n"
   ]
  },
  {
   "cell_type": "markdown",
   "id": "7db56c9f-e4a3-4eea-bb58-1e1186c795e2",
   "metadata": {},
   "source": [
    "### Load/Clean/Format Heatwave - Control Data"
   ]
  },
  {
   "cell_type": "code",
   "execution_count": 13,
   "id": "5102158f-5eb6-4bf6-85fa-2e89dded36cc",
   "metadata": {},
   "outputs": [],
   "source": [
    "heatwave_control = pd.read_csv('/Users/shivyucel/Documents/projects/DPhil/Code_Data/data/heatwave_control/heatwave_control_clean_90_v1.csv')"
   ]
  },
  {
   "cell_type": "code",
   "execution_count": 14,
   "id": "5f2afa5e-06df-4475-8a5a-d866d824e70d",
   "metadata": {},
   "outputs": [],
   "source": [
    "heatwave_control.rename(columns={'datetime': 'date'}, inplace=True)"
   ]
  },
  {
   "cell_type": "code",
   "execution_count": 15,
   "id": "fe24eff3-f42a-41c6-844b-18795bd60332",
   "metadata": {},
   "outputs": [],
   "source": [
    "heatwave_control['control_day'] = [parse(x) for x in heatwave_control['control_day']]\n",
    "heatwave_control['date'] = [parse(x) for x in heatwave_control['date']]"
   ]
  },
  {
   "cell_type": "code",
   "execution_count": 16,
   "id": "f50b72fe-64ff-478e-b53b-4bb1f6d3302a",
   "metadata": {},
   "outputs": [],
   "source": [
    "heatwave_control['diff'] = (heatwave_control['date'] - heatwave_control['control_day'])"
   ]
  },
  {
   "cell_type": "code",
   "execution_count": 17,
   "id": "45596f75-c24e-4132-8cde-24e89177c39a",
   "metadata": {},
   "outputs": [
    {
     "data": {
      "text/plain": [
       "count                         7461\n",
       "mean     9 days 12:11:17.442702050\n",
       "std      6 days 20:52:42.872739346\n",
       "min             -14 days +00:00:00\n",
       "25%                7 days 00:00:00\n",
       "50%                7 days 00:00:00\n",
       "75%               14 days 00:00:00\n",
       "max               49 days 00:00:00\n",
       "Name: diff, dtype: object"
      ]
     },
     "execution_count": 17,
     "metadata": {},
     "output_type": "execute_result"
    }
   ],
   "source": [
    "heatwave_control['diff'].describe()"
   ]
  },
  {
   "cell_type": "code",
   "execution_count": 18,
   "id": "12aa61f2-c3dd-4c16-bf33-cf668e36ce62",
   "metadata": {},
   "outputs": [
    {
     "name": "stderr",
     "output_type": "stream",
     "text": [
      "/var/folders/8g/qp1k_1g91m5f2m9pypxwxdhh0000gn/T/ipykernel_37575/2860178666.py:1: UserWarning: \n",
      "\n",
      "`distplot` is a deprecated function and will be removed in seaborn v0.14.0.\n",
      "\n",
      "Please adapt your code to use either `displot` (a figure-level function with\n",
      "similar flexibility) or `histplot` (an axes-level function for histograms).\n",
      "\n",
      "For a guide to updating your code to use the new functions, please see\n",
      "https://gist.github.com/mwaskom/de44147ed2974457ad6372750bbe5751\n",
      "\n",
      "  sns.distplot(heatwave_control['diff'].dt.days)\n"
     ]
    },
    {
     "data": {
      "text/plain": [
       "Text(0, 0.5, 'Heat and Control Difference')"
      ]
     },
     "execution_count": 18,
     "metadata": {},
     "output_type": "execute_result"
    },
    {
     "data": {
      "image/png": "[encoded data removed]",
      "text/plain": [
       "<Figure size 640x480 with 1 Axes>"
      ]
     },
     "metadata": {},
     "output_type": "display_data"
    }
   ],
   "source": [
    "sns.distplot(heatwave_control['diff'].dt.days)\n",
    "plt.ylabel(\"Heat and Control Difference\")"
   ]
  },
  {
   "cell_type": "code",
   "execution_count": 19,
   "id": "787f92c7-12d7-4c9e-9346-c91ce7f73f31",
   "metadata": {},
   "outputs": [
    {
     "name": "stderr",
     "output_type": "stream",
     "text": [
      "/var/folders/8g/qp1k_1g91m5f2m9pypxwxdhh0000gn/T/ipykernel_37575/4142719573.py:2: SettingWithCopyWarning: \n",
      "A value is trying to be set on a copy of a slice from a DataFrame.\n",
      "Try using .loc[row_indexer,col_indexer] = value instead\n",
      "\n",
      "See the caveats in the documentation: https://pandas.pydata.org/pandas-docs/stable/user_guide/indexing.html#returning-a-view-versus-a-copy\n",
      "  us_heatwave_control['county'] = us_heatwave_control['county'] + ' County'\n",
      "/var/folders/8g/qp1k_1g91m5f2m9pypxwxdhh0000gn/T/ipykernel_37575/4142719573.py:3: SettingWithCopyWarning: \n",
      "A value is trying to be set on a copy of a slice from a DataFrame.\n",
      "Try using .loc[row_indexer,col_indexer] = value instead\n",
      "\n",
      "See the caveats in the documentation: https://pandas.pydata.org/pandas-docs/stable/user_guide/indexing.html#returning-a-view-versus-a-copy\n",
      "  us_heatwave_control['location'] = us_heatwave_control['county'] + ', ' + us_heatwave_control['state']\n",
      "/var/folders/8g/qp1k_1g91m5f2m9pypxwxdhh0000gn/T/ipykernel_37575/4142719573.py:6: SettingWithCopyWarning: \n",
      "A value is trying to be set on a copy of a slice from a DataFrame.\n",
      "Try using .loc[row_indexer,col_indexer] = value instead\n",
      "\n",
      "See the caveats in the documentation: https://pandas.pydata.org/pandas-docs/stable/user_guide/indexing.html#returning-a-view-versus-a-copy\n",
      "  ca_heatwave_control['location'] = ca_heatwave_control['county'] + ', ' + ca_heatwave_control['state']\n",
      "/var/folders/8g/qp1k_1g91m5f2m9pypxwxdhh0000gn/T/ipykernel_37575/4142719573.py:8: FutureWarning: The frame.append method is deprecated and will be removed from pandas in a future version. Use pandas.concat instead.\n",
      "  nw_heatwave_control = us_heatwave_control.append(ca_heatwave_control)\n"
     ]
    }
   ],
   "source": [
    "us_heatwave_control = heatwave_control[heatwave_control['state'].isin(['California', 'Oregon', 'Washington'])]\n",
    "us_heatwave_control['county'] = us_heatwave_control['county'] + ' County'\n",
    "us_heatwave_control['location'] = us_heatwave_control['county'] + ', ' + us_heatwave_control['state']\n",
    "\n",
    "ca_heatwave_control = heatwave_control[heatwave_control['state'] == 'British Columbia']\n",
    "ca_heatwave_control['location'] = ca_heatwave_control['county'] + ', ' + ca_heatwave_control['state']\n",
    "\n",
    "nw_heatwave_control = us_heatwave_control.append(ca_heatwave_control)"
   ]
  },
  {
   "cell_type": "code",
   "execution_count": 20,
   "id": "4f7fb9ab-2ebb-407b-ae80-e3901cf68b9d",
   "metadata": {},
   "outputs": [],
   "source": [
    "#nw_heatwave_control.to_csv('/Users/shivyucel/Documents/projects/DPhil/Code_Data/data/heatwave_control/simple_format_heatwave_control_v6_95.csv')"
   ]
  },
  {
   "cell_type": "markdown",
   "id": "bf1fb5a0-5c1a-464f-a38b-3ca333e0ec19",
   "metadata": {},
   "source": [
    "### Merge Mobility with Heat Data"
   ]
  },
  {
   "cell_type": "code",
   "execution_count": 21,
   "id": "4a78d01a-272f-4594-9440-639c792b5942",
   "metadata": {},
   "outputs": [],
   "source": [
    "nw_mobility.drop_duplicates(['location', 'date'], inplace=True)"
   ]
  },
  {
   "cell_type": "code",
   "execution_count": 22,
   "id": "0925d0d6-3ed2-4ba6-b9dd-8a4824f5fa70",
   "metadata": {
    "tags": []
   },
   "outputs": [],
   "source": [
    "mobility_heat = nw_mobility.merge(nw_heatwave_control[['control_day', 'temperature_2m', 'location', 'date', 'heat_ID']], on=['location', 'date'])"
   ]
  },
  {
   "cell_type": "code",
   "execution_count": 23,
   "id": "317ec5b7-f1cf-431d-ba21-b891e4644118",
   "metadata": {},
   "outputs": [],
   "source": [
    "#merge mobility data associated with control dates\n",
    "mobility_heat = mobility_heat.merge(nw_mobility[['location', 'date', 'retail', 'grocery_pharmacy', 'parks', 'transit', 'workplaces', 'residential']], left_on=['location', 'control_day'], right_on=['location', 'date'], suffixes=['_heat', '_control'])"
   ]
  },
  {
   "cell_type": "code",
   "execution_count": 24,
   "id": "0c91f7d3-cf1d-4735-80ad-a0333aec0d13",
   "metadata": {},
   "outputs": [],
   "source": [
    "#calculate differences between heat and control \n",
    "mobility_heat['retail_difference'] = mobility_heat['retail_heat'] - mobility_heat['retail_control']\n",
    "mobility_heat['grocery_pharmacy_difference'] = mobility_heat['grocery_pharmacy_heat'] - mobility_heat['grocery_pharmacy_control']\n",
    "mobility_heat['parks_difference'] = mobility_heat['parks_heat'] - mobility_heat['parks_control']\n",
    "mobility_heat['transit_difference'] = mobility_heat['transit_heat'] - mobility_heat['transit_control']\n",
    "mobility_heat['workplaces_difference'] = mobility_heat['workplaces_heat'] - mobility_heat['workplaces_control']\n",
    "mobility_heat['residential_difference'] = mobility_heat['residential_heat'] - mobility_heat['residential_control']"
   ]
  },
  {
   "cell_type": "code",
   "execution_count": 25,
   "id": "529e040d-acd4-4cee-a4f1-3af5169b448c",
   "metadata": {},
   "outputs": [],
   "source": [
    "mobility_heat['day_of_week'] = [x.day_of_week for x in mobility_heat['date_heat']]\n",
    "mobility_heat['weekend'] = [1 if x in [5,6] else 0 for x in mobility_heat['day_of_week']]"
   ]
  },
  {
   "cell_type": "code",
   "execution_count": 26,
   "id": "f6673b21-0a56-4ad3-babe-67422f4950a6",
   "metadata": {},
   "outputs": [],
   "source": [
    "mobility_heat.reset_index(drop=True,inplace=True)"
   ]
  },
  {
   "cell_type": "code",
   "execution_count": 27,
   "id": "de801a65-18e2-4ff0-b2ca-0606e20fe1ce",
   "metadata": {},
   "outputs": [],
   "source": [
    "mobility_heat.to_csv(data_path + 'mobility_heat/mobility_heat_clean_90_v1.csv')"
   ]
  },
  {
   "cell_type": "code",
   "execution_count": null,
   "id": "c8eadac3-6235-48e2-9d64-e1ada963acb7",
   "metadata": {},
   "outputs": [],
   "source": []
  }
 ],
 "metadata": {
  "kernelspec": {
   "display_name": "Python 3 (ipykernel)",
   "language": "python",
   "name": "python3"
  },
  "language_info": {
   "codemirror_mode": {
    "name": "ipython",
    "version": 3
   },
   "file_extension": ".py",
   "mimetype": "text/x-python",
   "name": "python",
   "nbconvert_exporter": "python",
   "pygments_lexer": "ipython3",
   "version": "3.10.9"
  }
 },
 "nbformat": 4,
 "nbformat_minor": 5
}
