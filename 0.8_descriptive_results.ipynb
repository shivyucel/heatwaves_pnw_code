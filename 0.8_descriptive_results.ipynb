{
 "cells": [
  {
   "cell_type": "code",
   "execution_count": 4,
   "id": "0227d457-1b04-4f65-8df5-e8c608249636",
   "metadata": {},
   "outputs": [
    {
     "name": "stderr",
     "output_type": "stream",
     "text": [
      "/var/folders/8g/qp1k_1g91m5f2m9pypxwxdhh0000gn/T/ipykernel_99296/3986780640.py:8: DeprecationWarning: Please use `pearsonr` from the `scipy.stats` namespace, the `scipy.stats.stats` namespace is deprecated.\n",
      "  from scipy.stats.stats import pearsonr\n"
     ]
    }
   ],
   "source": [
    "import pandas as pd\n",
    "import geopandas as gpd\n",
    "import matplotlib.pyplot as plt\n",
    "import seaborn as sns\n",
    "sns.set_style('darkgrid')\n",
    "from scipy.stats import ttest_ind\n",
    "import numpy as np\n",
    "from scipy.stats.stats import pearsonr\n",
    "from IPython.display import display, Markdown, Latex\n",
    "plt.style.use('ggplot')\n",
    "from datetime import date\n",
    "from statsmodels.stats.outliers_influence import variance_inflation_factor\n",
    "from scipy.stats import norm\n",
    "from seaborn_qqplot import pplot\n",
    "import statsmodels.api as sm\n",
    "import statsmodels.formula.api as smf\n",
    "import numpy as np\n",
    "import pandas\n",
    "\n",
    "import geopandas as gpd\n",
    "from matplotlib_scalebar.scalebar import ScaleBar\n",
    "data_path = '/Users/shivyucel/Documents/projects/DPhil/Code_Data/data/'"
   ]
  },
  {
   "cell_type": "code",
   "execution_count": 5,
   "id": "ed006bb6-b912-4c4e-9945-5e36ae940303",
   "metadata": {},
   "outputs": [],
   "source": [
    "clean_nw = gpd.read_file(data_path + 'nw_clean_shape/nw_clean_shape.shp')"
   ]
  },
  {
   "cell_type": "code",
   "execution_count": 6,
   "id": "92e5c738-ec30-476e-a621-dc2e5953f98b",
   "metadata": {},
   "outputs": [],
   "source": [
    "clean_nw = clean_nw.dissolve(by='location')"
   ]
  },
  {
   "cell_type": "code",
   "execution_count": 7,
   "id": "b0d3414b-2f89-4447-a0dc-56df1d263429",
   "metadata": {},
   "outputs": [],
   "source": [
    "heatwave_control = pd.read_csv(data_path + \"mobility_heat/final_multivariate_clean_90.csv\")"
   ]
  },
  {
   "cell_type": "markdown",
   "id": "5a18a63e-b308-445e-ae73-cac25991ab45",
   "metadata": {},
   "source": [
    "## Heat-control days difference"
   ]
  },
  {
   "cell_type": "code",
   "execution_count": 60,
   "id": "16b90f32-e77c-4887-879b-75ce3234d816",
   "metadata": {},
   "outputs": [
    {
     "data": {
      "text/html": [
       "<div>\n",
       "<style scoped>\n",
       "    .dataframe tbody tr th:only-of-type {\n",
       "        vertical-align: middle;\n",
       "    }\n",
       "\n",
       "    .dataframe tbody tr th {\n",
       "        vertical-align: top;\n",
       "    }\n",
       "\n",
       "    .dataframe thead th {\n",
       "        text-align: right;\n",
       "    }\n",
       "</style>\n",
       "<table border=\"1\" class=\"dataframe\">\n",
       "  <thead>\n",
       "    <tr style=\"text-align: right;\">\n",
       "      <th></th>\n",
       "      <th>count</th>\n",
       "      <th>unique</th>\n",
       "      <th>top</th>\n",
       "      <th>freq</th>\n",
       "    </tr>\n",
       "    <tr>\n",
       "      <th>state</th>\n",
       "      <th></th>\n",
       "      <th></th>\n",
       "      <th></th>\n",
       "      <th></th>\n",
       "    </tr>\n",
       "  </thead>\n",
       "  <tbody>\n",
       "    <tr>\n",
       "      <th>British Columbia</th>\n",
       "      <td>1249</td>\n",
       "      <td>24</td>\n",
       "      <td>East Kootenay, British Columbia</td>\n",
       "      <td>62</td>\n",
       "    </tr>\n",
       "    <tr>\n",
       "      <th>California</th>\n",
       "      <td>2656</td>\n",
       "      <td>56</td>\n",
       "      <td>Tulare County, California</td>\n",
       "      <td>65</td>\n",
       "    </tr>\n",
       "    <tr>\n",
       "      <th>Oregon</th>\n",
       "      <td>1659</td>\n",
       "      <td>34</td>\n",
       "      <td>Deschutes County, Oregon</td>\n",
       "      <td>63</td>\n",
       "    </tr>\n",
       "    <tr>\n",
       "      <th>Washington</th>\n",
       "      <td>1819</td>\n",
       "      <td>36</td>\n",
       "      <td>Benton County, Washington</td>\n",
       "      <td>67</td>\n",
       "    </tr>\n",
       "  </tbody>\n",
       "</table>\n",
       "</div>"
      ],
      "text/plain": [
       "                 count unique                              top freq\n",
       "state                                                              \n",
       "British Columbia  1249     24  East Kootenay, British Columbia   62\n",
       "California        2656     56        Tulare County, California   65\n",
       "Oregon            1659     34         Deschutes County, Oregon   63\n",
       "Washington        1819     36        Benton County, Washington   67"
      ]
     },
     "execution_count": 60,
     "metadata": {},
     "output_type": "execute_result"
    }
   ],
   "source": [
    "heatwave_control.groupby('state')['location'].describe()"
   ]
  },
  {
   "cell_type": "code",
   "execution_count": 14,
   "id": "62184a44-c419-4444-9a32-7ebca0abd49e",
   "metadata": {},
   "outputs": [],
   "source": [
    "heatwave_control['date_heat'] = pd.to_datetime(heatwave_control['date_heat'])"
   ]
  },
  {
   "cell_type": "code",
   "execution_count": 15,
   "id": "f9e19c0f-7bf9-4ceb-a96f-bc2777671a30",
   "metadata": {},
   "outputs": [],
   "source": [
    "heatwave_control['control_day'] = pd.to_datetime(heatwave_control['control_day'])"
   ]
  },
  {
   "cell_type": "code",
   "execution_count": 21,
   "id": "a5896e28-d98b-4c3c-826a-dc9074a6c8f0",
   "metadata": {},
   "outputs": [],
   "source": [
    "heatwave_control['date_diff'] = pd.Series(heatwave_control['date_heat'] - heatwave_control['control_day'])"
   ]
  },
  {
   "cell_type": "code",
   "execution_count": 29,
   "id": "f3843379-a6b7-438a-9b5b-d39f0fd1da07",
   "metadata": {},
   "outputs": [],
   "source": [
    "heatwave_control['date_diff'] = [x.days for x in heatwave_control['date_diff']]"
   ]
  },
  {
   "cell_type": "code",
   "execution_count": 32,
   "id": "118b50d3-2878-4aca-9e97-55d870b514ce",
   "metadata": {},
   "outputs": [
    {
     "data": {
      "text/plain": [
       "count    7383.000000\n",
       "mean       10.586753\n",
       "std         5.350340\n",
       "min         7.000000\n",
       "25%         7.000000\n",
       "50%         7.000000\n",
       "75%        14.000000\n",
       "max        49.000000\n",
       "Name: date_diff, dtype: float64"
      ]
     },
     "execution_count": 32,
     "metadata": {},
     "output_type": "execute_result"
    }
   ],
   "source": [
    "abs(heatwave_control['date_diff']).describe()"
   ]
  },
  {
   "cell_type": "markdown",
   "id": "a287f0ec-1109-4fba-a20d-ad86da43c8b1",
   "metadata": {},
   "source": [
    "## Methods section avg variable"
   ]
  },
  {
   "cell_type": "code",
   "execution_count": 34,
   "id": "1cd9fdb8-1cab-4ca5-9081-d4779b7e8457",
   "metadata": {},
   "outputs": [
    {
     "data": {
      "text/plain": [
       "count    7383.000000\n",
       "mean       33.835304\n",
       "std         4.978163\n",
       "min        19.266854\n",
       "25%        30.337531\n",
       "50%        34.054471\n",
       "75%        37.210617\n",
       "max        47.154137\n",
       "Name: temperature_2m_heat, dtype: float64"
      ]
     },
     "execution_count": 34,
     "metadata": {},
     "output_type": "execute_result"
    }
   ],
   "source": [
    "heatwave_control['temperature_2m_heat'].describe()"
   ]
  },
  {
   "cell_type": "code",
   "execution_count": 35,
   "id": "4882423e-ee8f-4e3c-94ad-189dcec97662",
   "metadata": {},
   "outputs": [
    {
     "data": {
      "text/plain": [
       "count    7383.000000\n",
       "mean        7.852157\n",
       "std         3.777522\n",
       "min         1.303160\n",
       "25%         5.052800\n",
       "50%         7.175871\n",
       "75%         9.928045\n",
       "max        25.339561\n",
       "Name: temp_diff, dtype: float64"
      ]
     },
     "execution_count": 35,
     "metadata": {},
     "output_type": "execute_result"
    }
   ],
   "source": [
    "heatwave_control['temp_diff'].describe()"
   ]
  },
  {
   "cell_type": "code",
   "execution_count": 37,
   "id": "be36485d-5f68-4930-97be-4b2356f99411",
   "metadata": {},
   "outputs": [
    {
     "data": {
      "text/plain": [
       "count    150.000000\n",
       "mean       3.670919\n",
       "std        5.495883\n",
       "min      -16.389372\n",
       "25%        0.942652\n",
       "50%        4.453752\n",
       "75%        7.436603\n",
       "max       14.461462\n",
       "Name: temperature_2m_winter, dtype: float64"
      ]
     },
     "execution_count": 37,
     "metadata": {},
     "output_type": "execute_result"
    }
   ],
   "source": [
    "heatwave_control.drop_duplicates('location')['temperature_2m_winter'].describe()"
   ]
  },
  {
   "cell_type": "code",
   "execution_count": 40,
   "id": "d96e8aa5-8824-498d-9c9d-eb85f9dbec86",
   "metadata": {},
   "outputs": [
    {
     "data": {
      "text/plain": [
       "2022    764\n",
       "2021    745\n",
       "2020    524\n",
       "Name: year, dtype: int64"
      ]
     },
     "execution_count": 40,
     "metadata": {},
     "output_type": "execute_result"
    }
   ],
   "source": [
    "heatwave_control.drop_duplicates('heat_ID')['year'].value_counts()"
   ]
  },
  {
   "cell_type": "code",
   "execution_count": 43,
   "id": "29b49fc2-5663-4cc6-a448-277ef0946652",
   "metadata": {},
   "outputs": [
    {
     "data": {
      "text/plain": [
       "count    2033.000000\n",
       "mean        0.145598\n",
       "std         0.352789\n",
       "min         0.000000\n",
       "25%         0.000000\n",
       "50%         0.000000\n",
       "75%         0.000000\n",
       "max         1.000000\n",
       "Name: june_hw, dtype: float64"
      ]
     },
     "execution_count": 43,
     "metadata": {},
     "output_type": "execute_result"
    }
   ],
   "source": [
    "heatwave_control.drop_duplicates('heat_ID')['june_hw'].describe()"
   ]
  },
  {
   "cell_type": "code",
   "execution_count": 45,
   "id": "fdb658ab-472f-4c5c-adda-fa7adf1db799",
   "metadata": {},
   "outputs": [
    {
     "data": {
      "text/plain": [
       "<5 days     1485\n",
       ">=5 days     548\n",
       "Name: heatwave_dur, dtype: int64"
      ]
     },
     "execution_count": 45,
     "metadata": {},
     "output_type": "execute_result"
    }
   ],
   "source": [
    "heatwave_control.drop_duplicates('heat_ID')['heatwave_dur'].value_counts()"
   ]
  },
  {
   "cell_type": "code",
   "execution_count": 46,
   "id": "811830c6-4c77-4497-99f9-063cb12cf9d0",
   "metadata": {},
   "outputs": [
    {
     "data": {
      "text/plain": [
       "count    7383.000000\n",
       "mean       63.109664\n",
       "std        28.408363\n",
       "min         8.333333\n",
       "25%        40.000000\n",
       "50%        62.500000\n",
       "75%       100.000000\n",
       "max       100.000000\n",
       "Name: stage_frac, dtype: float64"
      ]
     },
     "execution_count": 46,
     "metadata": {},
     "output_type": "execute_result"
    }
   ],
   "source": [
    "heatwave_control['stage_frac'].describe()"
   ]
  },
  {
   "cell_type": "code",
   "execution_count": 47,
   "id": "a8f7534f-97a9-4305-8607-9f27144f4e3f",
   "metadata": {},
   "outputs": [
    {
     "data": {
      "text/plain": [
       "count    7383.000000\n",
       "mean        0.274008\n",
       "std         0.446043\n",
       "min         0.000000\n",
       "25%         0.000000\n",
       "50%         0.000000\n",
       "75%         1.000000\n",
       "max         1.000000\n",
       "Name: weekend, dtype: float64"
      ]
     },
     "execution_count": 47,
     "metadata": {},
     "output_type": "execute_result"
    }
   ],
   "source": [
    "heatwave_control['weekend'].describe()"
   ]
  },
  {
   "cell_type": "code",
   "execution_count": 48,
   "id": "b966b5cc-5ee2-44ac-8ad4-fb8ac5a321ea",
   "metadata": {},
   "outputs": [
    {
     "data": {
      "text/plain": [
       "count    150.000000\n",
       "mean       0.300000\n",
       "std        0.459793\n",
       "min        0.000000\n",
       "25%        0.000000\n",
       "50%        0.000000\n",
       "75%        1.000000\n",
       "max        1.000000\n",
       "Name: coast_binary, dtype: float64"
      ]
     },
     "execution_count": 48,
     "metadata": {},
     "output_type": "execute_result"
    }
   ],
   "source": [
    "heatwave_control.drop_duplicates('location')['coast_binary'].describe()"
   ]
  },
  {
   "cell_type": "code",
   "execution_count": 49,
   "id": "ee6080d6-8655-494e-82c9-852f17561015",
   "metadata": {},
   "outputs": [
    {
     "data": {
      "text/plain": [
       "count    150.000000\n",
       "mean       5.773333\n",
       "std        2.800160\n",
       "min        1.000000\n",
       "25%        3.000000\n",
       "50%        6.000000\n",
       "75%        8.000000\n",
       "max       10.000000\n",
       "Name: popdens_dec, dtype: float64"
      ]
     },
     "execution_count": 49,
     "metadata": {},
     "output_type": "execute_result"
    }
   ],
   "source": [
    "heatwave_control.drop_duplicates('location')['popdens_dec'].describe()"
   ]
  },
  {
   "cell_type": "code",
   "execution_count": 50,
   "id": "e529e758-f674-4485-a1c6-15ee6b7e7f93",
   "metadata": {},
   "outputs": [
    {
     "data": {
      "text/plain": [
       "count    150.000000\n",
       "mean       5.606667\n",
       "std        2.914662\n",
       "min        1.000000\n",
       "25%        3.000000\n",
       "50%        6.000000\n",
       "75%        8.000000\n",
       "max       10.000000\n",
       "Name: income_dec, dtype: float64"
      ]
     },
     "execution_count": 50,
     "metadata": {},
     "output_type": "execute_result"
    }
   ],
   "source": [
    "heatwave_control.drop_duplicates('location')['income_dec'].describe()"
   ]
  },
  {
   "cell_type": "code",
   "execution_count": 51,
   "id": "d48e28f9-fad7-4fce-a82d-6fd0848e6e5b",
   "metadata": {},
   "outputs": [
    {
     "data": {
      "text/plain": [
       "count    150.000000\n",
       "mean       5.573333\n",
       "std        2.938627\n",
       "min        1.000000\n",
       "25%        3.000000\n",
       "50%        6.000000\n",
       "75%        8.000000\n",
       "max       10.000000\n",
       "Name: nonwhite_dec, dtype: float64"
      ]
     },
     "execution_count": 51,
     "metadata": {},
     "output_type": "execute_result"
    }
   ],
   "source": [
    "heatwave_control.drop_duplicates('location')['nonwhite_dec'].describe()"
   ]
  },
  {
   "cell_type": "code",
   "execution_count": 52,
   "id": "3989c307-ab4b-4652-a19b-f3e18e9d7596",
   "metadata": {},
   "outputs": [
    {
     "data": {
      "text/plain": [
       "count    150.000000\n",
       "mean       5.326667\n",
       "std        2.817721\n",
       "min        1.000000\n",
       "25%        3.000000\n",
       "50%        5.000000\n",
       "75%        8.000000\n",
       "max       10.000000\n",
       "Name: over65_dec, dtype: float64"
      ]
     },
     "execution_count": 52,
     "metadata": {},
     "output_type": "execute_result"
    }
   ],
   "source": [
    "heatwave_control.drop_duplicates('location')['over65_dec'].describe()"
   ]
  },
  {
   "cell_type": "markdown",
   "id": "b53a0eeb-6bcd-4092-be69-7bf7d0f1cd50",
   "metadata": {},
   "source": [
    "### Results descriptive statistics"
   ]
  },
  {
   "cell_type": "code",
   "execution_count": 54,
   "id": "595804d7-d382-4eeb-8505-5b0e12a79620",
   "metadata": {},
   "outputs": [
    {
     "data": {
      "text/html": [
       "<div>\n",
       "<style scoped>\n",
       "    .dataframe tbody tr th:only-of-type {\n",
       "        vertical-align: middle;\n",
       "    }\n",
       "\n",
       "    .dataframe tbody tr th {\n",
       "        vertical-align: top;\n",
       "    }\n",
       "\n",
       "    .dataframe thead th {\n",
       "        text-align: right;\n",
       "    }\n",
       "</style>\n",
       "<table border=\"1\" class=\"dataframe\">\n",
       "  <thead>\n",
       "    <tr style=\"text-align: right;\">\n",
       "      <th></th>\n",
       "      <th>count</th>\n",
       "      <th>mean</th>\n",
       "      <th>std</th>\n",
       "      <th>min</th>\n",
       "      <th>25%</th>\n",
       "      <th>50%</th>\n",
       "      <th>75%</th>\n",
       "      <th>max</th>\n",
       "    </tr>\n",
       "    <tr>\n",
       "      <th>state</th>\n",
       "      <th></th>\n",
       "      <th></th>\n",
       "      <th></th>\n",
       "      <th></th>\n",
       "      <th></th>\n",
       "      <th></th>\n",
       "      <th></th>\n",
       "      <th></th>\n",
       "    </tr>\n",
       "  </thead>\n",
       "  <tbody>\n",
       "    <tr>\n",
       "      <th>British Columbia</th>\n",
       "      <td>1249.0</td>\n",
       "      <td>27.950529</td>\n",
       "      <td>3.316384</td>\n",
       "      <td>19.266854</td>\n",
       "      <td>25.864297</td>\n",
       "      <td>27.646685</td>\n",
       "      <td>29.746177</td>\n",
       "      <td>40.556122</td>\n",
       "    </tr>\n",
       "    <tr>\n",
       "      <th>California</th>\n",
       "      <td>2656.0</td>\n",
       "      <td>36.803935</td>\n",
       "      <td>4.222549</td>\n",
       "      <td>24.768563</td>\n",
       "      <td>34.043009</td>\n",
       "      <td>36.818277</td>\n",
       "      <td>39.947818</td>\n",
       "      <td>47.154137</td>\n",
       "    </tr>\n",
       "    <tr>\n",
       "      <th>Oregon</th>\n",
       "      <td>1659.0</td>\n",
       "      <td>33.800141</td>\n",
       "      <td>3.049116</td>\n",
       "      <td>23.828261</td>\n",
       "      <td>32.407309</td>\n",
       "      <td>33.875316</td>\n",
       "      <td>35.520793</td>\n",
       "      <td>44.416451</td>\n",
       "    </tr>\n",
       "    <tr>\n",
       "      <th>Washington</th>\n",
       "      <td>1819.0</td>\n",
       "      <td>33.573476</td>\n",
       "      <td>4.671580</td>\n",
       "      <td>20.540545</td>\n",
       "      <td>30.084286</td>\n",
       "      <td>33.685631</td>\n",
       "      <td>37.084741</td>\n",
       "      <td>46.928690</td>\n",
       "    </tr>\n",
       "  </tbody>\n",
       "</table>\n",
       "</div>"
      ],
      "text/plain": [
       "                   count       mean       std        min        25%  \\\n",
       "state                                                                 \n",
       "British Columbia  1249.0  27.950529  3.316384  19.266854  25.864297   \n",
       "California        2656.0  36.803935  4.222549  24.768563  34.043009   \n",
       "Oregon            1659.0  33.800141  3.049116  23.828261  32.407309   \n",
       "Washington        1819.0  33.573476  4.671580  20.540545  30.084286   \n",
       "\n",
       "                        50%        75%        max  \n",
       "state                                              \n",
       "British Columbia  27.646685  29.746177  40.556122  \n",
       "California        36.818277  39.947818  47.154137  \n",
       "Oregon            33.875316  35.520793  44.416451  \n",
       "Washington        33.685631  37.084741  46.928690  "
      ]
     },
     "execution_count": 54,
     "metadata": {},
     "output_type": "execute_result"
    }
   ],
   "source": [
    "heatwave_control.groupby('state')['temperature_2m_heat'].describe()"
   ]
  },
  {
   "cell_type": "code",
   "execution_count": 56,
   "id": "73b327ae-22e8-4101-a8a4-6bed089db93f",
   "metadata": {},
   "outputs": [
    {
     "data": {
      "text/html": [
       "<div>\n",
       "<style scoped>\n",
       "    .dataframe tbody tr th:only-of-type {\n",
       "        vertical-align: middle;\n",
       "    }\n",
       "\n",
       "    .dataframe tbody tr th {\n",
       "        vertical-align: top;\n",
       "    }\n",
       "\n",
       "    .dataframe thead th {\n",
       "        text-align: right;\n",
       "    }\n",
       "</style>\n",
       "<table border=\"1\" class=\"dataframe\">\n",
       "  <thead>\n",
       "    <tr style=\"text-align: right;\">\n",
       "      <th></th>\n",
       "      <th>count</th>\n",
       "      <th>mean</th>\n",
       "      <th>std</th>\n",
       "      <th>min</th>\n",
       "      <th>25%</th>\n",
       "      <th>50%</th>\n",
       "      <th>75%</th>\n",
       "      <th>max</th>\n",
       "    </tr>\n",
       "    <tr>\n",
       "      <th>state</th>\n",
       "      <th></th>\n",
       "      <th></th>\n",
       "      <th></th>\n",
       "      <th></th>\n",
       "      <th></th>\n",
       "      <th></th>\n",
       "      <th></th>\n",
       "      <th></th>\n",
       "    </tr>\n",
       "  </thead>\n",
       "  <tbody>\n",
       "    <tr>\n",
       "      <th>British Columbia</th>\n",
       "      <td>298.0</td>\n",
       "      <td>4.265101</td>\n",
       "      <td>2.205027</td>\n",
       "      <td>2.0</td>\n",
       "      <td>2.0</td>\n",
       "      <td>4.0</td>\n",
       "      <td>6.0</td>\n",
       "      <td>11.0</td>\n",
       "    </tr>\n",
       "    <tr>\n",
       "      <th>California</th>\n",
       "      <td>721.0</td>\n",
       "      <td>3.812760</td>\n",
       "      <td>2.168500</td>\n",
       "      <td>2.0</td>\n",
       "      <td>2.0</td>\n",
       "      <td>3.0</td>\n",
       "      <td>5.0</td>\n",
       "      <td>11.0</td>\n",
       "    </tr>\n",
       "    <tr>\n",
       "      <th>Oregon</th>\n",
       "      <td>518.0</td>\n",
       "      <td>3.393822</td>\n",
       "      <td>1.841736</td>\n",
       "      <td>2.0</td>\n",
       "      <td>2.0</td>\n",
       "      <td>3.0</td>\n",
       "      <td>4.0</td>\n",
       "      <td>11.0</td>\n",
       "    </tr>\n",
       "    <tr>\n",
       "      <th>Washington</th>\n",
       "      <td>496.0</td>\n",
       "      <td>3.822581</td>\n",
       "      <td>1.926103</td>\n",
       "      <td>2.0</td>\n",
       "      <td>2.0</td>\n",
       "      <td>3.0</td>\n",
       "      <td>5.0</td>\n",
       "      <td>12.0</td>\n",
       "    </tr>\n",
       "  </tbody>\n",
       "</table>\n",
       "</div>"
      ],
      "text/plain": [
       "                  count      mean       std  min  25%  50%  75%   max\n",
       "state                                                                \n",
       "British Columbia  298.0  4.265101  2.205027  2.0  2.0  4.0  6.0  11.0\n",
       "California        721.0  3.812760  2.168500  2.0  2.0  3.0  5.0  11.0\n",
       "Oregon            518.0  3.393822  1.841736  2.0  2.0  3.0  4.0  11.0\n",
       "Washington        496.0  3.822581  1.926103  2.0  2.0  3.0  5.0  12.0"
      ]
     },
     "execution_count": 56,
     "metadata": {},
     "output_type": "execute_result"
    }
   ],
   "source": [
    "heatwave_control.drop_duplicates('heat_ID').groupby('state')['Heat Wave Duration'].describe()"
   ]
  },
  {
   "cell_type": "code",
   "execution_count": 59,
   "id": "87e4a26a-6c76-440e-a436-a4bd30b8633e",
   "metadata": {},
   "outputs": [
    {
     "data": {
      "text/html": [
       "<div>\n",
       "<style scoped>\n",
       "    .dataframe tbody tr th:only-of-type {\n",
       "        vertical-align: middle;\n",
       "    }\n",
       "\n",
       "    .dataframe tbody tr th {\n",
       "        vertical-align: top;\n",
       "    }\n",
       "\n",
       "    .dataframe thead th {\n",
       "        text-align: right;\n",
       "    }\n",
       "</style>\n",
       "<table border=\"1\" class=\"dataframe\">\n",
       "  <thead>\n",
       "    <tr style=\"text-align: right;\">\n",
       "      <th></th>\n",
       "      <th>residential_difference</th>\n",
       "      <th>workplaces_difference</th>\n",
       "      <th>transit_difference</th>\n",
       "      <th>grocery_pharmacy_difference</th>\n",
       "      <th>retail_difference</th>\n",
       "      <th>parks_difference</th>\n",
       "    </tr>\n",
       "  </thead>\n",
       "  <tbody>\n",
       "    <tr>\n",
       "      <th>count</th>\n",
       "      <td>5829.000000</td>\n",
       "      <td>6996.000000</td>\n",
       "      <td>4053.000000</td>\n",
       "      <td>5386.000000</td>\n",
       "      <td>6272.000000</td>\n",
       "      <td>3348.000000</td>\n",
       "    </tr>\n",
       "    <tr>\n",
       "      <th>mean</th>\n",
       "      <td>-0.054555</td>\n",
       "      <td>-0.590766</td>\n",
       "      <td>-0.679250</td>\n",
       "      <td>0.764946</td>\n",
       "      <td>0.415497</td>\n",
       "      <td>-3.985663</td>\n",
       "    </tr>\n",
       "    <tr>\n",
       "      <th>std</th>\n",
       "      <td>1.692501</td>\n",
       "      <td>3.999381</td>\n",
       "      <td>8.014779</td>\n",
       "      <td>6.049570</td>\n",
       "      <td>6.552138</td>\n",
       "      <td>26.289017</td>\n",
       "    </tr>\n",
       "    <tr>\n",
       "      <th>min</th>\n",
       "      <td>-6.000000</td>\n",
       "      <td>-25.000000</td>\n",
       "      <td>-31.000000</td>\n",
       "      <td>-23.000000</td>\n",
       "      <td>-25.000000</td>\n",
       "      <td>-99.000000</td>\n",
       "    </tr>\n",
       "    <tr>\n",
       "      <th>25%</th>\n",
       "      <td>-1.000000</td>\n",
       "      <td>-2.000000</td>\n",
       "      <td>-5.000000</td>\n",
       "      <td>-3.000000</td>\n",
       "      <td>-3.000000</td>\n",
       "      <td>-18.000000</td>\n",
       "    </tr>\n",
       "    <tr>\n",
       "      <th>50%</th>\n",
       "      <td>0.000000</td>\n",
       "      <td>0.000000</td>\n",
       "      <td>-1.000000</td>\n",
       "      <td>0.000000</td>\n",
       "      <td>0.000000</td>\n",
       "      <td>-6.000000</td>\n",
       "    </tr>\n",
       "    <tr>\n",
       "      <th>75%</th>\n",
       "      <td>1.000000</td>\n",
       "      <td>1.000000</td>\n",
       "      <td>3.000000</td>\n",
       "      <td>4.000000</td>\n",
       "      <td>3.000000</td>\n",
       "      <td>6.000000</td>\n",
       "    </tr>\n",
       "    <tr>\n",
       "      <th>max</th>\n",
       "      <td>6.000000</td>\n",
       "      <td>22.000000</td>\n",
       "      <td>30.000000</td>\n",
       "      <td>23.000000</td>\n",
       "      <td>25.000000</td>\n",
       "      <td>99.000000</td>\n",
       "    </tr>\n",
       "  </tbody>\n",
       "</table>\n",
       "</div>"
      ],
      "text/plain": [
       "       residential_difference  workplaces_difference  transit_difference  \\\n",
       "count             5829.000000            6996.000000         4053.000000   \n",
       "mean                -0.054555              -0.590766           -0.679250   \n",
       "std                  1.692501               3.999381            8.014779   \n",
       "min                 -6.000000             -25.000000          -31.000000   \n",
       "25%                 -1.000000              -2.000000           -5.000000   \n",
       "50%                  0.000000               0.000000           -1.000000   \n",
       "75%                  1.000000               1.000000            3.000000   \n",
       "max                  6.000000              22.000000           30.000000   \n",
       "\n",
       "       grocery_pharmacy_difference  retail_difference  parks_difference  \n",
       "count                  5386.000000        6272.000000       3348.000000  \n",
       "mean                      0.764946           0.415497         -3.985663  \n",
       "std                       6.049570           6.552138         26.289017  \n",
       "min                     -23.000000         -25.000000        -99.000000  \n",
       "25%                      -3.000000          -3.000000        -18.000000  \n",
       "50%                       0.000000           0.000000         -6.000000  \n",
       "75%                       4.000000           3.000000          6.000000  \n",
       "max                      23.000000          25.000000         99.000000  "
      ]
     },
     "execution_count": 59,
     "metadata": {},
     "output_type": "execute_result"
    }
   ],
   "source": [
    "heatwave_control[['residential_difference', 'workplaces_difference', 'transit_difference', 'grocery_pharmacy_difference', 'retail_difference', 'parks_difference']].describe()"
   ]
  },
  {
   "cell_type": "markdown",
   "id": "f140adcb-6728-4595-a0b3-dec030fe769b",
   "metadata": {},
   "source": [
    "### State Plot"
   ]
  },
  {
   "cell_type": "code",
   "execution_count": 7,
   "id": "97c04108-71a2-47f7-b088-4154b019bbda",
   "metadata": {},
   "outputs": [],
   "source": [
    "location_temps = pd.DataFrame(heatwave_control.groupby('location')['temperature_2m_heat'].mean()).reset_index()\n",
    "location_temps = gpd.GeoDataFrame(location_temps.merge(clean_nw, on='location'))\n",
    "location_temps.to_crs(epsg=3857, inplace=True)\n",
    "clean_nw.to_crs(epsg=3857, inplace=True)\n",
    "\n"
   ]
  },
  {
   "cell_type": "code",
   "execution_count": 8,
   "id": "e16a4ecc-46da-4f83-a2bf-25b0f203c4b0",
   "metadata": {},
   "outputs": [],
   "source": [
    "import matplotlib.image as img\n",
    "\n",
    "from matplotlib.offsetbox import TextArea, DrawingArea, OffsetImage, AnnotationBbox\n",
    "\n",
    "im=img.imread(r'/Users/shivyucel/Documents/projects/DPhil/Code_Data/misc/north_arrow.jpeg')"
   ]
  },
  {
   "cell_type": "code",
   "execution_count": 9,
   "id": "c9fdb98a-39f0-4deb-bc62-84bfe494731b",
   "metadata": {},
   "outputs": [
    {
     "name": "stderr",
     "output_type": "stream",
     "text": [
      "No artists with labels found to put in legend.  Note that artists whose label start with an underscore are ignored when legend() is called with no argument.\n"
     ]
    },
    {
     "data": {
      "image/png": "[encoded data removed]",
      "text/plain": [
       "<Figure size 640x480 with 2 Axes>"
      ]
     },
     "metadata": {},
     "output_type": "display_data"
    }
   ],
   "source": [
    "sns.set_style('whitegrid')\n",
    "fig, ax = plt.subplots()\n",
    "clean_nw.plot(ax=ax, color='grey')\n",
    "location_temps.plot(column='temperature_2m_heat', legend=True, ax=ax, cmap='inferno', legend_kwds={'shrink': 0.7})\n",
    "ax.add_artist(ScaleBar(1, location='lower left')  )\n",
    "ax.set_yticks([])\n",
    "ax.set_xticks([])\n",
    "ax.legend(loc=(1, .83),\n",
    "          fontsize=15,\n",
    "          frameon=False,\n",
    "          title=\"Mean heat wave \\n temperature (C)\")\n",
    "\n",
    "x, y, arrow_length = 0.27, 0.122, 0.1\n",
    "ax.annotate('N', xy=(x, y), xytext=(x, y-arrow_length),\n",
    "            arrowprops=dict(facecolor='black', width=5, headwidth=10),\n",
    "            ha='center', va='center', fontsize=10,\n",
    "            xycoords=ax.transAxes)\n",
    "\n",
    "\n",
    "plt.tight_layout()\n",
    "plt.savefig(\"/Users/shivyucel/Documents/projects/DPhil/Code_Data/data/results/plots/heat_state_plot_v6.png\", dpi=400)\n"
   ]
  },
  {
   "cell_type": "code",
   "execution_count": 67,
   "id": "b7bea993-ce5d-4c15-b75a-4b66e4f6885b",
   "metadata": {},
   "outputs": [
    {
     "name": "stderr",
     "output_type": "stream",
     "text": [
      "/var/folders/8g/qp1k_1g91m5f2m9pypxwxdhh0000gn/T/ipykernel_28902/2682032165.py:1: UserWarning: Column names longer than 10 characters will be truncated when saved to ESRI Shapefile.\n",
      "  location_temps.to_file('/Users/shivyucel/Documents/projects/DPhil/Code_Data/data/results/plots/state_maps/location_temps.shp')\n"
     ]
    }
   ],
   "source": [
    "location_temps.to_file('/Users/shivyucel/Documents/projects/DPhil/Code_Data/data/results/plots/state_maps/location_temps.shp')"
   ]
  }
 ],
 "metadata": {
  "kernelspec": {
   "display_name": "Python 3 (ipykernel)",
   "language": "python",
   "name": "python3"
  },
  "language_info": {
   "codemirror_mode": {
    "name": "ipython",
    "version": 3
   },
   "file_extension": ".py",
   "mimetype": "text/x-python",
   "name": "python",
   "nbconvert_exporter": "python",
   "pygments_lexer": "ipython3",
   "version": "3.10.9"
  }
 },
 "nbformat": 4,
 "nbformat_minor": 5
}
