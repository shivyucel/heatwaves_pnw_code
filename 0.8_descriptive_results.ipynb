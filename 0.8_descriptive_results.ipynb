{
 "cells": [
  {
   "cell_type": "code",
   "execution_count": 1,
   "id": "0227d457-1b04-4f65-8df5-e8c608249636",
   "metadata": {},
   "outputs": [
    {
     "name": "stderr",
     "output_type": "stream",
     "text": [
      "/var/folders/8g/qp1k_1g91m5f2m9pypxwxdhh0000gn/T/ipykernel_13223/3986780640.py:8: DeprecationWarning: Please use `pearsonr` from the `scipy.stats` namespace, the `scipy.stats.stats` namespace is deprecated.\n",
      "  from scipy.stats.stats import pearsonr\n"
     ]
    }
   ],
   "source": [
    "import pandas as pd\n",
    "import geopandas as gpd\n",
    "import matplotlib.pyplot as plt\n",
    "import seaborn as sns\n",
    "sns.set_style('darkgrid')\n",
    "from scipy.stats import ttest_ind\n",
    "import numpy as np\n",
    "from scipy.stats.stats import pearsonr\n",
    "from IPython.display import display, Markdown, Latex\n",
    "plt.style.use('ggplot')\n",
    "from datetime import date\n",
    "from statsmodels.stats.outliers_influence import variance_inflation_factor\n",
    "from scipy.stats import norm\n",
    "from seaborn_qqplot import pplot\n",
    "import statsmodels.api as sm\n",
    "import statsmodels.formula.api as smf\n",
    "import numpy as np\n",
    "import pandas\n",
    "\n",
    "import geopandas as gpd\n",
    "from matplotlib_scalebar.scalebar import ScaleBar\n",
    "data_path = '/Users/shivyucel/Documents/projects/DPhil/Code_Data/data/'"
   ]
  },
  {
   "cell_type": "code",
   "execution_count": 2,
   "id": "ed006bb6-b912-4c4e-9945-5e36ae940303",
   "metadata": {},
   "outputs": [],
   "source": [
    "clean_nw = gpd.read_file(data_path + 'nw_clean_shape/nw_clean_shape.shp')"
   ]
  },
  {
   "cell_type": "code",
   "execution_count": 3,
   "id": "92e5c738-ec30-476e-a621-dc2e5953f98b",
   "metadata": {},
   "outputs": [],
   "source": [
    "clean_nw = clean_nw.dissolve(by='location')"
   ]
  },
  {
   "cell_type": "code",
   "execution_count": 4,
   "id": "b0d3414b-2f89-4447-a0dc-56df1d263429",
   "metadata": {},
   "outputs": [],
   "source": [
    "heatwave_control = pd.read_csv(data_path + \"mobility_heat/final_multivariate_clean_90_v1.csv\")"
   ]
  },
  {
   "cell_type": "markdown",
   "id": "5a18a63e-b308-445e-ae73-cac25991ab45",
   "metadata": {},
   "source": [
    "## Heat-control days difference"
   ]
  },
  {
   "cell_type": "code",
   "execution_count": 5,
   "id": "16b90f32-e77c-4887-879b-75ce3234d816",
   "metadata": {},
   "outputs": [
    {
     "data": {
      "text/html": [
       "<div>\n",
       "<style scoped>\n",
       "    .dataframe tbody tr th:only-of-type {\n",
       "        vertical-align: middle;\n",
       "    }\n",
       "\n",
       "    .dataframe tbody tr th {\n",
       "        vertical-align: top;\n",
       "    }\n",
       "\n",
       "    .dataframe thead th {\n",
       "        text-align: right;\n",
       "    }\n",
       "</style>\n",
       "<table border=\"1\" class=\"dataframe\">\n",
       "  <thead>\n",
       "    <tr style=\"text-align: right;\">\n",
       "      <th></th>\n",
       "      <th>count</th>\n",
       "      <th>unique</th>\n",
       "      <th>top</th>\n",
       "      <th>freq</th>\n",
       "    </tr>\n",
       "    <tr>\n",
       "      <th>state</th>\n",
       "      <th></th>\n",
       "      <th></th>\n",
       "      <th></th>\n",
       "      <th></th>\n",
       "    </tr>\n",
       "  </thead>\n",
       "  <tbody>\n",
       "    <tr>\n",
       "      <th>British Columbia</th>\n",
       "      <td>1127</td>\n",
       "      <td>24</td>\n",
       "      <td>Central Okanagan, British Columbia</td>\n",
       "      <td>60</td>\n",
       "    </tr>\n",
       "    <tr>\n",
       "      <th>California</th>\n",
       "      <td>2524</td>\n",
       "      <td>56</td>\n",
       "      <td>Siskiyou County, California</td>\n",
       "      <td>60</td>\n",
       "    </tr>\n",
       "    <tr>\n",
       "      <th>Oregon</th>\n",
       "      <td>1430</td>\n",
       "      <td>34</td>\n",
       "      <td>Klamath County, Oregon</td>\n",
       "      <td>65</td>\n",
       "    </tr>\n",
       "    <tr>\n",
       "      <th>Washington</th>\n",
       "      <td>1480</td>\n",
       "      <td>36</td>\n",
       "      <td>Stevens County, Washington</td>\n",
       "      <td>55</td>\n",
       "    </tr>\n",
       "  </tbody>\n",
       "</table>\n",
       "</div>"
      ],
      "text/plain": [
       "                 count unique                                 top freq\n",
       "state                                                                 \n",
       "British Columbia  1127     24  Central Okanagan, British Columbia   60\n",
       "California        2524     56         Siskiyou County, California   60\n",
       "Oregon            1430     34              Klamath County, Oregon   65\n",
       "Washington        1480     36          Stevens County, Washington   55"
      ]
     },
     "execution_count": 5,
     "metadata": {},
     "output_type": "execute_result"
    }
   ],
   "source": [
    "heatwave_control.groupby('state')['location'].describe()"
   ]
  },
  {
   "cell_type": "code",
   "execution_count": 6,
   "id": "62184a44-c419-4444-9a32-7ebca0abd49e",
   "metadata": {},
   "outputs": [],
   "source": [
    "heatwave_control['date_heat'] = pd.to_datetime(heatwave_control['date_heat'])"
   ]
  },
  {
   "cell_type": "code",
   "execution_count": 7,
   "id": "f9e19c0f-7bf9-4ceb-a96f-bc2777671a30",
   "metadata": {},
   "outputs": [],
   "source": [
    "heatwave_control['control_day'] = pd.to_datetime(heatwave_control['control_day'])"
   ]
  },
  {
   "cell_type": "code",
   "execution_count": 8,
   "id": "a5896e28-d98b-4c3c-826a-dc9074a6c8f0",
   "metadata": {},
   "outputs": [],
   "source": [
    "heatwave_control['date_diff'] = pd.Series(heatwave_control['date_heat'] - heatwave_control['control_day'])"
   ]
  },
  {
   "cell_type": "code",
   "execution_count": 9,
   "id": "f3843379-a6b7-438a-9b5b-d39f0fd1da07",
   "metadata": {},
   "outputs": [],
   "source": [
    "heatwave_control['date_diff'] = [x.days for x in heatwave_control['date_diff']]"
   ]
  },
  {
   "cell_type": "code",
   "execution_count": 10,
   "id": "118b50d3-2878-4aca-9e97-55d870b514ce",
   "metadata": {},
   "outputs": [
    {
     "data": {
      "text/plain": [
       "count    6561.000000\n",
       "mean       10.386374\n",
       "std         5.251793\n",
       "min         7.000000\n",
       "25%         7.000000\n",
       "50%         7.000000\n",
       "75%        14.000000\n",
       "max        49.000000\n",
       "Name: date_diff, dtype: float64"
      ]
     },
     "execution_count": 10,
     "metadata": {},
     "output_type": "execute_result"
    }
   ],
   "source": [
    "abs(heatwave_control['date_diff']).describe()"
   ]
  },
  {
   "cell_type": "markdown",
   "id": "a287f0ec-1109-4fba-a20d-ad86da43c8b1",
   "metadata": {},
   "source": [
    "## Methods section avg variable"
   ]
  },
  {
   "cell_type": "code",
   "execution_count": 11,
   "id": "1cd9fdb8-1cab-4ca5-9081-d4779b7e8457",
   "metadata": {},
   "outputs": [
    {
     "data": {
      "text/plain": [
       "count    6561.000000\n",
       "mean       37.338858\n",
       "std         4.939437\n",
       "min        20.359583\n",
       "25%        33.844965\n",
       "50%        37.470132\n",
       "75%        40.985620\n",
       "max        51.490472\n",
       "Name: temperature_2m_heat, dtype: float64"
      ]
     },
     "execution_count": 11,
     "metadata": {},
     "output_type": "execute_result"
    }
   ],
   "source": [
    "heatwave_control['temperature_2m_heat'].describe()"
   ]
  },
  {
   "cell_type": "code",
   "execution_count": 12,
   "id": "4882423e-ee8f-4e3c-94ad-189dcec97662",
   "metadata": {},
   "outputs": [
    {
     "data": {
      "text/plain": [
       "count    6561.000000\n",
       "mean        8.320557\n",
       "std         3.919004\n",
       "min         1.081696\n",
       "25%         5.423111\n",
       "50%         7.704590\n",
       "75%        10.431244\n",
       "max        26.163712\n",
       "Name: temp_diff, dtype: float64"
      ]
     },
     "execution_count": 12,
     "metadata": {},
     "output_type": "execute_result"
    }
   ],
   "source": [
    "heatwave_control['temp_diff'].describe()"
   ]
  },
  {
   "cell_type": "code",
   "execution_count": 13,
   "id": "be36485d-5f68-4930-97be-4b2356f99411",
   "metadata": {},
   "outputs": [
    {
     "data": {
      "text/plain": [
       "count    150.000000\n",
       "mean       3.670919\n",
       "std        5.495883\n",
       "min      -16.389372\n",
       "25%        0.942652\n",
       "50%        4.453752\n",
       "75%        7.436603\n",
       "max       14.461462\n",
       "Name: temperature_2m_winter, dtype: float64"
      ]
     },
     "execution_count": 13,
     "metadata": {},
     "output_type": "execute_result"
    }
   ],
   "source": [
    "heatwave_control.drop_duplicates('location')['temperature_2m_winter'].describe()"
   ]
  },
  {
   "cell_type": "code",
   "execution_count": 16,
   "id": "d96e8aa5-8824-498d-9c9d-eb85f9dbec86",
   "metadata": {},
   "outputs": [
    {
     "data": {
      "text/plain": [
       "2021    0.382525\n",
       "2022    0.367075\n",
       "2020    0.250400\n",
       "Name: year, dtype: float64"
      ]
     },
     "execution_count": 16,
     "metadata": {},
     "output_type": "execute_result"
    }
   ],
   "source": [
    "heatwave_control.drop_duplicates('heat_ID')['year'].value_counts() / 1877"
   ]
  },
  {
   "cell_type": "code",
   "execution_count": 17,
   "id": "29b49fc2-5663-4cc6-a448-277ef0946652",
   "metadata": {},
   "outputs": [
    {
     "data": {
      "text/plain": [
       "count    1877.000000\n",
       "mean        0.148641\n",
       "std         0.355829\n",
       "min         0.000000\n",
       "25%         0.000000\n",
       "50%         0.000000\n",
       "75%         0.000000\n",
       "max         1.000000\n",
       "Name: june_hw, dtype: float64"
      ]
     },
     "execution_count": 17,
     "metadata": {},
     "output_type": "execute_result"
    }
   ],
   "source": [
    "heatwave_control.drop_duplicates('heat_ID')['june_hw'].describe()"
   ]
  },
  {
   "cell_type": "code",
   "execution_count": 20,
   "id": "fdb658ab-472f-4c5c-adda-fa7adf1db799",
   "metadata": {},
   "outputs": [
    {
     "data": {
      "text/plain": [
       "<5 days     0.741609\n",
       ">=5 days    0.258391\n",
       "Name: heatwave_dur, dtype: float64"
      ]
     },
     "execution_count": 20,
     "metadata": {},
     "output_type": "execute_result"
    }
   ],
   "source": [
    "heatwave_control.drop_duplicates('heat_ID')['heatwave_dur'].value_counts() / 1877"
   ]
  },
  {
   "cell_type": "code",
   "execution_count": 21,
   "id": "811830c6-4c77-4497-99f9-063cb12cf9d0",
   "metadata": {},
   "outputs": [
    {
     "data": {
      "text/plain": [
       "count    6561.000000\n",
       "mean       63.786996\n",
       "std        28.354566\n",
       "min         9.090909\n",
       "25%        40.000000\n",
       "50%        62.500000\n",
       "75%       100.000000\n",
       "max       100.000000\n",
       "Name: stage_frac, dtype: float64"
      ]
     },
     "execution_count": 21,
     "metadata": {},
     "output_type": "execute_result"
    }
   ],
   "source": [
    "heatwave_control['stage_frac'].describe()"
   ]
  },
  {
   "cell_type": "code",
   "execution_count": 22,
   "id": "a8f7534f-97a9-4305-8607-9f27144f4e3f",
   "metadata": {},
   "outputs": [
    {
     "data": {
      "text/plain": [
       "count    6561.000000\n",
       "mean        0.275111\n",
       "std         0.446604\n",
       "min         0.000000\n",
       "25%         0.000000\n",
       "50%         0.000000\n",
       "75%         1.000000\n",
       "max         1.000000\n",
       "Name: weekend, dtype: float64"
      ]
     },
     "execution_count": 22,
     "metadata": {},
     "output_type": "execute_result"
    }
   ],
   "source": [
    "heatwave_control['weekend'].describe()"
   ]
  },
  {
   "cell_type": "code",
   "execution_count": 19,
   "id": "b966b5cc-5ee2-44ac-8ad4-fb8ac5a321ea",
   "metadata": {},
   "outputs": [
    {
     "data": {
      "text/plain": [
       "count    150.000000\n",
       "mean       0.300000\n",
       "std        0.459793\n",
       "min        0.000000\n",
       "25%        0.000000\n",
       "50%        0.000000\n",
       "75%        1.000000\n",
       "max        1.000000\n",
       "Name: coast_binary, dtype: float64"
      ]
     },
     "execution_count": 19,
     "metadata": {},
     "output_type": "execute_result"
    }
   ],
   "source": [
    "heatwave_control.drop_duplicates('location')['coast_binary'].describe()"
   ]
  },
  {
   "cell_type": "code",
   "execution_count": 23,
   "id": "ee6080d6-8655-494e-82c9-852f17561015",
   "metadata": {},
   "outputs": [
    {
     "data": {
      "text/plain": [
       "count    150.000000\n",
       "mean       5.773333\n",
       "std        2.800160\n",
       "min        1.000000\n",
       "25%        3.000000\n",
       "50%        6.000000\n",
       "75%        8.000000\n",
       "max       10.000000\n",
       "Name: popdens_dec, dtype: float64"
      ]
     },
     "execution_count": 23,
     "metadata": {},
     "output_type": "execute_result"
    }
   ],
   "source": [
    "heatwave_control.drop_duplicates('location')['popdens_dec'].describe()"
   ]
  },
  {
   "cell_type": "code",
   "execution_count": 24,
   "id": "e529e758-f674-4485-a1c6-15ee6b7e7f93",
   "metadata": {},
   "outputs": [
    {
     "data": {
      "text/plain": [
       "count    150.000000\n",
       "mean       5.606667\n",
       "std        2.914662\n",
       "min        1.000000\n",
       "25%        3.000000\n",
       "50%        6.000000\n",
       "75%        8.000000\n",
       "max       10.000000\n",
       "Name: income_dec, dtype: float64"
      ]
     },
     "execution_count": 24,
     "metadata": {},
     "output_type": "execute_result"
    }
   ],
   "source": [
    "heatwave_control.drop_duplicates('location')['income_dec'].describe()"
   ]
  },
  {
   "cell_type": "code",
   "execution_count": 25,
   "id": "d48e28f9-fad7-4fce-a82d-6fd0848e6e5b",
   "metadata": {},
   "outputs": [
    {
     "data": {
      "text/plain": [
       "count    150.000000\n",
       "mean       5.573333\n",
       "std        2.938627\n",
       "min        1.000000\n",
       "25%        3.000000\n",
       "50%        6.000000\n",
       "75%        8.000000\n",
       "max       10.000000\n",
       "Name: nonwhite_dec, dtype: float64"
      ]
     },
     "execution_count": 25,
     "metadata": {},
     "output_type": "execute_result"
    }
   ],
   "source": [
    "heatwave_control.drop_duplicates('location')['nonwhite_dec'].describe()"
   ]
  },
  {
   "cell_type": "code",
   "execution_count": 26,
   "id": "3989c307-ab4b-4652-a19b-f3e18e9d7596",
   "metadata": {},
   "outputs": [
    {
     "data": {
      "text/plain": [
       "count    150.000000\n",
       "mean       5.326667\n",
       "std        2.817721\n",
       "min        1.000000\n",
       "25%        3.000000\n",
       "50%        5.000000\n",
       "75%        8.000000\n",
       "max       10.000000\n",
       "Name: over65_dec, dtype: float64"
      ]
     },
     "execution_count": 26,
     "metadata": {},
     "output_type": "execute_result"
    }
   ],
   "source": [
    "heatwave_control.drop_duplicates('location')['over65_dec'].describe()"
   ]
  },
  {
   "cell_type": "markdown",
   "id": "b53a0eeb-6bcd-4092-be69-7bf7d0f1cd50",
   "metadata": {},
   "source": [
    "### Results descriptive statistics"
   ]
  },
  {
   "cell_type": "code",
   "execution_count": 31,
   "id": "595804d7-d382-4eeb-8505-5b0e12a79620",
   "metadata": {},
   "outputs": [
    {
     "data": {
      "text/html": [
       "<div>\n",
       "<style scoped>\n",
       "    .dataframe tbody tr th:only-of-type {\n",
       "        vertical-align: middle;\n",
       "    }\n",
       "\n",
       "    .dataframe tbody tr th {\n",
       "        vertical-align: top;\n",
       "    }\n",
       "\n",
       "    .dataframe thead th {\n",
       "        text-align: right;\n",
       "    }\n",
       "</style>\n",
       "<table border=\"1\" class=\"dataframe\">\n",
       "  <thead>\n",
       "    <tr style=\"text-align: right;\">\n",
       "      <th></th>\n",
       "      <th>count</th>\n",
       "      <th>mean</th>\n",
       "      <th>std</th>\n",
       "      <th>min</th>\n",
       "      <th>25%</th>\n",
       "      <th>50%</th>\n",
       "      <th>75%</th>\n",
       "      <th>max</th>\n",
       "    </tr>\n",
       "    <tr>\n",
       "      <th>state</th>\n",
       "      <th></th>\n",
       "      <th></th>\n",
       "      <th></th>\n",
       "      <th></th>\n",
       "      <th></th>\n",
       "      <th></th>\n",
       "      <th></th>\n",
       "      <th></th>\n",
       "    </tr>\n",
       "  </thead>\n",
       "  <tbody>\n",
       "    <tr>\n",
       "      <th>British Columbia</th>\n",
       "      <td>1127.0</td>\n",
       "      <td>32.226582</td>\n",
       "      <td>3.266684</td>\n",
       "      <td>26.147699</td>\n",
       "      <td>29.611108</td>\n",
       "      <td>32.112390</td>\n",
       "      <td>34.034853</td>\n",
       "      <td>44.067896</td>\n",
       "    </tr>\n",
       "    <tr>\n",
       "      <th>California</th>\n",
       "      <td>2524.0</td>\n",
       "      <td>40.810812</td>\n",
       "      <td>3.781699</td>\n",
       "      <td>26.468729</td>\n",
       "      <td>38.467764</td>\n",
       "      <td>41.054742</td>\n",
       "      <td>43.211343</td>\n",
       "      <td>51.490472</td>\n",
       "    </tr>\n",
       "    <tr>\n",
       "      <th>Oregon</th>\n",
       "      <td>1430.0</td>\n",
       "      <td>36.550195</td>\n",
       "      <td>3.080634</td>\n",
       "      <td>28.411096</td>\n",
       "      <td>34.592573</td>\n",
       "      <td>36.287859</td>\n",
       "      <td>38.424753</td>\n",
       "      <td>48.115305</td>\n",
       "    </tr>\n",
       "    <tr>\n",
       "      <th>Washington</th>\n",
       "      <td>1480.0</td>\n",
       "      <td>36.072716</td>\n",
       "      <td>4.881945</td>\n",
       "      <td>20.359583</td>\n",
       "      <td>32.657110</td>\n",
       "      <td>36.358560</td>\n",
       "      <td>39.621393</td>\n",
       "      <td>48.115305</td>\n",
       "    </tr>\n",
       "  </tbody>\n",
       "</table>\n",
       "</div>"
      ],
      "text/plain": [
       "                   count       mean       std        min        25%  \\\n",
       "state                                                                 \n",
       "British Columbia  1127.0  32.226582  3.266684  26.147699  29.611108   \n",
       "California        2524.0  40.810812  3.781699  26.468729  38.467764   \n",
       "Oregon            1430.0  36.550195  3.080634  28.411096  34.592573   \n",
       "Washington        1480.0  36.072716  4.881945  20.359583  32.657110   \n",
       "\n",
       "                        50%        75%        max  \n",
       "state                                              \n",
       "British Columbia  32.112390  34.034853  44.067896  \n",
       "California        41.054742  43.211343  51.490472  \n",
       "Oregon            36.287859  38.424753  48.115305  \n",
       "Washington        36.358560  39.621393  48.115305  "
      ]
     },
     "execution_count": 31,
     "metadata": {},
     "output_type": "execute_result"
    }
   ],
   "source": [
    "heatwave_control.groupby('state')['temperature_2m_heat'].describe()"
   ]
  },
  {
   "cell_type": "code",
   "execution_count": 28,
   "id": "73b327ae-22e8-4101-a8a4-6bed089db93f",
   "metadata": {},
   "outputs": [
    {
     "data": {
      "text/html": [
       "<div>\n",
       "<style scoped>\n",
       "    .dataframe tbody tr th:only-of-type {\n",
       "        vertical-align: middle;\n",
       "    }\n",
       "\n",
       "    .dataframe tbody tr th {\n",
       "        vertical-align: top;\n",
       "    }\n",
       "\n",
       "    .dataframe thead th {\n",
       "        text-align: right;\n",
       "    }\n",
       "</style>\n",
       "<table border=\"1\" class=\"dataframe\">\n",
       "  <thead>\n",
       "    <tr style=\"text-align: right;\">\n",
       "      <th></th>\n",
       "      <th>count</th>\n",
       "      <th>mean</th>\n",
       "      <th>std</th>\n",
       "      <th>min</th>\n",
       "      <th>25%</th>\n",
       "      <th>50%</th>\n",
       "      <th>75%</th>\n",
       "      <th>max</th>\n",
       "    </tr>\n",
       "    <tr>\n",
       "      <th>state</th>\n",
       "      <th></th>\n",
       "      <th></th>\n",
       "      <th></th>\n",
       "      <th></th>\n",
       "      <th></th>\n",
       "      <th></th>\n",
       "      <th></th>\n",
       "      <th></th>\n",
       "    </tr>\n",
       "  </thead>\n",
       "  <tbody>\n",
       "    <tr>\n",
       "      <th>British Columbia</th>\n",
       "      <td>290.0</td>\n",
       "      <td>3.944828</td>\n",
       "      <td>2.144533</td>\n",
       "      <td>2.0</td>\n",
       "      <td>2.0</td>\n",
       "      <td>3.0</td>\n",
       "      <td>5.0</td>\n",
       "      <td>10.0</td>\n",
       "    </tr>\n",
       "    <tr>\n",
       "      <th>California</th>\n",
       "      <td>730.0</td>\n",
       "      <td>3.556164</td>\n",
       "      <td>1.921004</td>\n",
       "      <td>2.0</td>\n",
       "      <td>2.0</td>\n",
       "      <td>3.0</td>\n",
       "      <td>4.0</td>\n",
       "      <td>11.0</td>\n",
       "    </tr>\n",
       "    <tr>\n",
       "      <th>Oregon</th>\n",
       "      <td>433.0</td>\n",
       "      <td>3.494226</td>\n",
       "      <td>1.949736</td>\n",
       "      <td>2.0</td>\n",
       "      <td>2.0</td>\n",
       "      <td>3.0</td>\n",
       "      <td>5.0</td>\n",
       "      <td>11.0</td>\n",
       "    </tr>\n",
       "    <tr>\n",
       "      <th>Washington</th>\n",
       "      <td>424.0</td>\n",
       "      <td>3.603774</td>\n",
       "      <td>1.928653</td>\n",
       "      <td>2.0</td>\n",
       "      <td>2.0</td>\n",
       "      <td>3.0</td>\n",
       "      <td>5.0</td>\n",
       "      <td>11.0</td>\n",
       "    </tr>\n",
       "  </tbody>\n",
       "</table>\n",
       "</div>"
      ],
      "text/plain": [
       "                  count      mean       std  min  25%  50%  75%   max\n",
       "state                                                                \n",
       "British Columbia  290.0  3.944828  2.144533  2.0  2.0  3.0  5.0  10.0\n",
       "California        730.0  3.556164  1.921004  2.0  2.0  3.0  4.0  11.0\n",
       "Oregon            433.0  3.494226  1.949736  2.0  2.0  3.0  5.0  11.0\n",
       "Washington        424.0  3.603774  1.928653  2.0  2.0  3.0  5.0  11.0"
      ]
     },
     "execution_count": 28,
     "metadata": {},
     "output_type": "execute_result"
    }
   ],
   "source": [
    "heatwave_control.drop_duplicates('heat_ID').groupby('state')['Heat Wave Duration'].describe()"
   ]
  },
  {
   "cell_type": "code",
   "execution_count": 32,
   "id": "87e4a26a-6c76-440e-a436-a4bd30b8633e",
   "metadata": {},
   "outputs": [
    {
     "data": {
      "text/html": [
       "<div>\n",
       "<style scoped>\n",
       "    .dataframe tbody tr th:only-of-type {\n",
       "        vertical-align: middle;\n",
       "    }\n",
       "\n",
       "    .dataframe tbody tr th {\n",
       "        vertical-align: top;\n",
       "    }\n",
       "\n",
       "    .dataframe thead th {\n",
       "        text-align: right;\n",
       "    }\n",
       "</style>\n",
       "<table border=\"1\" class=\"dataframe\">\n",
       "  <thead>\n",
       "    <tr style=\"text-align: right;\">\n",
       "      <th></th>\n",
       "      <th>residential_difference</th>\n",
       "      <th>workplaces_difference</th>\n",
       "      <th>transit_difference</th>\n",
       "      <th>grocery_pharmacy_difference</th>\n",
       "      <th>retail_difference</th>\n",
       "      <th>parks_difference</th>\n",
       "    </tr>\n",
       "  </thead>\n",
       "  <tbody>\n",
       "    <tr>\n",
       "      <th>count</th>\n",
       "      <td>5225.000000</td>\n",
       "      <td>6246.000000</td>\n",
       "      <td>3665.000000</td>\n",
       "      <td>4865.000000</td>\n",
       "      <td>5633.000000</td>\n",
       "      <td>3055.000000</td>\n",
       "    </tr>\n",
       "    <tr>\n",
       "      <th>mean</th>\n",
       "      <td>0.022584</td>\n",
       "      <td>-0.474063</td>\n",
       "      <td>-0.777899</td>\n",
       "      <td>0.897225</td>\n",
       "      <td>0.439553</td>\n",
       "      <td>-2.769231</td>\n",
       "    </tr>\n",
       "    <tr>\n",
       "      <th>std</th>\n",
       "      <td>1.636194</td>\n",
       "      <td>3.956758</td>\n",
       "      <td>7.901640</td>\n",
       "      <td>5.992879</td>\n",
       "      <td>6.513067</td>\n",
       "      <td>25.316906</td>\n",
       "    </tr>\n",
       "    <tr>\n",
       "      <th>min</th>\n",
       "      <td>-6.000000</td>\n",
       "      <td>-24.000000</td>\n",
       "      <td>-31.000000</td>\n",
       "      <td>-23.000000</td>\n",
       "      <td>-25.000000</td>\n",
       "      <td>-94.000000</td>\n",
       "    </tr>\n",
       "    <tr>\n",
       "      <th>25%</th>\n",
       "      <td>-1.000000</td>\n",
       "      <td>-2.000000</td>\n",
       "      <td>-5.000000</td>\n",
       "      <td>-2.000000</td>\n",
       "      <td>-3.000000</td>\n",
       "      <td>-16.000000</td>\n",
       "    </tr>\n",
       "    <tr>\n",
       "      <th>50%</th>\n",
       "      <td>0.000000</td>\n",
       "      <td>0.000000</td>\n",
       "      <td>-1.000000</td>\n",
       "      <td>1.000000</td>\n",
       "      <td>0.000000</td>\n",
       "      <td>-5.000000</td>\n",
       "    </tr>\n",
       "    <tr>\n",
       "      <th>75%</th>\n",
       "      <td>1.000000</td>\n",
       "      <td>1.000000</td>\n",
       "      <td>3.000000</td>\n",
       "      <td>4.000000</td>\n",
       "      <td>3.000000</td>\n",
       "      <td>7.000000</td>\n",
       "    </tr>\n",
       "    <tr>\n",
       "      <th>max</th>\n",
       "      <td>6.000000</td>\n",
       "      <td>23.000000</td>\n",
       "      <td>30.000000</td>\n",
       "      <td>23.000000</td>\n",
       "      <td>25.000000</td>\n",
       "      <td>96.000000</td>\n",
       "    </tr>\n",
       "  </tbody>\n",
       "</table>\n",
       "</div>"
      ],
      "text/plain": [
       "       residential_difference  workplaces_difference  transit_difference  \\\n",
       "count             5225.000000            6246.000000         3665.000000   \n",
       "mean                 0.022584              -0.474063           -0.777899   \n",
       "std                  1.636194               3.956758            7.901640   \n",
       "min                 -6.000000             -24.000000          -31.000000   \n",
       "25%                 -1.000000              -2.000000           -5.000000   \n",
       "50%                  0.000000               0.000000           -1.000000   \n",
       "75%                  1.000000               1.000000            3.000000   \n",
       "max                  6.000000              23.000000           30.000000   \n",
       "\n",
       "       grocery_pharmacy_difference  retail_difference  parks_difference  \n",
       "count                  4865.000000        5633.000000       3055.000000  \n",
       "mean                      0.897225           0.439553         -2.769231  \n",
       "std                       5.992879           6.513067         25.316906  \n",
       "min                     -23.000000         -25.000000        -94.000000  \n",
       "25%                      -2.000000          -3.000000        -16.000000  \n",
       "50%                       1.000000           0.000000         -5.000000  \n",
       "75%                       4.000000           3.000000          7.000000  \n",
       "max                      23.000000          25.000000         96.000000  "
      ]
     },
     "execution_count": 32,
     "metadata": {},
     "output_type": "execute_result"
    }
   ],
   "source": [
    "heatwave_control[['residential_difference', 'workplaces_difference', 'transit_difference', 'grocery_pharmacy_difference', 'retail_difference', 'parks_difference']].describe()"
   ]
  },
  {
   "cell_type": "markdown",
   "id": "f140adcb-6728-4595-a0b3-dec030fe769b",
   "metadata": {},
   "source": [
    "### State Plot"
   ]
  },
  {
   "cell_type": "code",
   "execution_count": 33,
   "id": "97c04108-71a2-47f7-b088-4154b019bbda",
   "metadata": {},
   "outputs": [],
   "source": [
    "location_temps = pd.DataFrame(heatwave_control.groupby('location')['temperature_2m_heat'].mean()).reset_index()\n",
    "location_temps = gpd.GeoDataFrame(location_temps.merge(clean_nw, on='location'))\n",
    "location_temps.to_crs(epsg=3857, inplace=True)\n",
    "clean_nw.to_crs(epsg=3857, inplace=True)\n",
    "\n"
   ]
  },
  {
   "cell_type": "code",
   "execution_count": 34,
   "id": "e16a4ecc-46da-4f83-a2bf-25b0f203c4b0",
   "metadata": {},
   "outputs": [],
   "source": [
    "import matplotlib.image as img\n",
    "\n",
    "from matplotlib.offsetbox import TextArea, DrawingArea, OffsetImage, AnnotationBbox\n",
    "\n",
    "im=img.imread(r'/Users/shivyucel/Documents/projects/DPhil/Code_Data/misc/north_arrow.jpeg')"
   ]
  },
  {
   "cell_type": "code",
   "execution_count": 35,
   "id": "c9fdb98a-39f0-4deb-bc62-84bfe494731b",
   "metadata": {},
   "outputs": [
    {
     "name": "stderr",
     "output_type": "stream",
     "text": [
      "No artists with labels found to put in legend.  Note that artists whose label start with an underscore are ignored when legend() is called with no argument.\n"
     ]
    },
    {
     "data": {
      "image/png": "[encoded data removed]",
      "text/plain": [
       "<Figure size 640x480 with 2 Axes>"
      ]
     },
     "metadata": {},
     "output_type": "display_data"
    }
   ],
   "source": [
    "sns.set_style('whitegrid')\n",
    "fig, ax = plt.subplots()\n",
    "clean_nw.plot(ax=ax, color='grey')\n",
    "location_temps.plot(column='temperature_2m_heat', legend=True, ax=ax, cmap='inferno', legend_kwds={'shrink': 0.7})\n",
    "ax.add_artist(ScaleBar(1, location='lower left')  )\n",
    "ax.set_yticks([])\n",
    "ax.set_xticks([])\n",
    "ax.legend(loc=(1, .83),\n",
    "          fontsize=15,\n",
    "          frameon=False,\n",
    "          title=\"Mean heat wave \\n temperature (C)\")\n",
    "\n",
    "x, y, arrow_length = 0.27, 0.122, 0.1\n",
    "ax.annotate('N', xy=(x, y), xytext=(x, y-arrow_length),\n",
    "            arrowprops=dict(facecolor='black', width=5, headwidth=10),\n",
    "            ha='center', va='center', fontsize=10,\n",
    "            xycoords=ax.transAxes)\n",
    "\n",
    "\n",
    "plt.tight_layout()\n",
    "plt.savefig(\"/Users/shivyucel/Documents/projects/DPhil/Code_Data/data/results/plots/heat_state_plot_v6.png\", dpi=400)\n"
   ]
  },
  {
   "cell_type": "code",
   "execution_count": 67,
   "id": "b7bea993-ce5d-4c15-b75a-4b66e4f6885b",
   "metadata": {},
   "outputs": [
    {
     "name": "stderr",
     "output_type": "stream",
     "text": [
      "/var/folders/8g/qp1k_1g91m5f2m9pypxwxdhh0000gn/T/ipykernel_28902/2682032165.py:1: UserWarning: Column names longer than 10 characters will be truncated when saved to ESRI Shapefile.\n",
      "  location_temps.to_file('/Users/shivyucel/Documents/projects/DPhil/Code_Data/data/results/plots/state_maps/location_temps.shp')\n"
     ]
    }
   ],
   "source": [
    "location_temps.to_file('/Users/shivyucel/Documents/projects/DPhil/Code_Data/data/results/plots/state_maps/location_temps.shp')"
   ]
  },
  {
   "cell_type": "code",
   "execution_count": 37,
   "id": "e00e598a-9deb-4ac3-acc4-f23883284fbd",
   "metadata": {},
   "outputs": [],
   "source": [
    "plot_2_summary = heatwave_control.melt(id_vars=['year', 'state'], value_vars=['workplaces_difference', 'residential_difference', 'transit_difference', 'grocery_pharmacy_difference', 'parks_difference', 'retail_difference'])\n",
    "plot_2_summary.to_csv('/Users/shivyucel/Documents/projects/DPhil/Code_Data/data/results/plots/year_describe_v5.csv')"
   ]
  },
  {
   "cell_type": "code",
   "execution_count": 38,
   "id": "eb44b54a-bc45-4088-b150-3048877a0a9c",
   "metadata": {},
   "outputs": [],
   "source": [
    "plot_3_summary = heatwave_control.melt(id_vars=['temperature_2m_heat', 'state'], value_vars=['workplaces_difference', 'residential_difference', 'transit_difference', 'grocery_pharmacy_difference', 'parks_difference', 'retail_difference'])\n",
    "plot_3_summary.to_csv('/Users/shivyucel/Documents/projects/DPhil/Code_Data/data/results/plots/scatterplot_v7.csv')"
   ]
  },
  {
   "cell_type": "code",
   "execution_count": 40,
   "id": "768f9413-bdef-4a61-a622-41c69745d606",
   "metadata": {},
   "outputs": [
    {
     "data": {
      "text/plain": [
       "37.33885783268321"
      ]
     },
     "execution_count": 40,
     "metadata": {},
     "output_type": "execute_result"
    }
   ],
   "source": [
    "heatwave_control['temperature_2m_heat'].mean()"
   ]
  },
  {
   "cell_type": "code",
   "execution_count": null,
   "id": "ea09230d-4fdf-4c0b-8a8e-ad02effce463",
   "metadata": {},
   "outputs": [],
   "source": []
  }
 ],
 "metadata": {
  "kernelspec": {
   "display_name": "Python 3 (ipykernel)",
   "language": "python",
   "name": "python3"
  },
  "language_info": {
   "codemirror_mode": {
    "name": "ipython",
    "version": 3
   },
   "file_extension": ".py",
   "mimetype": "text/x-python",
   "name": "python",
   "nbconvert_exporter": "python",
   "pygments_lexer": "ipython3",
   "version": "3.10.9"
  }
 },
 "nbformat": 4,
 "nbformat_minor": 5
}
