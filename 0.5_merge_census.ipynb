{
 "cells": [
  {
   "cell_type": "code",
   "execution_count": 42,
   "id": "a952c3b6-c660-4eb0-bcf2-9db5aafb8f1f",
   "metadata": {},
   "outputs": [],
   "source": [
    "import pandas as pd\n",
    "import geopandas as gpd\n",
    "\n",
    "data_path = '/Users/shivyucel/Documents/projects/DPhil/Code_Data/data/'"
   ]
  },
  {
   "cell_type": "code",
   "execution_count": 43,
   "id": "7b77b9f5-e546-4571-95da-e164e5e8771a",
   "metadata": {},
   "outputs": [],
   "source": [
    "#get BC regional district average incomes and get deciles\n",
    "#from https://www12.statcan.gc.ca/census-recensement/2021/dp-pd/prof/details/download-telecharger.cfm?Lang=E"
   ]
  },
  {
   "cell_type": "markdown",
   "id": "34e21395-4488-4d79-bce3-8eef6e34e01e",
   "metadata": {},
   "source": [
    "# BC Variables"
   ]
  },
  {
   "cell_type": "code",
   "execution_count": 44,
   "id": "ac877a1d-23fb-4666-8455-7214a88a7651",
   "metadata": {},
   "outputs": [],
   "source": [
    "BC_data = pd.read_csv('/Users/shivyucel/Documents/projects/DPhil/Code_Data/data/census/Canada/BC_income_v2.CSV', encoding='latin-1')\n",
    "mob_vars = pd.read_csv(data_path + 'mobility_heat/mobility_heat_vars_clean_90.csv')\n"
   ]
  },
  {
   "cell_type": "code",
   "execution_count": null,
   "id": "e03b971e-5b93-4ef4-ad9a-5050aa1ea890",
   "metadata": {
    "tags": []
   },
   "outputs": [],
   "source": [
    "lst = [x for x in BC_data['GEO_NAME'] if 'Regional district' in x]\n",
    "BC_data = BC_data[BC_data['GEO_NAME'].isin(lst)]\n",
    "\n",
    "\n",
    "household_income = BC_data[BC_data['CHARACTERISTIC_NAME'] == '  Median total income of household in 2020 ($)']\n",
    "household_income['median_income'] = household_income['C1_COUNT_TOTAL']\n",
    "\n",
    "population = BC_data[BC_data['CHARACTERISTIC_NAME'] == 'Population, 2021']\n",
    "population['population'] = population['C1_COUNT_TOTAL']\n",
    "\n",
    "age = BC_data[BC_data['CHARACTERISTIC_NAME'] == '  65 years and over']\n",
    "age['65_and_over'] = age['C1_COUNT_TOTAL']\n",
    "\n",
    "nonwhite = BC_data[BC_data['CHARACTERISTIC_NAME'] == '  Total visible minority population']\n",
    "nonwhite['nonwhite_pop'] = nonwhite['C1_COUNT_TOTAL']\n",
    "\n"
   ]
  },
  {
   "cell_type": "code",
   "execution_count": 46,
   "id": "e4c4bb73-ffad-4faa-8611-5082d47089ab",
   "metadata": {},
   "outputs": [],
   "source": [
    "us_areas = pd.read_csv(data_path + 'census/US/pop_dens.csv')\n",
    "ca_areas = pd.read_html(\"https://en.wikipedia.org/wiki/List_of_regional_districts_of_British_Columbia\")\n",
    "\n",
    "us_areas = us_areas[['NAME', 'State', 'B01001_calc_PopDensity']]\n",
    "\n",
    "ca_areas = ca_areas[1][['Regional district', 'Density (per km2)']]\n",
    "ca_areas.replace({'–': '-'}, regex=True, inplace=True)\n",
    "ca_areas.replace('Metro Vancouver', 'Greater Vancouver', inplace=True)\n",
    "\n",
    "us_areas.columns = ['county', 'state', 'popdens']\n",
    "\n",
    "ca_areas.columns = ['county', 'popdens']\n",
    "ca_areas['state'] = 'British Columbia'\n",
    "\n",
    "pop_dens = pd.concat([us_areas, ca_areas])\n",
    "\n",
    "pop_dens['location'] = pop_dens['county'] + ', ' + pop_dens['state']"
   ]
  },
  {
   "cell_type": "code",
   "execution_count": 47,
   "id": "167d5b0d-ada2-4acc-92c6-0d1633e3738a",
   "metadata": {},
   "outputs": [],
   "source": [
    "pop_dens = pop_dens[pop_dens['state'].isin(['British Columbia', 'California', 'Oregon', 'Washington'])]"
   ]
  },
  {
   "cell_type": "code",
   "execution_count": 48,
   "id": "20cfc476-63e6-416b-9328-d55915bd7087",
   "metadata": {},
   "outputs": [],
   "source": [
    "pop_dens['popdens_dec'] = pop_dens.groupby('state')['popdens'].transform(lambda x: pd.qcut(x, 10, labels=False))\n",
    "pop_dens['popdens_dec'] += 1"
   ]
  },
  {
   "cell_type": "code",
   "execution_count": 50,
   "id": "0d2e12da-f117-4f74-97a5-92ffb3880775",
   "metadata": {},
   "outputs": [],
   "source": [
    "age = age.groupby('DGUID').first().reset_index()"
   ]
  },
  {
   "cell_type": "code",
   "execution_count": 51,
   "id": "62d7ef9e-d211-4dde-9eaf-7db0a155d30f",
   "metadata": {},
   "outputs": [],
   "source": [
    "income_pop = household_income.merge(population[['DGUID', 'CHARACTERISTIC_NAME', 'population']], on='DGUID')"
   ]
  },
  {
   "cell_type": "code",
   "execution_count": 52,
   "id": "f4365ba5-acd4-47a8-ac33-90b70f9af325",
   "metadata": {},
   "outputs": [],
   "source": [
    "income_pop_age = income_pop.merge(age[['DGUID', 'CHARACTERISTIC_NAME', '65_and_over']], on='DGUID')"
   ]
  },
  {
   "cell_type": "code",
   "execution_count": 53,
   "id": "067895db-37a0-4f76-95fb-81658615887f",
   "metadata": {},
   "outputs": [
    {
     "name": "stderr",
     "output_type": "stream",
     "text": [
      "/var/folders/8g/qp1k_1g91m5f2m9pypxwxdhh0000gn/T/ipykernel_97576/2573391190.py:1: FutureWarning: Passing 'suffixes' which cause duplicate columns {'CHARACTERISTIC_NAME_x'} in the result is deprecated and will raise a MergeError in a future version.\n",
      "  can_total = income_pop_age.merge(nonwhite[['DGUID', 'CHARACTERISTIC_NAME', 'nonwhite_pop']], on='DGUID')\n"
     ]
    }
   ],
   "source": [
    "can_total = income_pop_age.merge(nonwhite[['DGUID', 'CHARACTERISTIC_NAME', 'nonwhite_pop']], on='DGUID')"
   ]
  },
  {
   "cell_type": "code",
   "execution_count": 54,
   "id": "179f4172-d8e5-492b-a040-39347ec44bc3",
   "metadata": {},
   "outputs": [],
   "source": [
    "can_total['district'] = [x.split(',')[0] for x in can_total['GEO_NAME']]"
   ]
  },
  {
   "cell_type": "code",
   "execution_count": 55,
   "id": "644ed5fe-d344-4a22-939a-971a4cb6903f",
   "metadata": {},
   "outputs": [],
   "source": [
    "can_total['propor_over_65'] = can_total['65_and_over'] / can_total['population']"
   ]
  },
  {
   "cell_type": "code",
   "execution_count": 56,
   "id": "7adcf678-c86a-49e7-aad4-5bd01a300789",
   "metadata": {},
   "outputs": [],
   "source": [
    "can_total['non_white_propor'] = can_total['nonwhite_pop'] / can_total['population']"
   ]
  },
  {
   "cell_type": "code",
   "execution_count": 57,
   "id": "03bcaff8-8ffc-47d7-837d-60e0d824f8b4",
   "metadata": {},
   "outputs": [],
   "source": [
    "can_total['income_dec'] = pd.qcut(can_total['median_income'],10,labels=False)\n",
    "can_total['income_dec'] += 1"
   ]
  },
  {
   "cell_type": "code",
   "execution_count": 58,
   "id": "8fdd1ee5-8f86-4b32-9378-93d4e0adafc4",
   "metadata": {},
   "outputs": [],
   "source": [
    "can_total['over65_dec'] = pd.qcut(can_total['propor_over_65'],10,labels=False)\n",
    "can_total['over65_dec'] += 1"
   ]
  },
  {
   "cell_type": "code",
   "execution_count": 59,
   "id": "48995b44-8f7f-48e1-8d7b-8f18f921e02b",
   "metadata": {},
   "outputs": [],
   "source": [
    "can_total['nonwhite_dec'] = pd.qcut(can_total['non_white_propor'],10,labels=False)\n",
    "can_total['nonwhite_dec'] += 1"
   ]
  },
  {
   "cell_type": "code",
   "execution_count": 63,
   "id": "bf5422ad-7be1-4ab4-a368-ca94f42fdb22",
   "metadata": {},
   "outputs": [],
   "source": [
    "bc_mob_vars = mob_vars.merge(can_total[['district', 'income_dec',  'over65_dec', 'nonwhite_dec']], left_on='county', right_on='district')"
   ]
  },
  {
   "cell_type": "code",
   "execution_count": 64,
   "id": "9378fbc3-0a51-42ca-a0ce-044899a9d11b",
   "metadata": {},
   "outputs": [
    {
     "data": {
      "text/plain": [
       "Index(['Unnamed: 0.2', 'index', 'Unnamed: 0.1', 'Unnamed: 0',\n",
       "       'country_region_code', 'country_region', 'state', 'county',\n",
       "       'metro_area', 'iso_3166_2_code', 'census_fips_code', 'place_id',\n",
       "       'date_heat', 'retail_heat', 'grocery_pharmacy_heat', 'parks_heat',\n",
       "       'transit_heat', 'workplaces_heat', 'residential_heat', 'year',\n",
       "       'location', 'geometry', 'control_day', 'temperature_2m_heat',\n",
       "       'heat_ID_x', 'date_control', 'retail_control',\n",
       "       'grocery_pharmacy_control', 'parks_control', 'transit_control',\n",
       "       'workplaces_control', 'residential_control', 'retail_difference',\n",
       "       'grocery_pharmacy_difference', 'parks_difference', 'transit_difference',\n",
       "       'workplaces_difference', 'residential_difference', 'day_of_week',\n",
       "       'weekend', 'holiday', 'us_holiday_heat', 'us_holiday', 'C',\n",
       "       'datetime_heat', 'temperature_2m_control', 'datetime_control',\n",
       "       'temperature_2m', 'temp_diff', 'heat_ID_y', 'date',\n",
       "       'Heat Wave Duration', 'dur_ranking', 'stage', 'district', 'income_dec',\n",
       "       'over65_dec', 'nonwhite_dec'],\n",
       "      dtype='object')"
      ]
     },
     "execution_count": 64,
     "metadata": {},
     "output_type": "execute_result"
    }
   ],
   "source": [
    "bc_mob_vars.columns"
   ]
  },
  {
   "cell_type": "markdown",
   "id": "5bd852c2-9e9a-4911-9d33-907089998b24",
   "metadata": {},
   "source": [
    "# U.S. Variables"
   ]
  },
  {
   "cell_type": "code",
   "execution_count": 66,
   "id": "c52285af-ee57-41e3-82a0-e4ffb760d4a4",
   "metadata": {},
   "outputs": [],
   "source": [
    "mob_vars = pd.read_csv(data_path + 'mobility_heat/mobility_heat_vars_clean_90.csv')\n",
    "#mob_vars.drop(['over65_dec', 'income_dec'],axis=1, inplace=True)\n",
    "\n",
    "\n",
    "us_age = pd.read_csv('/Users/shivyucel/Documents/projects/DPhil/Code_Data/data/census/US/plus65.csv', encoding='latin-1')\n",
    "us_income = pd.read_csv('/Users/shivyucel/Documents/projects/DPhil/Code_Data/data/census/US/county_income.csv', encoding='latin-1')\n",
    "us_race = pd.read_csv('/Users/shivyucel/Documents/projects/DPhil/Code_Data/data/census/US/county_white.csv', encoding='latin-1')"
   ]
  },
  {
   "cell_type": "code",
   "execution_count": 67,
   "id": "62948f81-3e95-44c9-93d5-78c553c716d8",
   "metadata": {},
   "outputs": [
    {
     "name": "stderr",
     "output_type": "stream",
     "text": [
      "/var/folders/8g/qp1k_1g91m5f2m9pypxwxdhh0000gn/T/ipykernel_97576/3177610766.py:2: SettingWithCopyWarning: \n",
      "A value is trying to be set on a copy of a slice from a DataFrame.\n",
      "Try using .loc[row_indexer,col_indexer] = value instead\n",
      "\n",
      "See the caveats in the documentation: https://pandas.pydata.org/pandas-docs/stable/user_guide/indexing.html#returning-a-view-versus-a-copy\n",
      "  total_pop['total_pop'] = total_pop['estimate']\n"
     ]
    }
   ],
   "source": [
    "total_pop = us_age[us_age['variable'] == 'total_pop']\n",
    "total_pop['total_pop'] = total_pop['estimate']"
   ]
  },
  {
   "cell_type": "code",
   "execution_count": 68,
   "id": "2de0b26c-457e-45b8-919b-8102577cf91c",
   "metadata": {},
   "outputs": [],
   "source": [
    "us_age = us_age[us_age['variable'] != 'total_pop']"
   ]
  },
  {
   "cell_type": "code",
   "execution_count": 69,
   "id": "fd5c19ca-3683-4fe4-a454-bd50f0ecd38b",
   "metadata": {},
   "outputs": [
    {
     "name": "stderr",
     "output_type": "stream",
     "text": [
      "/var/folders/8g/qp1k_1g91m5f2m9pypxwxdhh0000gn/T/ipykernel_97576/1343126567.py:1: FutureWarning: The default value of numeric_only in DataFrameGroupBy.sum is deprecated. In a future version, numeric_only will default to False. Either specify numeric_only or select only columns which should be valid for the function.\n",
      "  us_age = us_age.groupby('NAME').sum().reset_index()\n"
     ]
    }
   ],
   "source": [
    "us_age = us_age.groupby('NAME').sum().reset_index()"
   ]
  },
  {
   "cell_type": "code",
   "execution_count": 70,
   "id": "2ee64ca6-0cfc-405f-8ed2-2f2eb91e0047",
   "metadata": {},
   "outputs": [],
   "source": [
    "us_age['total65plus'] = us_age['estimate']"
   ]
  },
  {
   "cell_type": "code",
   "execution_count": 71,
   "id": "6e4a71a0-ddd9-4033-a8db-c130de796c4b",
   "metadata": {},
   "outputs": [],
   "source": [
    "us_age = us_age.merge(total_pop, on=\"NAME\")"
   ]
  },
  {
   "cell_type": "code",
   "execution_count": 72,
   "id": "edb08d24-2510-47ea-afea-384e36ef0a18",
   "metadata": {},
   "outputs": [],
   "source": [
    "us_age['propor_over_65'] = us_age['total65plus'] / us_age['total_pop']"
   ]
  },
  {
   "cell_type": "code",
   "execution_count": 73,
   "id": "ef0c1d8f-d5a1-48be-a935-88e04bdeb7ad",
   "metadata": {},
   "outputs": [],
   "source": [
    "us_income['median_income'] = us_income['estimate']"
   ]
  },
  {
   "cell_type": "code",
   "execution_count": 74,
   "id": "b2464c2a-c5c6-4402-91f0-a190155bbeb0",
   "metadata": {},
   "outputs": [],
   "source": [
    "us_income_age = us_age.merge(us_income, on='NAME')"
   ]
  },
  {
   "cell_type": "code",
   "execution_count": 75,
   "id": "def2809c-339a-487b-8d37-19f85fc64ee1",
   "metadata": {},
   "outputs": [],
   "source": [
    "us_income_age['state'] = [x.split(',')[-1].strip() for x in us_income_age['NAME']]"
   ]
  },
  {
   "cell_type": "code",
   "execution_count": 76,
   "id": "021ff1ae-7606-47ce-baf5-2021b087afb0",
   "metadata": {},
   "outputs": [],
   "source": [
    "us_income_age = us_income_age[us_income_age['state'].isin(['California', 'Washington', 'Oregon'])]"
   ]
  },
  {
   "cell_type": "code",
   "execution_count": 78,
   "id": "428d091d-d656-4010-86d5-a5416dba22ff",
   "metadata": {},
   "outputs": [],
   "source": [
    "us_race['white_pop'] = us_race['estimate']"
   ]
  },
  {
   "cell_type": "code",
   "execution_count": 79,
   "id": "f7cd8ebf-5540-44d4-a868-170044368ec3",
   "metadata": {},
   "outputs": [],
   "source": [
    "us_race = us_race.merge(total_pop, on=\"NAME\")"
   ]
  },
  {
   "cell_type": "code",
   "execution_count": 80,
   "id": "3c4a3c93-34f7-4ee7-9e14-6cfe9de8e01e",
   "metadata": {},
   "outputs": [],
   "source": [
    "us_race['non_white_propor'] = 1 - (us_race['white_pop'] / us_race['total_pop'])"
   ]
  },
  {
   "cell_type": "code",
   "execution_count": 82,
   "id": "1df78217-6a20-4613-9247-6c17fd171434",
   "metadata": {},
   "outputs": [],
   "source": [
    "us_total = us_income_age.merge(us_race, on='NAME')"
   ]
  },
  {
   "cell_type": "code",
   "execution_count": 83,
   "id": "ea124dc6-0dea-46f3-b860-f54be3acbce4",
   "metadata": {},
   "outputs": [],
   "source": [
    "us_total['state'] = [x.split(',')[-1].strip() for x in us_total['NAME']]"
   ]
  },
  {
   "cell_type": "code",
   "execution_count": 84,
   "id": "05d4bd6c-1ae2-479b-a02d-6a9293cd672f",
   "metadata": {},
   "outputs": [],
   "source": [
    "us_total = us_total[us_total['state'].isin(['California', 'Washington', 'Oregon'])]"
   ]
  },
  {
   "cell_type": "code",
   "execution_count": 85,
   "id": "206dab2c-65e3-4c98-a0e8-9e97226b7da5",
   "metadata": {},
   "outputs": [],
   "source": [
    "us_total = us_total[['NAME', 'propor_over_65', 'median_income', 'state', 'non_white_propor']]"
   ]
  },
  {
   "cell_type": "code",
   "execution_count": 86,
   "id": "c9c0f273-26cb-43f5-a99b-de0e2e725d09",
   "metadata": {},
   "outputs": [],
   "source": [
    "us_total['income_dec'] = us_total.groupby('state')['median_income'].transform(lambda x: pd.qcut(x, 10, labels=False))\n",
    "us_total['income_dec'] += 1"
   ]
  },
  {
   "cell_type": "code",
   "execution_count": 87,
   "id": "7da995e4-5587-4901-959a-4181b28cdf34",
   "metadata": {},
   "outputs": [],
   "source": [
    "us_total['over65_dec'] = us_total.groupby('state')['propor_over_65'].transform(lambda x: pd.qcut(x, 10, labels=False))\n",
    "us_total['over65_dec'] += 1"
   ]
  },
  {
   "cell_type": "code",
   "execution_count": 88,
   "id": "b55e674b-f670-4caa-8003-080517f4da11",
   "metadata": {},
   "outputs": [],
   "source": [
    "us_total['nonwhite_dec'] = us_total.groupby('state')['non_white_propor'].transform(lambda x: pd.qcut(x, 10, labels=False))\n",
    "us_total['nonwhite_dec'] += 1"
   ]
  },
  {
   "cell_type": "code",
   "execution_count": 89,
   "id": "79bf6d46-30f8-4bbc-b06b-823f6fc98c40",
   "metadata": {},
   "outputs": [],
   "source": [
    "mob_vars = mob_vars.merge(us_total[['NAME', 'over65_dec', 'income_dec', 'nonwhite_dec']], left_on='location', right_on='NAME')"
   ]
  },
  {
   "cell_type": "code",
   "execution_count": 90,
   "id": "e5e263da-9335-4029-98ed-18c94a14ccde",
   "metadata": {},
   "outputs": [
    {
     "data": {
      "text/plain": [
       "1"
      ]
     },
     "execution_count": 90,
     "metadata": {},
     "output_type": "execute_result"
    }
   ],
   "source": [
    "mob_vars['over65_dec'].min()"
   ]
  },
  {
   "cell_type": "markdown",
   "id": "b7a72656-cf76-4e89-bc79-12e30e596e58",
   "metadata": {},
   "source": [
    "# Merge BC and U.S. and save"
   ]
  },
  {
   "cell_type": "code",
   "execution_count": 91,
   "id": "949412b0-f858-4a06-8076-3ccf6caa7584",
   "metadata": {},
   "outputs": [
    {
     "name": "stderr",
     "output_type": "stream",
     "text": [
      "/var/folders/8g/qp1k_1g91m5f2m9pypxwxdhh0000gn/T/ipykernel_97576/2836113146.py:1: FutureWarning: The frame.append method is deprecated and will be removed from pandas in a future version. Use pandas.concat instead.\n",
      "  mob_vars = mob_vars.append(bc_mob_vars)\n"
     ]
    }
   ],
   "source": [
    "mob_vars = mob_vars.append(bc_mob_vars)"
   ]
  },
  {
   "cell_type": "code",
   "execution_count": 93,
   "id": "54181144-131c-4a50-aa08-563f2601fd00",
   "metadata": {},
   "outputs": [],
   "source": [
    "mob_vars.drop('district', axis=1, inplace=True)"
   ]
  },
  {
   "cell_type": "code",
   "execution_count": 94,
   "id": "d6709a3a-9469-451a-ae3a-15dc78bd39e9",
   "metadata": {},
   "outputs": [],
   "source": [
    "mob_vars = mob_vars.merge(pop_dens[['location', 'popdens_dec']], on='location')"
   ]
  },
  {
   "cell_type": "code",
   "execution_count": 100,
   "id": "fc45d993-f2b5-4644-869a-2f75226d1647",
   "metadata": {},
   "outputs": [],
   "source": [
    "mob_vars.to_csv(data_path + 'mobility_heat/mob_vars_final_clean_90.csv')"
   ]
  }
 ],
 "metadata": {
  "kernelspec": {
   "display_name": "Python 3 (ipykernel)",
   "language": "python",
   "name": "python3"
  },
  "language_info": {
   "codemirror_mode": {
    "name": "ipython",
    "version": 3
   },
   "file_extension": ".py",
   "mimetype": "text/x-python",
   "name": "python",
   "nbconvert_exporter": "python",
   "pygments_lexer": "ipython3",
   "version": "3.10.9"
  }
 },
 "nbformat": 4,
 "nbformat_minor": 5
}
