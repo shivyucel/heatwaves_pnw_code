{
 "cells": [
  {
   "cell_type": "code",
   "execution_count": 1,
   "id": "101a859d-88e2-431d-a866-3cfdc5099570",
   "metadata": {},
   "outputs": [],
   "source": [
    "import pandas as pd\n",
    "import geopandas as gpd\n",
    "import matplotlib.pyplot as plt\n",
    "import seaborn as sns\n",
    "sns.set_style('darkgrid')\n",
    "from scipy.stats import ttest_ind\n",
    "import numpy as np\n",
    "from IPython.display import display, Markdown, Latex\n",
    "plt.style.use('ggplot')\n",
    "from datetime import date\n",
    "from scipy.stats import norm\n",
    "import numpy as np\n",
    "import pandas\n",
    "\n",
    "data_path = '/Users/shivyucel/Documents/projects/DPhil/Code_Data/data/'"
   ]
  },
  {
   "cell_type": "code",
   "execution_count": null,
   "id": "3df3b9ed",
   "metadata": {},
   "outputs": [],
   "source": []
  },
  {
   "cell_type": "markdown",
   "id": "c06642ff-1855-4ddd-88d0-4b4868cc1740",
   "metadata": {},
   "source": [
    "# Update mobility variables"
   ]
  },
  {
   "cell_type": "code",
   "execution_count": 6,
   "id": "bd0248c9-8166-4a88-9e21-791c5e13ac2a",
   "metadata": {},
   "outputs": [],
   "source": [
    "#income and age added in census folder notebook before continuing here\n",
    "mob_vars = pd.read_csv(data_path + 'mobility_heat/mob_vars_final_clean_90_v1.csv')\n",
    "#relative_heat = pd.read_csv('/Users/shivyucel/Documents/projects/DPhil/Code_Data/data/heatwave/relative_heat_scores.csv')"
   ]
  },
  {
   "cell_type": "code",
   "execution_count": 24,
   "id": "207bd8bd",
   "metadata": {},
   "outputs": [
    {
     "data": {
      "text/html": [
       "<div>\n",
       "<style scoped>\n",
       "    .dataframe tbody tr th:only-of-type {\n",
       "        vertical-align: middle;\n",
       "    }\n",
       "\n",
       "    .dataframe tbody tr th {\n",
       "        vertical-align: top;\n",
       "    }\n",
       "\n",
       "    .dataframe thead th {\n",
       "        text-align: right;\n",
       "    }\n",
       "</style>\n",
       "<table border=\"1\" class=\"dataframe\">\n",
       "  <thead>\n",
       "    <tr style=\"text-align: right;\">\n",
       "      <th></th>\n",
       "      <th>count</th>\n",
       "      <th>mean</th>\n",
       "      <th>std</th>\n",
       "      <th>min</th>\n",
       "      <th>25%</th>\n",
       "      <th>50%</th>\n",
       "      <th>75%</th>\n",
       "      <th>max</th>\n",
       "    </tr>\n",
       "    <tr>\n",
       "      <th>year</th>\n",
       "      <th></th>\n",
       "      <th></th>\n",
       "      <th></th>\n",
       "      <th></th>\n",
       "      <th></th>\n",
       "      <th></th>\n",
       "      <th></th>\n",
       "      <th></th>\n",
       "    </tr>\n",
       "  </thead>\n",
       "  <tbody>\n",
       "    <tr>\n",
       "      <th>2020</th>\n",
       "      <td>623.0</td>\n",
       "      <td>-0.101124</td>\n",
       "      <td>26.833314</td>\n",
       "      <td>-105.0</td>\n",
       "      <td>-14.0</td>\n",
       "      <td>-5.0</td>\n",
       "      <td>7.5</td>\n",
       "      <td>178.0</td>\n",
       "    </tr>\n",
       "    <tr>\n",
       "      <th>2021</th>\n",
       "      <td>1091.0</td>\n",
       "      <td>-2.372136</td>\n",
       "      <td>34.689407</td>\n",
       "      <td>-209.0</td>\n",
       "      <td>-18.0</td>\n",
       "      <td>-6.0</td>\n",
       "      <td>7.0</td>\n",
       "      <td>320.0</td>\n",
       "    </tr>\n",
       "    <tr>\n",
       "      <th>2022</th>\n",
       "      <td>1127.0</td>\n",
       "      <td>0.850932</td>\n",
       "      <td>28.808410</td>\n",
       "      <td>-124.0</td>\n",
       "      <td>-15.0</td>\n",
       "      <td>-4.0</td>\n",
       "      <td>11.0</td>\n",
       "      <td>165.0</td>\n",
       "    </tr>\n",
       "  </tbody>\n",
       "</table>\n",
       "</div>"
      ],
      "text/plain": [
       "       count      mean        std    min   25%  50%   75%    max\n",
       "year                                                            \n",
       "2020   623.0 -0.101124  26.833314 -105.0 -14.0 -5.0   7.5  178.0\n",
       "2021  1091.0 -2.372136  34.689407 -209.0 -18.0 -6.0   7.0  320.0\n",
       "2022  1127.0  0.850932  28.808410 -124.0 -15.0 -4.0  11.0  165.0"
      ]
     },
     "execution_count": 24,
     "metadata": {},
     "output_type": "execute_result"
    }
   ],
   "source": [
    "mob_vars.groupby('year')['parks_difference'].describe()"
   ]
  },
  {
   "cell_type": "code",
   "execution_count": 3,
   "id": "1b57f8c9-99c3-4eba-934a-c203bcb3d016",
   "metadata": {},
   "outputs": [],
   "source": [
    "mob_vars['date'] = pd.to_datetime(mob_vars['date'])"
   ]
  },
  {
   "cell_type": "code",
   "execution_count": 4,
   "id": "354744cb-9660-4ce2-959b-ff175e3fef6b",
   "metadata": {},
   "outputs": [],
   "source": [
    "mob_vars['month'] = [x.month for x in mob_vars['date']]"
   ]
  },
  {
   "cell_type": "markdown",
   "id": "fe89402a-35c2-4079-806d-75b7b233eb6a",
   "metadata": {},
   "source": [
    "### Add winter temperatures"
   ]
  },
  {
   "cell_type": "code",
   "execution_count": 5,
   "id": "fe5782d4-872e-46af-8cbc-fb3b323f1736",
   "metadata": {},
   "outputs": [],
   "source": [
    "winter = pd.read_csv('/Users/shivyucel/Documents/projects/DPhil/Code_Data/data/winter_v2.csv')"
   ]
  },
  {
   "cell_type": "code",
   "execution_count": 6,
   "id": "fcee34c9-47be-4b41-943b-d1a14b58bb43",
   "metadata": {},
   "outputs": [],
   "source": [
    "mob_vars = mob_vars.merge(winter[['location', 'temperature_2m_winter']])"
   ]
  },
  {
   "cell_type": "markdown",
   "id": "2e169fd7-5e56-4942-9289-1dc42be4b692",
   "metadata": {},
   "source": [
    "### Build >=5 duration variable"
   ]
  },
  {
   "cell_type": "code",
   "execution_count": 7,
   "id": "7226a858-8173-4072-82fd-c776c24f3143",
   "metadata": {},
   "outputs": [],
   "source": [
    "mob_vars['heatwave_dur'] = ['<5 days' if x<5 else '>=5 days' for x in mob_vars['Heat Wave Duration']]\n",
    "mob_vars['hw_dur_>=_5'] = [0 if x=='<5 days' else 1 for x in mob_vars['heatwave_dur']]"
   ]
  },
  {
   "cell_type": "markdown",
   "id": "e58a7b69-7559-4a09-9536-6066e3ead8d5",
   "metadata": {},
   "source": [
    "### Get stage_frac variables"
   ]
  },
  {
   "cell_type": "code",
   "execution_count": 8,
   "id": "7401231f-9cd2-4e09-9a37-6a5871114e1b",
   "metadata": {},
   "outputs": [],
   "source": [
    "mob_vars['stage_frac'] = mob_vars['stage'] / mob_vars['Heat Wave Duration'] * 100\n"
   ]
  },
  {
   "cell_type": "code",
   "execution_count": 9,
   "id": "b0683a66-e455-4f83-b0da-22a0f55e1ff9",
   "metadata": {},
   "outputs": [
    {
     "data": {
      "text/plain": [
       "count    6100.000000\n",
       "mean       63.878364\n",
       "std        28.344134\n",
       "min         9.090909\n",
       "25%        40.000000\n",
       "50%        62.500000\n",
       "75%       100.000000\n",
       "max       100.000000\n",
       "Name: stage_frac, dtype: float64"
      ]
     },
     "execution_count": 9,
     "metadata": {},
     "output_type": "execute_result"
    }
   ],
   "source": [
    "mob_vars['stage_frac'].describe()\n"
   ]
  },
  {
   "cell_type": "code",
   "execution_count": 10,
   "id": "da4955d8-d51b-4d8b-9cdd-ad4e07bf313c",
   "metadata": {},
   "outputs": [],
   "source": [
    "mob_vars.to_csv(data_path + 'mobility_heat/final_premultivariate_clean_90_v1.csv')"
   ]
  },
  {
   "cell_type": "markdown",
   "id": "7e50ca7a-548d-4f00-a2bf-67f2cfcc3bc5",
   "metadata": {},
   "source": [
    "# Add/prepare final variables multivariate\n"
   ]
  },
  {
   "cell_type": "code",
   "execution_count": 11,
   "id": "e27795dd-ac0f-4c47-b6d1-6d0cd484533e",
   "metadata": {},
   "outputs": [],
   "source": [
    "mob_vars = pd.read_csv(data_path + 'mobility_heat/final_premultivariate_clean_90_v1.csv')"
   ]
  },
  {
   "cell_type": "markdown",
   "id": "70b8d54b-49d0-413a-89fd-a665ba2b850c",
   "metadata": {},
   "source": [
    "## Merge coastal "
   ]
  },
  {
   "cell_type": "code",
   "execution_count": 12,
   "id": "181ea94d-241c-42dc-a68f-c9c2179edbba",
   "metadata": {},
   "outputs": [],
   "source": [
    "coast_variable = pd.read_csv(data_path + 'mobility_heat/multivariate_modelling_v25.csv')\n",
    "coast_variable.drop_duplicates('location', inplace=True)"
   ]
  },
  {
   "cell_type": "code",
   "execution_count": 13,
   "id": "01290d5d-d6de-4837-8f27-9981c89282c8",
   "metadata": {},
   "outputs": [],
   "source": [
    "mob_vars = mob_vars.merge(coast_variable[['location', 'coast_binary']], on='location')"
   ]
  },
  {
   "cell_type": "code",
   "execution_count": 14,
   "id": "a5d17258-3edb-4807-b7c9-9c83ebc41253",
   "metadata": {},
   "outputs": [],
   "source": [
    "df = mob_vars.copy()"
   ]
  },
  {
   "cell_type": "markdown",
   "id": "e20c4028-e7e0-4d84-9328-3bea2bc57000",
   "metadata": {},
   "source": [
    "### Remove Outliers"
   ]
  },
  {
   "cell_type": "code",
   "execution_count": null,
   "id": "a99f49c1-9790-43c6-ae38-61eec46b8086",
   "metadata": {},
   "outputs": [],
   "source": [
    "SD = 4"
   ]
  },
  {
   "cell_type": "code",
   "execution_count": 15,
   "id": "24ad2b56-a931-4948-b375-3953d5e117ed",
   "metadata": {
    "tags": []
   },
   "outputs": [],
   "source": [
    "df['workplaces_difference'] = [np.nan if (x >= df['workplaces_difference'].mean() + (SD * df['workplaces_difference'].std())) | (x <= df['workplaces_difference'].mean() - (SD * df['workplaces_difference'].std())) else x for x in df['workplaces_difference'] ]\n",
    "\n",
    "df['residential_difference'] = [np.nan if (x >= df['residential_difference'].mean() + (SD * df['residential_difference'].std())) | (x <= df['residential_difference'].mean() - (SD * df['residential_difference'].std())) else x for x in df['residential_difference'] ]\n",
    "\n",
    "\n",
    "df['grocery_pharmacy_difference'] = [np.nan if (x >= df['grocery_pharmacy_difference'].mean() + (SD * df['grocery_pharmacy_difference'].std())) | (x <= df['grocery_pharmacy_difference'].mean() - (SD * df['grocery_pharmacy_difference'].std())) else x for x in df['grocery_pharmacy_difference'] ]\n",
    "\n",
    "df['parks_difference'] = [np.nan if (x >= df['parks_difference'].mean() + (SD * df['parks_difference'].std())) | (x <= df['parks_difference'].mean() - (SD * df['parks_difference'].std())) else x for x in df['parks_difference'] ]\n",
    "\n",
    "df['retail_difference'] = [np.nan if (x >= df['retail_difference'].mean() + (SD * df['retail_difference'].std())) | (x <= df['retail_difference'].mean() - (SD * df['retail_difference'].std())) else x for x in df['retail_difference'] ]\n",
    "\n",
    "\n",
    "df['transit_difference'] = [np.nan if (x >= df['transit_difference'].mean() + (SD * df['transit_difference'].std())) | (x <= df['transit_difference'].mean() - (SD * df['transit_difference'].std())) else x for x in df['transit_difference'] ]\n",
    "\n",
    "\n",
    "df.dropna(how='all', subset=['workplace_differences', 'residential_difference', 'transit_difference', 'grocery_pharm_difference', 'parks_difference', 'retail_rec_difference'], inplace=True)"
   ]
  },
  {
   "cell_type": "code",
   "execution_count": 33,
   "id": "7e4ee556-9bf6-4f79-a6c6-346184dba8ea",
   "metadata": {},
   "outputs": [
    {
     "data": {
      "text/html": [
       "<div>\n",
       "<style scoped>\n",
       "    .dataframe tbody tr th:only-of-type {\n",
       "        vertical-align: middle;\n",
       "    }\n",
       "\n",
       "    .dataframe tbody tr th {\n",
       "        vertical-align: top;\n",
       "    }\n",
       "\n",
       "    .dataframe thead th {\n",
       "        text-align: right;\n",
       "    }\n",
       "</style>\n",
       "<table border=\"1\" class=\"dataframe\">\n",
       "  <thead>\n",
       "    <tr style=\"text-align: right;\">\n",
       "      <th></th>\n",
       "      <th>workplaces_difference</th>\n",
       "      <th>residential_difference</th>\n",
       "      <th>transit_difference</th>\n",
       "      <th>grocery_pharmacy_difference</th>\n",
       "      <th>parks_difference</th>\n",
       "      <th>retail_difference</th>\n",
       "    </tr>\n",
       "  </thead>\n",
       "  <tbody>\n",
       "    <tr>\n",
       "      <th>count</th>\n",
       "      <td>5941.000000</td>\n",
       "      <td>4884.000000</td>\n",
       "      <td>3391.000000</td>\n",
       "      <td>4482.000000</td>\n",
       "      <td>2818.000000</td>\n",
       "      <td>5227.000000</td>\n",
       "    </tr>\n",
       "    <tr>\n",
       "      <th>mean</th>\n",
       "      <td>-0.518431</td>\n",
       "      <td>-0.077600</td>\n",
       "      <td>-0.680035</td>\n",
       "      <td>1.242972</td>\n",
       "      <td>-1.605749</td>\n",
       "      <td>0.426057</td>\n",
       "    </tr>\n",
       "    <tr>\n",
       "      <th>std</th>\n",
       "      <td>3.566710</td>\n",
       "      <td>1.501967</td>\n",
       "      <td>8.479401</td>\n",
       "      <td>6.326961</td>\n",
       "      <td>26.826260</td>\n",
       "      <td>6.721429</td>\n",
       "    </tr>\n",
       "    <tr>\n",
       "      <th>min</th>\n",
       "      <td>-17.000000</td>\n",
       "      <td>-6.000000</td>\n",
       "      <td>-41.000000</td>\n",
       "      <td>-27.000000</td>\n",
       "      <td>-119.000000</td>\n",
       "      <td>-31.000000</td>\n",
       "    </tr>\n",
       "    <tr>\n",
       "      <th>25%</th>\n",
       "      <td>-2.000000</td>\n",
       "      <td>-1.000000</td>\n",
       "      <td>-4.000000</td>\n",
       "      <td>-2.000000</td>\n",
       "      <td>-16.000000</td>\n",
       "      <td>-3.000000</td>\n",
       "    </tr>\n",
       "    <tr>\n",
       "      <th>50%</th>\n",
       "      <td>0.000000</td>\n",
       "      <td>0.000000</td>\n",
       "      <td>-1.000000</td>\n",
       "      <td>1.000000</td>\n",
       "      <td>-5.000000</td>\n",
       "      <td>0.000000</td>\n",
       "    </tr>\n",
       "    <tr>\n",
       "      <th>75%</th>\n",
       "      <td>1.000000</td>\n",
       "      <td>1.000000</td>\n",
       "      <td>3.000000</td>\n",
       "      <td>4.000000</td>\n",
       "      <td>8.000000</td>\n",
       "      <td>3.000000</td>\n",
       "    </tr>\n",
       "    <tr>\n",
       "      <th>max</th>\n",
       "      <td>16.000000</td>\n",
       "      <td>6.000000</td>\n",
       "      <td>41.000000</td>\n",
       "      <td>30.000000</td>\n",
       "      <td>122.000000</td>\n",
       "      <td>31.000000</td>\n",
       "    </tr>\n",
       "  </tbody>\n",
       "</table>\n",
       "</div>"
      ],
      "text/plain": [
       "       workplaces_difference  residential_difference  transit_difference  \\\n",
       "count            5941.000000             4884.000000         3391.000000   \n",
       "mean               -0.518431               -0.077600           -0.680035   \n",
       "std                 3.566710                1.501967            8.479401   \n",
       "min               -17.000000               -6.000000          -41.000000   \n",
       "25%                -2.000000               -1.000000           -4.000000   \n",
       "50%                 0.000000                0.000000           -1.000000   \n",
       "75%                 1.000000                1.000000            3.000000   \n",
       "max                16.000000                6.000000           41.000000   \n",
       "\n",
       "       grocery_pharmacy_difference  parks_difference  retail_difference  \n",
       "count                  4482.000000       2818.000000        5227.000000  \n",
       "mean                      1.242972         -1.605749           0.426057  \n",
       "std                       6.326961         26.826260           6.721429  \n",
       "min                     -27.000000       -119.000000         -31.000000  \n",
       "25%                      -2.000000        -16.000000          -3.000000  \n",
       "50%                       1.000000         -5.000000           0.000000  \n",
       "75%                       4.000000          8.000000           3.000000  \n",
       "max                      30.000000        122.000000          31.000000  "
      ]
     },
     "execution_count": 33,
     "metadata": {},
     "output_type": "execute_result"
    }
   ],
   "source": [
    "df[['workplaces_difference', 'residential_difference', 'transit_difference', 'grocery_pharmacy_difference', 'parks_difference', 'retail_difference']].describe()"
   ]
  },
  {
   "cell_type": "markdown",
   "id": "f3e701b1-c005-4518-89ad-42f5276401f5",
   "metadata": {
    "tags": []
   },
   "source": [
    "### Center heat wave temperature variable"
   ]
  },
  {
   "cell_type": "code",
   "execution_count": 16,
   "id": "d9380c56-3101-47de-9aaa-bbd9a05015c7",
   "metadata": {},
   "outputs": [],
   "source": [
    "df['heat_temp_centered'] = df['temperature_2m_heat'] - df['temperature_2m_heat'].mean()\n"
   ]
  },
  {
   "cell_type": "markdown",
   "id": "324cdf26-ea68-49cd-9d79-735fefcd4cc9",
   "metadata": {},
   "source": [
    "### Get Large city Variables"
   ]
  },
  {
   "cell_type": "code",
   "execution_count": 17,
   "id": "09f3c904-0413-4a69-8b5e-892d7acdbc18",
   "metadata": {},
   "outputs": [],
   "source": [
    "df['large_city'] = [x if x in ['Los Angeles County', 'San Diego County', 'Santa Clara County', 'San Francisco County', 'Sacramento County', 'King County', 'Multnomah County', 'Greater Vancouver'] else 'nonmajor' for x  in df['county']]"
   ]
  },
  {
   "cell_type": "markdown",
   "id": "f7616771-452e-4a61-a71b-6325278f788a",
   "metadata": {},
   "source": [
    "### Get coast binary as digit"
   ]
  },
  {
   "cell_type": "code",
   "execution_count": 18,
   "id": "041cfb1b-d8e7-41e2-b58f-c1f39cbfe6c9",
   "metadata": {},
   "outputs": [],
   "source": [
    "df['coast_binary'] = df['coast_binary'] * 1"
   ]
  },
  {
   "cell_type": "markdown",
   "id": "bb5c500e-77bd-46d1-b696-69522cc97f48",
   "metadata": {},
   "source": [
    "### Get June heatwave variable"
   ]
  },
  {
   "cell_type": "code",
   "execution_count": 19,
   "id": "473d94ad-6258-47bc-b98f-a1d18efef70c",
   "metadata": {},
   "outputs": [],
   "source": [
    "df = df[['temperature_2m_heat', 'month', 'date_heat', 'control_day', 'Heat Wave Duration', 'large_city', 'date', 'location', 'heat_ID_x', 'workplaces_difference', 'residential_difference', 'grocery_pharmacy_difference', 'retail_difference', 'parks_difference', 'transit_difference', 'state', 'year', 'weekend', 'stage_frac', 'heatwave_dur', 'temp_diff', 'heat_temp_centered', 'coast_binary', 'temperature_2m_winter', 'income_dec', 'over65_dec', 'nonwhite_dec','large_city', 'popdens_dec']]"
   ]
  },
  {
   "cell_type": "code",
   "execution_count": 20,
   "id": "82d671aa-8701-48cf-8d50-cd33033a1bdf",
   "metadata": {},
   "outputs": [],
   "source": [
    "df['index'] = range(0, len(df))"
   ]
  },
  {
   "cell_type": "code",
   "execution_count": 21,
   "id": "55314c05-c16a-4a6d-84fd-bbd1c5c6812d",
   "metadata": {},
   "outputs": [],
   "source": [
    "df['date'] = pd.to_datetime(df['date'])"
   ]
  },
  {
   "cell_type": "code",
   "execution_count": 22,
   "id": "f8cf65a7-1569-47dc-bfc9-34059ab58598",
   "metadata": {},
   "outputs": [],
   "source": [
    "df['month'] = [x.month for x in df['date']]"
   ]
  },
  {
   "cell_type": "code",
   "execution_count": 23,
   "id": "4d6d7d18-f129-4900-8701-dbb406648ab4",
   "metadata": {},
   "outputs": [
    {
     "data": {
      "text/plain": [
       "array([6, 7, 8, 9])"
      ]
     },
     "execution_count": 23,
     "metadata": {},
     "output_type": "execute_result"
    }
   ],
   "source": [
    "df['month'].unique()"
   ]
  },
  {
   "cell_type": "code",
   "execution_count": 24,
   "id": "090e8afb-7b49-43cf-9537-f582c132a0e3",
   "metadata": {},
   "outputs": [],
   "source": [
    "df['june_hw'] = df.groupby(['heat_ID_x'])['month'].transform(lambda x: 6 in x.unique())\n",
    "df['june_hw'] = df['june_hw'] * 1\n",
    "\n"
   ]
  },
  {
   "cell_type": "code",
   "execution_count": 25,
   "id": "fc0e2919-31e2-40f1-94cd-8cb3349ece0f",
   "metadata": {},
   "outputs": [
    {
     "data": {
      "text/plain": [
       "month\n",
       "8    2347\n",
       "7    2189\n",
       "9     796\n",
       "6     754\n",
       "Name: count, dtype: int64"
      ]
     },
     "execution_count": 25,
     "metadata": {},
     "output_type": "execute_result"
    }
   ],
   "source": [
    "df['month'].value_counts()"
   ]
  },
  {
   "cell_type": "code",
   "execution_count": 26,
   "id": "705821a9-6025-49ec-a583-ba5c97d36eef",
   "metadata": {},
   "outputs": [],
   "source": [
    "df.rename(columns={'heat_ID_x': 'heat_ID'}, inplace=True)"
   ]
  },
  {
   "cell_type": "code",
   "execution_count": 27,
   "id": "2bc7b2af-c930-4285-af4c-79c03633a5c1",
   "metadata": {},
   "outputs": [],
   "source": [
    "df.reset_index(inplace=True, drop=True)"
   ]
  },
  {
   "cell_type": "code",
   "execution_count": 28,
   "id": "87ea06c7-6ed8-4bdb-9eb1-ae68e4c670ec",
   "metadata": {},
   "outputs": [
    {
     "data": {
      "text/plain": [
       "count    6086.000000\n",
       "mean       33.392871\n",
       "std         5.037908\n",
       "min        18.414703\n",
       "25%        29.775768\n",
       "50%        33.688816\n",
       "75%        36.818149\n",
       "max        47.254585\n",
       "Name: temperature_2m_heat, dtype: float64"
      ]
     },
     "execution_count": 28,
     "metadata": {},
     "output_type": "execute_result"
    }
   ],
   "source": [
    "df['temperature_2m_heat'].describe()"
   ]
  },
  {
   "cell_type": "code",
   "execution_count": null,
   "id": "35d37ce1-a7f0-4f2d-a65f-3a8ec978fa5b",
   "metadata": {},
   "outputs": [],
   "source": [
    "df.to_csv(data_path + 'mobility_heat/mobility_heat_dataset_update.csv')"
   ]
  }
 ],
 "metadata": {
  "kernelspec": {
   "display_name": "ox",
   "language": "python",
   "name": "python3"
  },
  "language_info": {
   "codemirror_mode": {
    "name": "ipython",
    "version": 3
   },
   "file_extension": ".py",
   "mimetype": "text/x-python",
   "name": "python",
   "nbconvert_exporter": "python",
   "pygments_lexer": "ipython3",
   "version": "3.11.0"
  }
 },
 "nbformat": 4,
 "nbformat_minor": 5
}
