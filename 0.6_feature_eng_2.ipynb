{
 "cells": [
  {
   "cell_type": "code",
   "execution_count": 1,
   "id": "101a859d-88e2-431d-a866-3cfdc5099570",
   "metadata": {},
   "outputs": [
    {
     "name": "stderr",
     "output_type": "stream",
     "text": [
      "/var/folders/8g/qp1k_1g91m5f2m9pypxwxdhh0000gn/T/ipykernel_99322/4142588568.py:8: DeprecationWarning: Please use `pearsonr` from the `scipy.stats` namespace, the `scipy.stats.stats` namespace is deprecated.\n",
      "  from scipy.stats.stats import pearsonr\n"
     ]
    }
   ],
   "source": [
    "import pandas as pd\n",
    "import geopandas as gpd\n",
    "import matplotlib.pyplot as plt\n",
    "import seaborn as sns\n",
    "sns.set_style('darkgrid')\n",
    "from scipy.stats import ttest_ind\n",
    "import numpy as np\n",
    "from scipy.stats.stats import pearsonr\n",
    "from IPython.display import display, Markdown, Latex\n",
    "plt.style.use('ggplot')\n",
    "from datetime import date\n",
    "from statsmodels.stats.outliers_influence import variance_inflation_factor\n",
    "from scipy.stats import norm\n",
    "from seaborn_qqplot import pplot\n",
    "import statsmodels.api as sm\n",
    "import statsmodels.formula.api as smf\n",
    "import numpy as np\n",
    "import pandas\n",
    "\n",
    "data_path = '/Users/shivyucel/Documents/projects/DPhil/Code_Data/data/'"
   ]
  },
  {
   "cell_type": "markdown",
   "id": "c06642ff-1855-4ddd-88d0-4b4868cc1740",
   "metadata": {},
   "source": [
    "# Update mobility variables"
   ]
  },
  {
   "cell_type": "code",
   "execution_count": 2,
   "id": "bd0248c9-8166-4a88-9e21-791c5e13ac2a",
   "metadata": {},
   "outputs": [],
   "source": [
    "#income and age added in census folder notebook before continuing here\n",
    "mob_vars = pd.read_csv(data_path + 'mobility_heat/mob_vars_final_clean_90_v1.csv')\n",
    "#relative_heat = pd.read_csv('/Users/shivyucel/Documents/projects/DPhil/Code_Data/data/heatwave/relative_heat_scores.csv')"
   ]
  },
  {
   "cell_type": "code",
   "execution_count": 3,
   "id": "1b57f8c9-99c3-4eba-934a-c203bcb3d016",
   "metadata": {},
   "outputs": [],
   "source": [
    "mob_vars['date'] = pd.to_datetime(mob_vars['date'])"
   ]
  },
  {
   "cell_type": "code",
   "execution_count": 4,
   "id": "354744cb-9660-4ce2-959b-ff175e3fef6b",
   "metadata": {},
   "outputs": [],
   "source": [
    "mob_vars['month'] = [x.month for x in mob_vars['date']]"
   ]
  },
  {
   "cell_type": "markdown",
   "id": "fe89402a-35c2-4079-806d-75b7b233eb6a",
   "metadata": {},
   "source": [
    "### Add winter temperatures"
   ]
  },
  {
   "cell_type": "code",
   "execution_count": 5,
   "id": "fe5782d4-872e-46af-8cbc-fb3b323f1736",
   "metadata": {},
   "outputs": [],
   "source": [
    "winter = pd.read_csv('/Users/shivyucel/Documents/projects/DPhil/Code_Data/data/winter_v2.csv')"
   ]
  },
  {
   "cell_type": "code",
   "execution_count": 6,
   "id": "fcee34c9-47be-4b41-943b-d1a14b58bb43",
   "metadata": {},
   "outputs": [],
   "source": [
    "mob_vars = mob_vars.merge(winter[['location', 'temperature_2m_winter']])"
   ]
  },
  {
   "cell_type": "markdown",
   "id": "2e169fd7-5e56-4942-9289-1dc42be4b692",
   "metadata": {},
   "source": [
    "### Build >=5 duration variable"
   ]
  },
  {
   "cell_type": "code",
   "execution_count": 7,
   "id": "7226a858-8173-4072-82fd-c776c24f3143",
   "metadata": {},
   "outputs": [],
   "source": [
    "mob_vars['heatwave_dur'] = ['<5 days' if x<5 else '>=5 days' for x in mob_vars['Heat Wave Duration']]\n",
    "mob_vars['hw_dur_>=_5'] = [0 if x=='<5 days' else 1 for x in mob_vars['heatwave_dur']]"
   ]
  },
  {
   "cell_type": "markdown",
   "id": "e58a7b69-7559-4a09-9536-6066e3ead8d5",
   "metadata": {},
   "source": [
    "### Get stage_frac variables"
   ]
  },
  {
   "cell_type": "code",
   "execution_count": 8,
   "id": "7401231f-9cd2-4e09-9a37-6a5871114e1b",
   "metadata": {},
   "outputs": [],
   "source": [
    "mob_vars['stage_frac'] = mob_vars['stage'] / mob_vars['Heat Wave Duration'] * 100\n"
   ]
  },
  {
   "cell_type": "code",
   "execution_count": 9,
   "id": "b0683a66-e455-4f83-b0da-22a0f55e1ff9",
   "metadata": {},
   "outputs": [
    {
     "data": {
      "text/plain": [
       "count    6596.000000\n",
       "mean       63.764445\n",
       "std        28.356145\n",
       "min         9.090909\n",
       "25%        40.000000\n",
       "50%        62.500000\n",
       "75%       100.000000\n",
       "max       100.000000\n",
       "Name: stage_frac, dtype: float64"
      ]
     },
     "execution_count": 9,
     "metadata": {},
     "output_type": "execute_result"
    }
   ],
   "source": [
    "mob_vars['stage_frac'].describe()\n"
   ]
  },
  {
   "cell_type": "code",
   "execution_count": 10,
   "id": "da4955d8-d51b-4d8b-9cdd-ad4e07bf313c",
   "metadata": {},
   "outputs": [],
   "source": [
    "mob_vars.to_csv(data_path + 'mobility_heat/final_premultivariate_clean_90_v1.csv')"
   ]
  },
  {
   "cell_type": "markdown",
   "id": "7e50ca7a-548d-4f00-a2bf-67f2cfcc3bc5",
   "metadata": {},
   "source": [
    "# Add/prepare final variables multivariate\n"
   ]
  },
  {
   "cell_type": "code",
   "execution_count": 11,
   "id": "e27795dd-ac0f-4c47-b6d1-6d0cd484533e",
   "metadata": {},
   "outputs": [],
   "source": [
    "mob_vars = pd.read_csv(data_path + 'mobility_heat/final_premultivariate_clean_90_v1.csv')"
   ]
  },
  {
   "cell_type": "markdown",
   "id": "70b8d54b-49d0-413a-89fd-a665ba2b850c",
   "metadata": {},
   "source": [
    "## Merge coastal "
   ]
  },
  {
   "cell_type": "code",
   "execution_count": 12,
   "id": "181ea94d-241c-42dc-a68f-c9c2179edbba",
   "metadata": {},
   "outputs": [],
   "source": [
    "coast_stuff = pd.read_csv(data_path + 'mobility_heat/multivariate_modelling_v25.csv')\n",
    "coast_stuff.drop_duplicates('location', inplace=True)"
   ]
  },
  {
   "cell_type": "code",
   "execution_count": 13,
   "id": "01290d5d-d6de-4837-8f27-9981c89282c8",
   "metadata": {},
   "outputs": [],
   "source": [
    "mob_vars = mob_vars.merge(coast_stuff[['location', 'coast_binary']], on='location')"
   ]
  },
  {
   "cell_type": "code",
   "execution_count": 74,
   "id": "a5d17258-3edb-4807-b7c9-9c83ebc41253",
   "metadata": {},
   "outputs": [],
   "source": [
    "df = mob_vars.copy()"
   ]
  },
  {
   "cell_type": "markdown",
   "id": "e20c4028-e7e0-4d84-9328-3bea2bc57000",
   "metadata": {},
   "source": [
    "### Remove Outliers"
   ]
  },
  {
   "cell_type": "code",
   "execution_count": 75,
   "id": "24ad2b56-a931-4948-b375-3953d5e117ed",
   "metadata": {
    "tags": []
   },
   "outputs": [],
   "source": [
    "df['workplaces_difference'] = [np.nan if abs(x) >= df['workplaces_difference'].mean() + (3 * df['workplaces_difference'].std()) else x for x in df['workplaces_difference'] ]\n",
    "\n",
    "df['residential_difference'] = [np.nan if abs(x) >= df['residential_difference'].mean() + (3 * df['residential_difference'].std()) else x for x in df['residential_difference'] ]\n",
    "\n",
    "df['grocery_pharmacy_difference'] = [np.nan if abs(x) >= df['grocery_pharmacy_difference'].mean() + (3 * df['grocery_pharmacy_difference'].std()) else x for x in df['grocery_pharmacy_difference'] ]\n",
    "\n",
    "df['parks_difference'] = [np.nan if abs(x)>= df['parks_difference'].mean() + (3 * df['parks_difference'].std()) else x for x in df['parks_difference'] ]\n",
    "\n",
    "df['retail_difference'] = [np.nan if abs(x) >= df['retail_difference'].mean() + (3 * df['retail_difference'].std()) else x for x in df['retail_difference'] ]\n",
    "\n",
    "df['transit_difference'] = [np.nan if abs(x) >= df['transit_difference'].mean() + (3 * df['transit_difference'].std()) else x for x in df['transit_difference'] ]\n",
    "\n",
    "#v13\n",
    "df.dropna(how='all', subset=['workplaces_difference', 'residential_difference', 'transit_difference', 'grocery_pharmacy_difference', 'parks_difference', 'retail_difference'], inplace=True)"
   ]
  },
  {
   "cell_type": "markdown",
   "id": "f3e701b1-c005-4518-89ad-42f5276401f5",
   "metadata": {},
   "source": [
    "### Center heat wave temperature variable"
   ]
  },
  {
   "cell_type": "code",
   "execution_count": 76,
   "id": "d9380c56-3101-47de-9aaa-bbd9a05015c7",
   "metadata": {},
   "outputs": [],
   "source": [
    "df['heat_temp_centered'] = df['temperature_2m_heat'] - df['temperature_2m_heat'].mean()\n"
   ]
  },
  {
   "cell_type": "markdown",
   "id": "324cdf26-ea68-49cd-9d79-735fefcd4cc9",
   "metadata": {},
   "source": [
    "### Get Large city Variables"
   ]
  },
  {
   "cell_type": "code",
   "execution_count": 77,
   "id": "09f3c904-0413-4a69-8b5e-892d7acdbc18",
   "metadata": {},
   "outputs": [],
   "source": [
    "df['large_city'] = [x if x in ['Los Angeles County', 'San Diego County', 'Santa Clara County', 'San Francisco County', 'Sacramento County', 'King County', 'Multnomah County', 'Greater Vancouver'] else 'nonmajor' for x  in df['county']]"
   ]
  },
  {
   "cell_type": "markdown",
   "id": "f7616771-452e-4a61-a71b-6325278f788a",
   "metadata": {},
   "source": [
    "### Get coast binary as digit"
   ]
  },
  {
   "cell_type": "code",
   "execution_count": 78,
   "id": "041cfb1b-d8e7-41e2-b58f-c1f39cbfe6c9",
   "metadata": {},
   "outputs": [],
   "source": [
    "df['coast_binary'] = df['coast_binary'] * 1"
   ]
  },
  {
   "cell_type": "markdown",
   "id": "bb5c500e-77bd-46d1-b696-69522cc97f48",
   "metadata": {},
   "source": [
    "### Get June heatwave variable"
   ]
  },
  {
   "cell_type": "code",
   "execution_count": 79,
   "id": "473d94ad-6258-47bc-b98f-a1d18efef70c",
   "metadata": {},
   "outputs": [],
   "source": [
    "df = df[['temperature_2m_heat', 'month', 'date_heat', 'control_day', 'Heat Wave Duration', 'large_city', 'date', 'location', 'heat_ID_x', 'workplaces_difference', 'residential_difference', 'grocery_pharmacy_difference', 'retail_difference', 'parks_difference', 'transit_difference', 'state', 'year', 'weekend', 'stage_frac', 'heatwave_dur', 'temp_diff', 'heat_temp_centered', 'coast_binary', 'temperature_2m_winter', 'income_dec', 'over65_dec', 'nonwhite_dec','large_city', 'popdens_dec']]"
   ]
  },
  {
   "cell_type": "code",
   "execution_count": 80,
   "id": "82d671aa-8701-48cf-8d50-cd33033a1bdf",
   "metadata": {},
   "outputs": [],
   "source": [
    "df['index'] = range(0, len(df))"
   ]
  },
  {
   "cell_type": "code",
   "execution_count": 81,
   "id": "55314c05-c16a-4a6d-84fd-bbd1c5c6812d",
   "metadata": {},
   "outputs": [],
   "source": [
    "df['date'] = pd.to_datetime(df['date'])"
   ]
  },
  {
   "cell_type": "code",
   "execution_count": 82,
   "id": "f8cf65a7-1569-47dc-bfc9-34059ab58598",
   "metadata": {},
   "outputs": [],
   "source": [
    "df['month'] = [x.month for x in df['date']]"
   ]
  },
  {
   "cell_type": "code",
   "execution_count": 83,
   "id": "4d6d7d18-f129-4900-8701-dbb406648ab4",
   "metadata": {},
   "outputs": [
    {
     "data": {
      "text/plain": [
       "array([6, 7, 8, 9])"
      ]
     },
     "execution_count": 83,
     "metadata": {},
     "output_type": "execute_result"
    }
   ],
   "source": [
    "df['month'].unique()"
   ]
  },
  {
   "cell_type": "code",
   "execution_count": 84,
   "id": "090e8afb-7b49-43cf-9537-f582c132a0e3",
   "metadata": {},
   "outputs": [],
   "source": [
    "df['june_hw'] = df.groupby(['heat_ID_x'])['month'].transform(lambda x: 6 in x.unique())\n",
    "df['june_hw'] = df['june_hw'] * 1\n",
    "\n"
   ]
  },
  {
   "cell_type": "code",
   "execution_count": 85,
   "id": "fc0e2919-31e2-40f1-94cd-8cb3349ece0f",
   "metadata": {},
   "outputs": [
    {
     "data": {
      "text/plain": [
       "7    2465\n",
       "8    2312\n",
       "6     961\n",
       "9     823\n",
       "Name: month, dtype: int64"
      ]
     },
     "execution_count": 85,
     "metadata": {},
     "output_type": "execute_result"
    }
   ],
   "source": [
    "df['month'].value_counts()"
   ]
  },
  {
   "cell_type": "code",
   "execution_count": 86,
   "id": "705821a9-6025-49ec-a583-ba5c97d36eef",
   "metadata": {},
   "outputs": [],
   "source": [
    "df.rename(columns={'heat_ID_x': 'heat_ID'}, inplace=True)"
   ]
  },
  {
   "cell_type": "code",
   "execution_count": 87,
   "id": "2bc7b2af-c930-4285-af4c-79c03633a5c1",
   "metadata": {},
   "outputs": [],
   "source": [
    "df.reset_index(inplace=True, drop=True)"
   ]
  },
  {
   "cell_type": "code",
   "execution_count": 88,
   "id": "35d37ce1-a7f0-4f2d-a65f-3a8ec978fa5b",
   "metadata": {},
   "outputs": [],
   "source": [
    "df.to_csv(data_path + 'mobility_heat/final_multivariate_clean_90_v1.csv')"
   ]
  },
  {
   "cell_type": "code",
   "execution_count": 89,
   "id": "dda94633-f687-42c9-9734-ea54f4d2d6af",
   "metadata": {},
   "outputs": [
    {
     "data": {
      "text/plain": [
       "count    6246.000000\n",
       "mean       -0.474063\n",
       "std         3.956758\n",
       "min       -24.000000\n",
       "25%        -2.000000\n",
       "50%         0.000000\n",
       "75%         1.000000\n",
       "max        23.000000\n",
       "Name: workplaces_difference, dtype: float64"
      ]
     },
     "execution_count": 89,
     "metadata": {},
     "output_type": "execute_result"
    }
   ],
   "source": [
    "df['workplaces_difference'].describe()"
   ]
  },
  {
   "cell_type": "code",
   "execution_count": 90,
   "id": "d3da3470-1ae9-4989-9104-8762b591bf43",
   "metadata": {},
   "outputs": [
    {
     "data": {
      "text/html": [
       "<div>\n",
       "<style scoped>\n",
       "    .dataframe tbody tr th:only-of-type {\n",
       "        vertical-align: middle;\n",
       "    }\n",
       "\n",
       "    .dataframe tbody tr th {\n",
       "        vertical-align: top;\n",
       "    }\n",
       "\n",
       "    .dataframe thead th {\n",
       "        text-align: right;\n",
       "    }\n",
       "</style>\n",
       "<table border=\"1\" class=\"dataframe\">\n",
       "  <thead>\n",
       "    <tr style=\"text-align: right;\">\n",
       "      <th></th>\n",
       "      <th>residential_difference</th>\n",
       "      <th>workplaces_difference</th>\n",
       "      <th>transit_difference</th>\n",
       "      <th>grocery_pharmacy_difference</th>\n",
       "      <th>retail_difference</th>\n",
       "      <th>parks_difference</th>\n",
       "    </tr>\n",
       "  </thead>\n",
       "  <tbody>\n",
       "    <tr>\n",
       "      <th>count</th>\n",
       "      <td>5225.000000</td>\n",
       "      <td>6246.000000</td>\n",
       "      <td>3665.000000</td>\n",
       "      <td>4865.000000</td>\n",
       "      <td>5633.000000</td>\n",
       "      <td>3055.000000</td>\n",
       "    </tr>\n",
       "    <tr>\n",
       "      <th>mean</th>\n",
       "      <td>0.022584</td>\n",
       "      <td>-0.474063</td>\n",
       "      <td>-0.777899</td>\n",
       "      <td>0.897225</td>\n",
       "      <td>0.439553</td>\n",
       "      <td>-2.769231</td>\n",
       "    </tr>\n",
       "    <tr>\n",
       "      <th>std</th>\n",
       "      <td>1.636194</td>\n",
       "      <td>3.956758</td>\n",
       "      <td>7.901640</td>\n",
       "      <td>5.992879</td>\n",
       "      <td>6.513067</td>\n",
       "      <td>25.316906</td>\n",
       "    </tr>\n",
       "    <tr>\n",
       "      <th>min</th>\n",
       "      <td>-6.000000</td>\n",
       "      <td>-24.000000</td>\n",
       "      <td>-31.000000</td>\n",
       "      <td>-23.000000</td>\n",
       "      <td>-25.000000</td>\n",
       "      <td>-94.000000</td>\n",
       "    </tr>\n",
       "    <tr>\n",
       "      <th>25%</th>\n",
       "      <td>-1.000000</td>\n",
       "      <td>-2.000000</td>\n",
       "      <td>-5.000000</td>\n",
       "      <td>-2.000000</td>\n",
       "      <td>-3.000000</td>\n",
       "      <td>-16.000000</td>\n",
       "    </tr>\n",
       "    <tr>\n",
       "      <th>50%</th>\n",
       "      <td>0.000000</td>\n",
       "      <td>0.000000</td>\n",
       "      <td>-1.000000</td>\n",
       "      <td>1.000000</td>\n",
       "      <td>0.000000</td>\n",
       "      <td>-5.000000</td>\n",
       "    </tr>\n",
       "    <tr>\n",
       "      <th>75%</th>\n",
       "      <td>1.000000</td>\n",
       "      <td>1.000000</td>\n",
       "      <td>3.000000</td>\n",
       "      <td>4.000000</td>\n",
       "      <td>3.000000</td>\n",
       "      <td>7.000000</td>\n",
       "    </tr>\n",
       "    <tr>\n",
       "      <th>max</th>\n",
       "      <td>6.000000</td>\n",
       "      <td>23.000000</td>\n",
       "      <td>30.000000</td>\n",
       "      <td>23.000000</td>\n",
       "      <td>25.000000</td>\n",
       "      <td>96.000000</td>\n",
       "    </tr>\n",
       "  </tbody>\n",
       "</table>\n",
       "</div>"
      ],
      "text/plain": [
       "       residential_difference  workplaces_difference  transit_difference  \\\n",
       "count             5225.000000            6246.000000         3665.000000   \n",
       "mean                 0.022584              -0.474063           -0.777899   \n",
       "std                  1.636194               3.956758            7.901640   \n",
       "min                 -6.000000             -24.000000          -31.000000   \n",
       "25%                 -1.000000              -2.000000           -5.000000   \n",
       "50%                  0.000000               0.000000           -1.000000   \n",
       "75%                  1.000000               1.000000            3.000000   \n",
       "max                  6.000000              23.000000           30.000000   \n",
       "\n",
       "       grocery_pharmacy_difference  retail_difference  parks_difference  \n",
       "count                  4865.000000        5633.000000       3055.000000  \n",
       "mean                      0.897225           0.439553         -2.769231  \n",
       "std                       5.992879           6.513067         25.316906  \n",
       "min                     -23.000000         -25.000000        -94.000000  \n",
       "25%                      -2.000000          -3.000000        -16.000000  \n",
       "50%                       1.000000           0.000000         -5.000000  \n",
       "75%                       4.000000           3.000000          7.000000  \n",
       "max                      23.000000          25.000000         96.000000  "
      ]
     },
     "execution_count": 90,
     "metadata": {},
     "output_type": "execute_result"
    }
   ],
   "source": [
    "df[['residential_difference', 'workplaces_difference', 'transit_difference', 'grocery_pharmacy_difference', 'retail_difference', 'parks_difference']].describe()"
   ]
  },
  {
   "cell_type": "code",
   "execution_count": null,
   "id": "94faaede-3d5a-458f-865f-3ed74785ef30",
   "metadata": {},
   "outputs": [
    {
     "data": {
      "text/html": [
       "<div>\n",
       "<style scoped>\n",
       "    .dataframe tbody tr th:only-of-type {\n",
       "        vertical-align: middle;\n",
       "    }\n",
       "\n",
       "    .dataframe tbody tr th {\n",
       "        vertical-align: top;\n",
       "    }\n",
       "\n",
       "    .dataframe thead th {\n",
       "        text-align: right;\n",
       "    }\n",
       "</style>\n",
       "<table border=\"1\" class=\"dataframe\">\n",
       "  <thead>\n",
       "    <tr style=\"text-align: right;\">\n",
       "      <th></th>\n",
       "      <th>temperature_2m_heat</th>\n",
       "      <th>month</th>\n",
       "      <th>date_heat</th>\n",
       "      <th>control_day</th>\n",
       "      <th>Heat Wave Duration</th>\n",
       "      <th>large_city</th>\n",
       "      <th>date</th>\n",
       "      <th>location</th>\n",
       "      <th>heat_ID</th>\n",
       "      <th>workplaces_difference</th>\n",
       "      <th>...</th>\n",
       "      <th>heat_temp_centered</th>\n",
       "      <th>coast_binary</th>\n",
       "      <th>temperature_2m_winter</th>\n",
       "      <th>income_dec</th>\n",
       "      <th>over65_dec</th>\n",
       "      <th>nonwhite_dec</th>\n",
       "      <th>large_city</th>\n",
       "      <th>popdens_dec</th>\n",
       "      <th>index</th>\n",
       "      <th>june_hw</th>\n",
       "    </tr>\n",
       "  </thead>\n",
       "  <tbody>\n",
       "    <tr>\n",
       "      <th>0</th>\n",
       "      <td>37.225656</td>\n",
       "      <td>6</td>\n",
       "      <td>2020-06-03</td>\n",
       "      <td>2020-05-20</td>\n",
       "      <td>2.0</td>\n",
       "      <td>nonmajor</td>\n",
       "      <td>2020-06-03</td>\n",
       "      <td>Alameda County, California</td>\n",
       "      <td>518c0568-68d5-478b-9f5d-432e099bfa66</td>\n",
       "      <td>2.0</td>\n",
       "      <td>...</td>\n",
       "      <td>-0.113114</td>\n",
       "      <td>0</td>\n",
       "      <td>9.731907</td>\n",
       "      <td>10</td>\n",
       "      <td>3</td>\n",
       "      <td>10</td>\n",
       "      <td>nonmajor</td>\n",
       "      <td>10</td>\n",
       "      <td>0</td>\n",
       "      <td>1</td>\n",
       "    </tr>\n",
       "    <tr>\n",
       "      <th>1</th>\n",
       "      <td>37.168100</td>\n",
       "      <td>6</td>\n",
       "      <td>2020-06-04</td>\n",
       "      <td>2020-05-21</td>\n",
       "      <td>2.0</td>\n",
       "      <td>nonmajor</td>\n",
       "      <td>2020-06-04</td>\n",
       "      <td>Alameda County, California</td>\n",
       "      <td>518c0568-68d5-478b-9f5d-432e099bfa66</td>\n",
       "      <td>3.0</td>\n",
       "      <td>...</td>\n",
       "      <td>-0.170670</td>\n",
       "      <td>0</td>\n",
       "      <td>9.731907</td>\n",
       "      <td>10</td>\n",
       "      <td>3</td>\n",
       "      <td>10</td>\n",
       "      <td>nonmajor</td>\n",
       "      <td>10</td>\n",
       "      <td>1</td>\n",
       "      <td>1</td>\n",
       "    </tr>\n",
       "    <tr>\n",
       "      <th>2</th>\n",
       "      <td>36.277505</td>\n",
       "      <td>7</td>\n",
       "      <td>2020-07-11</td>\n",
       "      <td>2020-07-04</td>\n",
       "      <td>2.0</td>\n",
       "      <td>nonmajor</td>\n",
       "      <td>2020-07-11</td>\n",
       "      <td>Alameda County, California</td>\n",
       "      <td>31e71c06-0198-4d7b-85ea-f3d05284fd0e</td>\n",
       "      <td>15.0</td>\n",
       "      <td>...</td>\n",
       "      <td>-1.061265</td>\n",
       "      <td>0</td>\n",
       "      <td>9.731907</td>\n",
       "      <td>10</td>\n",
       "      <td>3</td>\n",
       "      <td>10</td>\n",
       "      <td>nonmajor</td>\n",
       "      <td>10</td>\n",
       "      <td>2</td>\n",
       "      <td>0</td>\n",
       "    </tr>\n",
       "    <tr>\n",
       "      <th>3</th>\n",
       "      <td>36.687509</td>\n",
       "      <td>7</td>\n",
       "      <td>2020-07-12</td>\n",
       "      <td>2020-07-05</td>\n",
       "      <td>2.0</td>\n",
       "      <td>nonmajor</td>\n",
       "      <td>2020-07-12</td>\n",
       "      <td>Alameda County, California</td>\n",
       "      <td>31e71c06-0198-4d7b-85ea-f3d05284fd0e</td>\n",
       "      <td>2.0</td>\n",
       "      <td>...</td>\n",
       "      <td>-0.651261</td>\n",
       "      <td>0</td>\n",
       "      <td>9.731907</td>\n",
       "      <td>10</td>\n",
       "      <td>3</td>\n",
       "      <td>10</td>\n",
       "      <td>nonmajor</td>\n",
       "      <td>10</td>\n",
       "      <td>3</td>\n",
       "      <td>0</td>\n",
       "    </tr>\n",
       "    <tr>\n",
       "      <th>4</th>\n",
       "      <td>35.873315</td>\n",
       "      <td>8</td>\n",
       "      <td>2020-08-13</td>\n",
       "      <td>2020-08-06</td>\n",
       "      <td>7.0</td>\n",
       "      <td>nonmajor</td>\n",
       "      <td>2020-08-13</td>\n",
       "      <td>Alameda County, California</td>\n",
       "      <td>ac9160de-478a-4287-b348-1f7ae0eac169</td>\n",
       "      <td>-1.0</td>\n",
       "      <td>...</td>\n",
       "      <td>-1.465455</td>\n",
       "      <td>0</td>\n",
       "      <td>9.731907</td>\n",
       "      <td>10</td>\n",
       "      <td>3</td>\n",
       "      <td>10</td>\n",
       "      <td>nonmajor</td>\n",
       "      <td>10</td>\n",
       "      <td>4</td>\n",
       "      <td>0</td>\n",
       "    </tr>\n",
       "    <tr>\n",
       "      <th>...</th>\n",
       "      <td>...</td>\n",
       "      <td>...</td>\n",
       "      <td>...</td>\n",
       "      <td>...</td>\n",
       "      <td>...</td>\n",
       "      <td>...</td>\n",
       "      <td>...</td>\n",
       "      <td>...</td>\n",
       "      <td>...</td>\n",
       "      <td>...</td>\n",
       "      <td>...</td>\n",
       "      <td>...</td>\n",
       "      <td>...</td>\n",
       "      <td>...</td>\n",
       "      <td>...</td>\n",
       "      <td>...</td>\n",
       "      <td>...</td>\n",
       "      <td>...</td>\n",
       "      <td>...</td>\n",
       "      <td>...</td>\n",
       "      <td>...</td>\n",
       "    </tr>\n",
       "    <tr>\n",
       "      <th>6591</th>\n",
       "      <td>32.975656</td>\n",
       "      <td>8</td>\n",
       "      <td>2022-08-19</td>\n",
       "      <td>2022-08-05</td>\n",
       "      <td>3.0</td>\n",
       "      <td>nonmajor</td>\n",
       "      <td>2022-08-19</td>\n",
       "      <td>Thompson-Nicola, British Columbia</td>\n",
       "      <td>6b052d8d-d285-405f-8201-517a54a305fa</td>\n",
       "      <td>0.0</td>\n",
       "      <td>...</td>\n",
       "      <td>-4.363114</td>\n",
       "      <td>0</td>\n",
       "      <td>-7.356643</td>\n",
       "      <td>6</td>\n",
       "      <td>5</td>\n",
       "      <td>6</td>\n",
       "      <td>nonmajor</td>\n",
       "      <td>6</td>\n",
       "      <td>6591</td>\n",
       "      <td>0</td>\n",
       "    </tr>\n",
       "    <tr>\n",
       "      <th>6592</th>\n",
       "      <td>32.378824</td>\n",
       "      <td>8</td>\n",
       "      <td>2022-08-30</td>\n",
       "      <td>2022-08-23</td>\n",
       "      <td>2.0</td>\n",
       "      <td>nonmajor</td>\n",
       "      <td>2022-08-30</td>\n",
       "      <td>Thompson-Nicola, British Columbia</td>\n",
       "      <td>56855720-2ecd-472a-81ef-50553e6673da</td>\n",
       "      <td>1.0</td>\n",
       "      <td>...</td>\n",
       "      <td>-4.959946</td>\n",
       "      <td>0</td>\n",
       "      <td>-7.356643</td>\n",
       "      <td>6</td>\n",
       "      <td>5</td>\n",
       "      <td>6</td>\n",
       "      <td>nonmajor</td>\n",
       "      <td>6</td>\n",
       "      <td>6592</td>\n",
       "      <td>0</td>\n",
       "    </tr>\n",
       "    <tr>\n",
       "      <th>6593</th>\n",
       "      <td>34.352411</td>\n",
       "      <td>8</td>\n",
       "      <td>2022-08-31</td>\n",
       "      <td>2022-09-07</td>\n",
       "      <td>2.0</td>\n",
       "      <td>nonmajor</td>\n",
       "      <td>2022-08-31</td>\n",
       "      <td>Thompson-Nicola, British Columbia</td>\n",
       "      <td>56855720-2ecd-472a-81ef-50553e6673da</td>\n",
       "      <td>-2.0</td>\n",
       "      <td>...</td>\n",
       "      <td>-2.986359</td>\n",
       "      <td>0</td>\n",
       "      <td>-7.356643</td>\n",
       "      <td>6</td>\n",
       "      <td>5</td>\n",
       "      <td>6</td>\n",
       "      <td>nonmajor</td>\n",
       "      <td>6</td>\n",
       "      <td>6593</td>\n",
       "      <td>0</td>\n",
       "    </tr>\n",
       "    <tr>\n",
       "      <th>6594</th>\n",
       "      <td>34.571527</td>\n",
       "      <td>9</td>\n",
       "      <td>2022-09-02</td>\n",
       "      <td>2022-09-09</td>\n",
       "      <td>2.0</td>\n",
       "      <td>nonmajor</td>\n",
       "      <td>2022-09-02</td>\n",
       "      <td>Thompson-Nicola, British Columbia</td>\n",
       "      <td>fb3db265-9d6e-4635-af92-6ed1ffd6c1e1</td>\n",
       "      <td>-8.0</td>\n",
       "      <td>...</td>\n",
       "      <td>-2.767243</td>\n",
       "      <td>0</td>\n",
       "      <td>-7.356643</td>\n",
       "      <td>6</td>\n",
       "      <td>5</td>\n",
       "      <td>6</td>\n",
       "      <td>nonmajor</td>\n",
       "      <td>6</td>\n",
       "      <td>6594</td>\n",
       "      <td>0</td>\n",
       "    </tr>\n",
       "    <tr>\n",
       "      <th>6595</th>\n",
       "      <td>32.654947</td>\n",
       "      <td>9</td>\n",
       "      <td>2022-09-03</td>\n",
       "      <td>2022-08-27</td>\n",
       "      <td>2.0</td>\n",
       "      <td>nonmajor</td>\n",
       "      <td>2022-09-03</td>\n",
       "      <td>Thompson-Nicola, British Columbia</td>\n",
       "      <td>fb3db265-9d6e-4635-af92-6ed1ffd6c1e1</td>\n",
       "      <td>-7.0</td>\n",
       "      <td>...</td>\n",
       "      <td>-4.683823</td>\n",
       "      <td>0</td>\n",
       "      <td>-7.356643</td>\n",
       "      <td>6</td>\n",
       "      <td>5</td>\n",
       "      <td>6</td>\n",
       "      <td>nonmajor</td>\n",
       "      <td>6</td>\n",
       "      <td>6595</td>\n",
       "      <td>0</td>\n",
       "    </tr>\n",
       "  </tbody>\n",
       "</table>\n",
       "<p>6596 rows × 31 columns</p>\n",
       "</div>"
      ],
      "text/plain": [
       "      temperature_2m_heat  month   date_heat control_day  Heat Wave Duration  \\\n",
       "0               37.225656      6  2020-06-03  2020-05-20                 2.0   \n",
       "1               37.168100      6  2020-06-04  2020-05-21                 2.0   \n",
       "2               36.277505      7  2020-07-11  2020-07-04                 2.0   \n",
       "3               36.687509      7  2020-07-12  2020-07-05                 2.0   \n",
       "4               35.873315      8  2020-08-13  2020-08-06                 7.0   \n",
       "...                   ...    ...         ...         ...                 ...   \n",
       "6591            32.975656      8  2022-08-19  2022-08-05                 3.0   \n",
       "6592            32.378824      8  2022-08-30  2022-08-23                 2.0   \n",
       "6593            34.352411      8  2022-08-31  2022-09-07                 2.0   \n",
       "6594            34.571527      9  2022-09-02  2022-09-09                 2.0   \n",
       "6595            32.654947      9  2022-09-03  2022-08-27                 2.0   \n",
       "\n",
       "      large_city       date                           location  \\\n",
       "0       nonmajor 2020-06-03         Alameda County, California   \n",
       "1       nonmajor 2020-06-04         Alameda County, California   \n",
       "2       nonmajor 2020-07-11         Alameda County, California   \n",
       "3       nonmajor 2020-07-12         Alameda County, California   \n",
       "4       nonmajor 2020-08-13         Alameda County, California   \n",
       "...          ...        ...                                ...   \n",
       "6591    nonmajor 2022-08-19  Thompson-Nicola, British Columbia   \n",
       "6592    nonmajor 2022-08-30  Thompson-Nicola, British Columbia   \n",
       "6593    nonmajor 2022-08-31  Thompson-Nicola, British Columbia   \n",
       "6594    nonmajor 2022-09-02  Thompson-Nicola, British Columbia   \n",
       "6595    nonmajor 2022-09-03  Thompson-Nicola, British Columbia   \n",
       "\n",
       "                                   heat_ID  workplaces_difference  ...  \\\n",
       "0     518c0568-68d5-478b-9f5d-432e099bfa66                    2.0  ...   \n",
       "1     518c0568-68d5-478b-9f5d-432e099bfa66                    3.0  ...   \n",
       "2     31e71c06-0198-4d7b-85ea-f3d05284fd0e                   15.0  ...   \n",
       "3     31e71c06-0198-4d7b-85ea-f3d05284fd0e                    2.0  ...   \n",
       "4     ac9160de-478a-4287-b348-1f7ae0eac169                   -1.0  ...   \n",
       "...                                    ...                    ...  ...   \n",
       "6591  6b052d8d-d285-405f-8201-517a54a305fa                    0.0  ...   \n",
       "6592  56855720-2ecd-472a-81ef-50553e6673da                    1.0  ...   \n",
       "6593  56855720-2ecd-472a-81ef-50553e6673da                   -2.0  ...   \n",
       "6594  fb3db265-9d6e-4635-af92-6ed1ffd6c1e1                   -8.0  ...   \n",
       "6595  fb3db265-9d6e-4635-af92-6ed1ffd6c1e1                   -7.0  ...   \n",
       "\n",
       "      heat_temp_centered  coast_binary  temperature_2m_winter  income_dec  \\\n",
       "0              -0.113114             0               9.731907          10   \n",
       "1              -0.170670             0               9.731907          10   \n",
       "2              -1.061265             0               9.731907          10   \n",
       "3              -0.651261             0               9.731907          10   \n",
       "4              -1.465455             0               9.731907          10   \n",
       "...                  ...           ...                    ...         ...   \n",
       "6591           -4.363114             0              -7.356643           6   \n",
       "6592           -4.959946             0              -7.356643           6   \n",
       "6593           -2.986359             0              -7.356643           6   \n",
       "6594           -2.767243             0              -7.356643           6   \n",
       "6595           -4.683823             0              -7.356643           6   \n",
       "\n",
       "      over65_dec nonwhite_dec  large_city  popdens_dec  index june_hw  \n",
       "0              3           10    nonmajor           10      0       1  \n",
       "1              3           10    nonmajor           10      1       1  \n",
       "2              3           10    nonmajor           10      2       0  \n",
       "3              3           10    nonmajor           10      3       0  \n",
       "4              3           10    nonmajor           10      4       0  \n",
       "...          ...          ...         ...          ...    ...     ...  \n",
       "6591           5            6    nonmajor            6   6591       0  \n",
       "6592           5            6    nonmajor            6   6592       0  \n",
       "6593           5            6    nonmajor            6   6593       0  \n",
       "6594           5            6    nonmajor            6   6594       0  \n",
       "6595           5            6    nonmajor            6   6595       0  \n",
       "\n",
       "[6596 rows x 31 columns]"
      ]
     },
     "execution_count": 73,
     "metadata": {},
     "output_type": "execute_result"
    }
   ],
   "source": [
    "df['temperatr"
   ]
  }
 ],
 "metadata": {
  "kernelspec": {
   "display_name": "Python 3 (ipykernel)",
   "language": "python",
   "name": "python3"
  },
  "language_info": {
   "codemirror_mode": {
    "name": "ipython",
    "version": 3
   },
   "file_extension": ".py",
   "mimetype": "text/x-python",
   "name": "python",
   "nbconvert_exporter": "python",
   "pygments_lexer": "ipython3",
   "version": "3.10.9"
  }
 },
 "nbformat": 4,
 "nbformat_minor": 5
}
