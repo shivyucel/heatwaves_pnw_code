{
 "cells": [
  {
   "cell_type": "code",
   "execution_count": 134,
   "id": "101a859d-88e2-431d-a866-3cfdc5099570",
   "metadata": {},
   "outputs": [
    {
     "name": "stderr",
     "output_type": "stream",
     "text": [
      "/var/folders/8g/qp1k_1g91m5f2m9pypxwxdhh0000gn/T/ipykernel_91803/4142588568.py:8: DeprecationWarning: Please use `pearsonr` from the `scipy.stats` namespace, the `scipy.stats.stats` namespace is deprecated.\n",
      "  from scipy.stats.stats import pearsonr\n"
     ]
    }
   ],
   "source": [
    "import pandas as pd\n",
    "import geopandas as gpd\n",
    "import matplotlib.pyplot as plt\n",
    "import seaborn as sns\n",
    "sns.set_style('darkgrid')\n",
    "from scipy.stats import ttest_ind\n",
    "import numpy as np\n",
    "from scipy.stats.stats import pearsonr\n",
    "from IPython.display import display, Markdown, Latex\n",
    "plt.style.use('ggplot')\n",
    "from datetime import date\n",
    "from statsmodels.stats.outliers_influence import variance_inflation_factor\n",
    "from scipy.stats import norm\n",
    "from seaborn_qqplot import pplot\n",
    "import statsmodels.api as sm\n",
    "import statsmodels.formula.api as smf\n",
    "import numpy as np\n",
    "import pandas\n",
    "\n",
    "data_path = '/Users/shivyucel/Documents/projects/DPhil/Code_Data/data/'"
   ]
  },
  {
   "cell_type": "markdown",
   "id": "c06642ff-1855-4ddd-88d0-4b4868cc1740",
   "metadata": {},
   "source": [
    "# Update mobility variables"
   ]
  },
  {
   "cell_type": "code",
   "execution_count": 135,
   "id": "bd0248c9-8166-4a88-9e21-791c5e13ac2a",
   "metadata": {},
   "outputs": [],
   "source": [
    "#income and age added in census folder notebook before continuing here\n",
    "mob_vars = pd.read_csv(data_path + 'mobility_heat/mob_vars_final_clean_90.csv')\n",
    "#relative_heat = pd.read_csv('/Users/shivyucel/Documents/projects/DPhil/Code_Data/data/heatwave/relative_heat_scores.csv')"
   ]
  },
  {
   "cell_type": "markdown",
   "id": "fe89402a-35c2-4079-806d-75b7b233eb6a",
   "metadata": {},
   "source": [
    "### Add winter temperatures"
   ]
  },
  {
   "cell_type": "code",
   "execution_count": 136,
   "id": "fe5782d4-872e-46af-8cbc-fb3b323f1736",
   "metadata": {},
   "outputs": [],
   "source": [
    "winter = pd.read_csv('/Users/shivyucel/Documents/projects/DPhil/Code_Data/data/winter_v2.csv')"
   ]
  },
  {
   "cell_type": "code",
   "execution_count": 137,
   "id": "fcee34c9-47be-4b41-943b-d1a14b58bb43",
   "metadata": {},
   "outputs": [],
   "source": [
    "mob_vars = mob_vars.merge(winter[['location', 'temperature_2m_winter']])"
   ]
  },
  {
   "cell_type": "markdown",
   "id": "2e169fd7-5e56-4942-9289-1dc42be4b692",
   "metadata": {},
   "source": [
    "### Build >=5 duration variable"
   ]
  },
  {
   "cell_type": "code",
   "execution_count": 142,
   "id": "7226a858-8173-4072-82fd-c776c24f3143",
   "metadata": {},
   "outputs": [],
   "source": [
    "mob_vars['heatwave_dur'] = ['<5 days' if x<5 else '>=5 days' for x in mob_vars['Heat Wave Duration']]\n",
    "mob_vars['hw_dur_>=_5'] = [0 if x=='<5 days' else 1 for x in mob_vars['heatwave_dur']]"
   ]
  },
  {
   "cell_type": "markdown",
   "id": "e58a7b69-7559-4a09-9536-6066e3ead8d5",
   "metadata": {},
   "source": [
    "### Get stage_frac variables"
   ]
  },
  {
   "cell_type": "code",
   "execution_count": 147,
   "id": "7401231f-9cd2-4e09-9a37-6a5871114e1b",
   "metadata": {},
   "outputs": [],
   "source": [
    "mob_vars['stage_frac'] = mob_vars['stage'] / mob_vars['Heat Wave Duration'] * 100\n"
   ]
  },
  {
   "cell_type": "code",
   "execution_count": 148,
   "id": "b0683a66-e455-4f83-b0da-22a0f55e1ff9",
   "metadata": {},
   "outputs": [
    {
     "data": {
      "text/plain": [
       "count    7415.000000\n",
       "mean       63.102466\n",
       "std        28.409998\n",
       "min         8.333333\n",
       "25%        40.000000\n",
       "50%        62.500000\n",
       "75%       100.000000\n",
       "max       100.000000\n",
       "Name: stage_frac, dtype: float64"
      ]
     },
     "execution_count": 148,
     "metadata": {},
     "output_type": "execute_result"
    }
   ],
   "source": [
    "mob_vars['stage_frac'].describe()\n"
   ]
  },
  {
   "cell_type": "code",
   "execution_count": 149,
   "id": "da4955d8-d51b-4d8b-9cdd-ad4e07bf313c",
   "metadata": {},
   "outputs": [],
   "source": [
    "mob_vars.to_csv(data_path + 'mobility_heat/final_premultivariate_clean_90.csv')"
   ]
  },
  {
   "cell_type": "markdown",
   "id": "7e50ca7a-548d-4f00-a2bf-67f2cfcc3bc5",
   "metadata": {},
   "source": [
    "# Add/prepare final variables multivariate\n"
   ]
  },
  {
   "cell_type": "code",
   "execution_count": 151,
   "id": "e27795dd-ac0f-4c47-b6d1-6d0cd484533e",
   "metadata": {},
   "outputs": [],
   "source": [
    "mob_vars = pd.read_csv(data_path + 'mobility_heat/final_premultivariate_clean_90.csv')"
   ]
  },
  {
   "cell_type": "markdown",
   "id": "70b8d54b-49d0-413a-89fd-a665ba2b850c",
   "metadata": {},
   "source": [
    "## Merge coastal "
   ]
  },
  {
   "cell_type": "code",
   "execution_count": 152,
   "id": "181ea94d-241c-42dc-a68f-c9c2179edbba",
   "metadata": {},
   "outputs": [],
   "source": [
    "coast_stuff = pd.read_csv(data_path + 'mobility_heat/multivariate_modelling_v25.csv')\n",
    "coast_stuff.drop_duplicates('location', inplace=True)"
   ]
  },
  {
   "cell_type": "code",
   "execution_count": 153,
   "id": "01290d5d-d6de-4837-8f27-9981c89282c8",
   "metadata": {},
   "outputs": [],
   "source": [
    "mob_vars = mob_vars.merge(coast_stuff[['location', 'coast_binary']], on='location')"
   ]
  },
  {
   "cell_type": "code",
   "execution_count": 160,
   "id": "a5d17258-3edb-4807-b7c9-9c83ebc41253",
   "metadata": {},
   "outputs": [],
   "source": [
    "df = mob_vars.copy()"
   ]
  },
  {
   "cell_type": "markdown",
   "id": "e20c4028-e7e0-4d84-9328-3bea2bc57000",
   "metadata": {},
   "source": [
    "### Remove Outliers"
   ]
  },
  {
   "cell_type": "code",
   "execution_count": 163,
   "id": "24ad2b56-a931-4948-b375-3953d5e117ed",
   "metadata": {
    "tags": []
   },
   "outputs": [],
   "source": [
    "df['workplaces_difference'] = [np.nan if abs(x) >= df['workplaces_difference'].mean() + (3 * df['workplaces_difference'].std()) else x for x in df['workplaces_difference'] ]\n",
    "\n",
    "df['residential_difference'] = [np.nan if abs(x) >= df['residential_difference'].mean() + (3 * df['residential_difference'].std()) else x for x in df['residential_difference'] ]\n",
    "\n",
    "df['grocery_pharmacy_difference'] = [np.nan if abs(x) >= df['grocery_pharmacy_difference'].mean() + (3 * df['grocery_pharmacy_difference'].std()) else x for x in df['grocery_pharmacy_difference'] ]\n",
    "\n",
    "df['parks_difference'] = [np.nan if abs(x)>= df['parks_difference'].mean() + (3 * df['parks_difference'].std()) else x for x in df['parks_difference'] ]\n",
    "\n",
    "df['retail_difference'] = [np.nan if abs(x) >= df['retail_difference'].mean() + (3 * df['retail_difference'].std()) else x for x in df['retail_difference'] ]\n",
    "\n",
    "df['transit_difference'] = [np.nan if abs(x) >= df['transit_difference'].mean() + (3 * df['transit_difference'].std()) else x for x in df['transit_difference'] ]\n",
    "\n",
    "#v13\n",
    "df.dropna(how='all', subset=['workplaces_difference', 'residential_difference', 'transit_difference', 'grocery_pharmacy_difference', 'parks_difference', 'retail_difference'], inplace=True)"
   ]
  },
  {
   "cell_type": "markdown",
   "id": "f3e701b1-c005-4518-89ad-42f5276401f5",
   "metadata": {},
   "source": [
    "### Center heat wave temperature variable"
   ]
  },
  {
   "cell_type": "code",
   "execution_count": 165,
   "id": "d9380c56-3101-47de-9aaa-bbd9a05015c7",
   "metadata": {},
   "outputs": [],
   "source": [
    "df['heat_temp_centered'] = df['temperature_2m_heat'] - df['temperature_2m_heat'].mean()\n"
   ]
  },
  {
   "cell_type": "markdown",
   "id": "324cdf26-ea68-49cd-9d79-735fefcd4cc9",
   "metadata": {},
   "source": [
    "### Get Large city Variables"
   ]
  },
  {
   "cell_type": "code",
   "execution_count": 166,
   "id": "09f3c904-0413-4a69-8b5e-892d7acdbc18",
   "metadata": {},
   "outputs": [],
   "source": [
    "df['large_city'] = [x if x in ['Los Angeles County', 'San Diego County', 'Santa Clara County', 'San Francisco County', 'Sacramento County', 'King County', 'Multnomah County', 'Greater Vancouver'] else 'nonmajor' for x  in df['county']]"
   ]
  },
  {
   "cell_type": "markdown",
   "id": "f7616771-452e-4a61-a71b-6325278f788a",
   "metadata": {},
   "source": [
    "### Get coast binary as digit"
   ]
  },
  {
   "cell_type": "code",
   "execution_count": 167,
   "id": "041cfb1b-d8e7-41e2-b58f-c1f39cbfe6c9",
   "metadata": {},
   "outputs": [],
   "source": [
    "df['coast_binary'] = df['coast_binary'] * 1"
   ]
  },
  {
   "cell_type": "markdown",
   "id": "bb5c500e-77bd-46d1-b696-69522cc97f48",
   "metadata": {},
   "source": [
    "### Get June heatwave variable"
   ]
  },
  {
   "cell_type": "code",
   "execution_count": 177,
   "id": "473d94ad-6258-47bc-b98f-a1d18efef70c",
   "metadata": {},
   "outputs": [],
   "source": [
    "df = df[['temperature_2m_heat', 'month', 'date_heat', 'control_day', 'Heat Wave Duration', 'large_city', 'date', 'location', 'heat_ID_x', 'workplaces_difference', 'residential_difference', 'grocery_pharmacy_difference', 'retail_difference', 'parks_difference', 'transit_difference', 'state', 'year', 'weekend', 'stage_frac', 'heatwave_dur', 'temp_diff', 'heat_temp_centered', 'coast_binary', 'temperature_2m_winter', 'income_dec', 'over65_dec', 'nonwhite_dec','large_city', 'popdens_dec']]"
   ]
  },
  {
   "cell_type": "code",
   "execution_count": 178,
   "id": "82d671aa-8701-48cf-8d50-cd33033a1bdf",
   "metadata": {},
   "outputs": [
    {
     "name": "stderr",
     "output_type": "stream",
     "text": [
      "/var/folders/8g/qp1k_1g91m5f2m9pypxwxdhh0000gn/T/ipykernel_91803/1307996848.py:1: SettingWithCopyWarning: \n",
      "A value is trying to be set on a copy of a slice from a DataFrame.\n",
      "Try using .loc[row_indexer,col_indexer] = value instead\n",
      "\n",
      "See the caveats in the documentation: https://pandas.pydata.org/pandas-docs/stable/user_guide/indexing.html#returning-a-view-versus-a-copy\n",
      "  df['index'] = range(0, len(df))\n"
     ]
    }
   ],
   "source": [
    "df['index'] = range(0, len(df))"
   ]
  },
  {
   "cell_type": "code",
   "execution_count": null,
   "id": "55314c05-c16a-4a6d-84fd-bbd1c5c6812d",
   "metadata": {},
   "outputs": [],
   "source": [
    "df['date'] = pd.to_datetime(df['date'])"
   ]
  },
  {
   "cell_type": "code",
   "execution_count": null,
   "id": "f8cf65a7-1569-47dc-bfc9-34059ab58598",
   "metadata": {},
   "outputs": [],
   "source": [
    "df['month'] = [x.month for x in df['date']]"
   ]
  },
  {
   "cell_type": "code",
   "execution_count": null,
   "id": "4d6d7d18-f129-4900-8701-dbb406648ab4",
   "metadata": {},
   "outputs": [
    {
     "data": {
      "text/plain": [
       "array([6, 7, 8, 9])"
      ]
     },
     "execution_count": 171,
     "metadata": {},
     "output_type": "execute_result"
    }
   ],
   "source": [
    "df['month'].unique()"
   ]
  },
  {
   "cell_type": "code",
   "execution_count": 179,
   "id": "090e8afb-7b49-43cf-9537-f582c132a0e3",
   "metadata": {},
   "outputs": [
    {
     "name": "stderr",
     "output_type": "stream",
     "text": [
      "/var/folders/8g/qp1k_1g91m5f2m9pypxwxdhh0000gn/T/ipykernel_91803/2029290339.py:1: SettingWithCopyWarning: \n",
      "A value is trying to be set on a copy of a slice from a DataFrame.\n",
      "Try using .loc[row_indexer,col_indexer] = value instead\n",
      "\n",
      "See the caveats in the documentation: https://pandas.pydata.org/pandas-docs/stable/user_guide/indexing.html#returning-a-view-versus-a-copy\n",
      "  df['june_hw'] = df.groupby(['heat_ID_x'])['month'].transform(lambda x: 6 in x.unique())\n"
     ]
    }
   ],
   "source": [
    "df['june_hw'] = df.groupby(['heat_ID_x'])['month'].transform(lambda x: 6 in x.unique())\n",
    "df['june_hw'] = df['june_hw'] * 1\n",
    "\n"
   ]
  },
  {
   "cell_type": "code",
   "execution_count": 180,
   "id": "fc0e2919-31e2-40f1-94cd-8cb3349ece0f",
   "metadata": {},
   "outputs": [
    {
     "data": {
      "text/plain": [
       "8    2637\n",
       "7    2548\n",
       "9    1214\n",
       "6     984\n",
       "Name: month, dtype: int64"
      ]
     },
     "execution_count": 180,
     "metadata": {},
     "output_type": "execute_result"
    }
   ],
   "source": [
    "df['month'].value_counts()"
   ]
  },
  {
   "cell_type": "code",
   "execution_count": 182,
   "id": "705821a9-6025-49ec-a583-ba5c97d36eef",
   "metadata": {},
   "outputs": [
    {
     "name": "stderr",
     "output_type": "stream",
     "text": [
      "/var/folders/8g/qp1k_1g91m5f2m9pypxwxdhh0000gn/T/ipykernel_91803/3410407454.py:1: SettingWithCopyWarning: \n",
      "A value is trying to be set on a copy of a slice from a DataFrame\n",
      "\n",
      "See the caveats in the documentation: https://pandas.pydata.org/pandas-docs/stable/user_guide/indexing.html#returning-a-view-versus-a-copy\n",
      "  df.rename(columns={'heat_ID_x': 'heat_ID'}, inplace=True)\n"
     ]
    }
   ],
   "source": [
    "df.rename(columns={'heat_ID_x': 'heat_ID'}, inplace=True)"
   ]
  },
  {
   "cell_type": "code",
   "execution_count": 209,
   "id": "35d37ce1-a7f0-4f2d-a65f-3a8ec978fa5b",
   "metadata": {},
   "outputs": [],
   "source": [
    "df.to_csv(data_path + 'mobility_heat/final_multivariate_clean_90.csv')"
   ]
  }
 ],
 "metadata": {
  "kernelspec": {
   "display_name": "Python 3 (ipykernel)",
   "language": "python",
   "name": "python3"
  },
  "language_info": {
   "codemirror_mode": {
    "name": "ipython",
    "version": 3
   },
   "file_extension": ".py",
   "mimetype": "text/x-python",
   "name": "python",
   "nbconvert_exporter": "python",
   "pygments_lexer": "ipython3",
   "version": "3.10.9"
  }
 },
 "nbformat": 4,
 "nbformat_minor": 5
}
