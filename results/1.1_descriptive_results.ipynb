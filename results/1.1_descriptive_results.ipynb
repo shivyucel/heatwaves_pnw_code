{
 "cells": [
  {
   "cell_type": "code",
   "execution_count": 1,
   "id": "0227d457-1b04-4f65-8df5-e8c608249636",
   "metadata": {},
   "outputs": [
    {
     "name": "stderr",
     "output_type": "stream",
     "text": [
      "/var/folders/8g/qp1k_1g91m5f2m9pypxwxdhh0000gn/T/ipykernel_19381/135723201.py:8: DeprecationWarning: Please use `pearsonr` from the `scipy.stats` namespace, the `scipy.stats.stats` namespace is deprecated.\n",
      "  from scipy.stats.stats import pearsonr\n"
     ]
    }
   ],
   "source": [
    "import pandas as pd\n",
    "import geopandas as gpd\n",
    "import matplotlib.pyplot as plt\n",
    "import seaborn as sns\n",
    "sns.set_style('darkgrid')\n",
    "from scipy.stats import ttest_ind\n",
    "import numpy as np\n",
    "from scipy.stats.stats import pearsonr\n",
    "from IPython.display import display, Markdown, Latex\n",
    "plt.style.use('ggplot')\n",
    "from datetime import date\n",
    "from statsmodels.stats.outliers_influence import variance_inflation_factor\n",
    "from scipy.stats import norm\n",
    "from seaborn_qqplot import pplot\n",
    "import statsmodels.api as sm\n",
    "import statsmodels.formula.api as smf\n",
    "import numpy as np\n",
    "import pandas\n",
    "\n",
    "from scipy import stats\n",
    "\n",
    "import geopandas as gpd\n",
    "from matplotlib_scalebar.scalebar import ScaleBar\n",
    "data_path = '/Users/shivyucel/Documents/projects/DPhil/Code_Data/data/'"
   ]
  },
  {
   "cell_type": "code",
   "execution_count": 2,
   "id": "b0d3414b-2f89-4447-a0dc-56df1d263429",
   "metadata": {},
   "outputs": [],
   "source": [
    "heatwave_control = pd.read_csv(data_path + \"mobility_heat/mobility_heat_dataset.csv\")"
   ]
  },
  {
   "cell_type": "markdown",
   "id": "a287f0ec-1109-4fba-a20d-ad86da43c8b1",
   "metadata": {},
   "source": [
    "## Methods section avg variables"
   ]
  },
  {
   "cell_type": "code",
   "execution_count": 12,
   "id": "1cd9fdb8-1cab-4ca5-9081-d4779b7e8457",
   "metadata": {},
   "outputs": [
    {
     "data": {
      "text/plain": [
       "count    6086.000000\n",
       "mean       33.392871\n",
       "std         5.037908\n",
       "min        18.414703\n",
       "25%        29.775768\n",
       "50%        33.688816\n",
       "75%        36.818149\n",
       "max        47.254585\n",
       "Name: temperature_2m_heat, dtype: float64"
      ]
     },
     "execution_count": 12,
     "metadata": {},
     "output_type": "execute_result"
    }
   ],
   "source": [
    "heatwave_control['temperature_2m_heat'].describe()"
   ]
  },
  {
   "cell_type": "code",
   "execution_count": 13,
   "id": "4882423e-ee8f-4e3c-94ad-189dcec97662",
   "metadata": {},
   "outputs": [
    {
     "data": {
      "text/plain": [
       "count    6086.000000\n",
       "mean        8.301605\n",
       "std         3.920346\n",
       "min         1.181474\n",
       "25%         5.372367\n",
       "50%         7.651448\n",
       "75%        10.582913\n",
       "max        26.192260\n",
       "Name: temp_diff, dtype: float64"
      ]
     },
     "execution_count": 13,
     "metadata": {},
     "output_type": "execute_result"
    }
   ],
   "source": [
    "heatwave_control['temp_diff'].describe()"
   ]
  },
  {
   "cell_type": "code",
   "execution_count": 21,
   "id": "be36485d-5f68-4930-97be-4b2356f99411",
   "metadata": {},
   "outputs": [
    {
     "data": {
      "text/plain": [
       "count    150.000000\n",
       "mean       3.670919\n",
       "std        5.495883\n",
       "min      -16.389372\n",
       "25%        0.942652\n",
       "50%        4.453752\n",
       "75%        7.436603\n",
       "max       14.461462\n",
       "Name: temperature_2m_winter, dtype: float64"
      ]
     },
     "execution_count": 21,
     "metadata": {},
     "output_type": "execute_result"
    }
   ],
   "source": [
    "heatwave_control.drop_duplicates('location')['temperature_2m_winter'].describe()"
   ]
  },
  {
   "cell_type": "code",
   "execution_count": 20,
   "id": "d96e8aa5-8824-498d-9c9d-eb85f9dbec86",
   "metadata": {},
   "outputs": [
    {
     "data": {
      "text/plain": [
       "2021    0.378579\n",
       "2022    0.364793\n",
       "2020    0.256628\n",
       "Name: year, dtype: float64"
      ]
     },
     "execution_count": 20,
     "metadata": {},
     "output_type": "execute_result"
    }
   ],
   "source": [
    "heatwave_control.drop_duplicates('heat_ID')['year'].value_counts() / 1886"
   ]
  },
  {
   "cell_type": "code",
   "execution_count": 23,
   "id": "29b49fc2-5663-4cc6-a448-277ef0946652",
   "metadata": {},
   "outputs": [
    {
     "data": {
      "text/plain": [
       "count    1886.000000\n",
       "mean        0.137858\n",
       "std         0.344842\n",
       "min         0.000000\n",
       "25%         0.000000\n",
       "50%         0.000000\n",
       "75%         0.000000\n",
       "max         1.000000\n",
       "Name: june_hw, dtype: float64"
      ]
     },
     "execution_count": 23,
     "metadata": {},
     "output_type": "execute_result"
    }
   ],
   "source": [
    "heatwave_control.drop_duplicates('heat_ID')['june_hw'].describe()"
   ]
  },
  {
   "cell_type": "code",
   "execution_count": 22,
   "id": "fdb658ab-472f-4c5c-adda-fa7adf1db799",
   "metadata": {},
   "outputs": [
    {
     "data": {
      "text/plain": [
       "<5 days     0.765642\n",
       ">=5 days    0.234358\n",
       "Name: heatwave_dur, dtype: float64"
      ]
     },
     "execution_count": 22,
     "metadata": {},
     "output_type": "execute_result"
    }
   ],
   "source": [
    "heatwave_control.drop_duplicates('heat_ID')['heatwave_dur'].value_counts() / 1886"
   ]
  },
  {
   "cell_type": "code",
   "execution_count": 24,
   "id": "811830c6-4c77-4497-99f9-063cb12cf9d0",
   "metadata": {},
   "outputs": [
    {
     "data": {
      "text/plain": [
       "count    6086.000000\n",
       "mean       63.875510\n",
       "std        28.353541\n",
       "min         9.090909\n",
       "25%        40.000000\n",
       "50%        62.500000\n",
       "75%       100.000000\n",
       "max       100.000000\n",
       "Name: stage_frac, dtype: float64"
      ]
     },
     "execution_count": 24,
     "metadata": {},
     "output_type": "execute_result"
    }
   ],
   "source": [
    "heatwave_control['stage_frac'].describe()"
   ]
  },
  {
   "cell_type": "code",
   "execution_count": 21,
   "id": "a8f7534f-97a9-4305-8607-9f27144f4e3f",
   "metadata": {},
   "outputs": [
    {
     "data": {
      "text/plain": [
       "count    6086.000000\n",
       "mean        0.261748\n",
       "std         0.439622\n",
       "min         0.000000\n",
       "25%         0.000000\n",
       "50%         0.000000\n",
       "75%         1.000000\n",
       "max         1.000000\n",
       "Name: weekend, dtype: float64"
      ]
     },
     "execution_count": 21,
     "metadata": {},
     "output_type": "execute_result"
    }
   ],
   "source": [
    "heatwave_control['weekend'].describe()"
   ]
  },
  {
   "cell_type": "code",
   "execution_count": 25,
   "id": "b966b5cc-5ee2-44ac-8ad4-fb8ac5a321ea",
   "metadata": {},
   "outputs": [
    {
     "data": {
      "text/plain": [
       "count    150.000000\n",
       "mean       0.300000\n",
       "std        0.459793\n",
       "min        0.000000\n",
       "25%        0.000000\n",
       "50%        0.000000\n",
       "75%        1.000000\n",
       "max        1.000000\n",
       "Name: coast_binary, dtype: float64"
      ]
     },
     "execution_count": 25,
     "metadata": {},
     "output_type": "execute_result"
    }
   ],
   "source": [
    "heatwave_control.drop_duplicates('location')['coast_binary'].describe()"
   ]
  },
  {
   "cell_type": "code",
   "execution_count": 26,
   "id": "ee6080d6-8655-494e-82c9-852f17561015",
   "metadata": {},
   "outputs": [
    {
     "data": {
      "text/plain": [
       "count    150.000000\n",
       "mean       5.773333\n",
       "std        2.800160\n",
       "min        1.000000\n",
       "25%        3.000000\n",
       "50%        6.000000\n",
       "75%        8.000000\n",
       "max       10.000000\n",
       "Name: popdens_dec, dtype: float64"
      ]
     },
     "execution_count": 26,
     "metadata": {},
     "output_type": "execute_result"
    }
   ],
   "source": [
    "heatwave_control.drop_duplicates('location')['popdens_dec'].describe()"
   ]
  },
  {
   "cell_type": "code",
   "execution_count": 27,
   "id": "e529e758-f674-4485-a1c6-15ee6b7e7f93",
   "metadata": {},
   "outputs": [
    {
     "data": {
      "text/plain": [
       "count    150.000000\n",
       "mean       5.606667\n",
       "std        2.914662\n",
       "min        1.000000\n",
       "25%        3.000000\n",
       "50%        6.000000\n",
       "75%        8.000000\n",
       "max       10.000000\n",
       "Name: income_dec, dtype: float64"
      ]
     },
     "execution_count": 27,
     "metadata": {},
     "output_type": "execute_result"
    }
   ],
   "source": [
    "heatwave_control.drop_duplicates('location')['income_dec'].describe()"
   ]
  },
  {
   "cell_type": "code",
   "execution_count": 28,
   "id": "d48e28f9-fad7-4fce-a82d-6fd0848e6e5b",
   "metadata": {},
   "outputs": [
    {
     "data": {
      "text/plain": [
       "count    150.000000\n",
       "mean       5.573333\n",
       "std        2.938627\n",
       "min        1.000000\n",
       "25%        3.000000\n",
       "50%        6.000000\n",
       "75%        8.000000\n",
       "max       10.000000\n",
       "Name: nonwhite_dec, dtype: float64"
      ]
     },
     "execution_count": 28,
     "metadata": {},
     "output_type": "execute_result"
    }
   ],
   "source": [
    "heatwave_control.drop_duplicates('location')['nonwhite_dec'].describe()"
   ]
  },
  {
   "cell_type": "code",
   "execution_count": 29,
   "id": "3989c307-ab4b-4652-a19b-f3e18e9d7596",
   "metadata": {},
   "outputs": [
    {
     "data": {
      "text/plain": [
       "count    150.000000\n",
       "mean       5.326667\n",
       "std        2.817721\n",
       "min        1.000000\n",
       "25%        3.000000\n",
       "50%        5.000000\n",
       "75%        8.000000\n",
       "max       10.000000\n",
       "Name: over65_dec, dtype: float64"
      ]
     },
     "execution_count": 29,
     "metadata": {},
     "output_type": "execute_result"
    }
   ],
   "source": [
    "heatwave_control.drop_duplicates('location')['over65_dec'].describe()"
   ]
  },
  {
   "cell_type": "markdown",
   "id": "b53a0eeb-6bcd-4092-be69-7bf7d0f1cd50",
   "metadata": {},
   "source": [
    "### Results descriptive statistics"
   ]
  },
  {
   "cell_type": "code",
   "execution_count": 30,
   "id": "595804d7-d382-4eeb-8505-5b0e12a79620",
   "metadata": {},
   "outputs": [
    {
     "data": {
      "text/html": [
       "<div>\n",
       "<style scoped>\n",
       "    .dataframe tbody tr th:only-of-type {\n",
       "        vertical-align: middle;\n",
       "    }\n",
       "\n",
       "    .dataframe tbody tr th {\n",
       "        vertical-align: top;\n",
       "    }\n",
       "\n",
       "    .dataframe thead th {\n",
       "        text-align: right;\n",
       "    }\n",
       "</style>\n",
       "<table border=\"1\" class=\"dataframe\">\n",
       "  <thead>\n",
       "    <tr style=\"text-align: right;\">\n",
       "      <th></th>\n",
       "      <th>count</th>\n",
       "      <th>mean</th>\n",
       "      <th>std</th>\n",
       "      <th>min</th>\n",
       "      <th>25%</th>\n",
       "      <th>50%</th>\n",
       "      <th>75%</th>\n",
       "      <th>max</th>\n",
       "    </tr>\n",
       "    <tr>\n",
       "      <th>state</th>\n",
       "      <th></th>\n",
       "      <th></th>\n",
       "      <th></th>\n",
       "      <th></th>\n",
       "      <th></th>\n",
       "      <th></th>\n",
       "      <th></th>\n",
       "      <th></th>\n",
       "    </tr>\n",
       "  </thead>\n",
       "  <tbody>\n",
       "    <tr>\n",
       "      <th>British Columbia</th>\n",
       "      <td>1081.0</td>\n",
       "      <td>27.597289</td>\n",
       "      <td>3.360915</td>\n",
       "      <td>18.414703</td>\n",
       "      <td>25.421389</td>\n",
       "      <td>27.379768</td>\n",
       "      <td>29.502647</td>\n",
       "      <td>40.565983</td>\n",
       "    </tr>\n",
       "    <tr>\n",
       "      <th>California</th>\n",
       "      <td>2200.0</td>\n",
       "      <td>36.453434</td>\n",
       "      <td>4.111702</td>\n",
       "      <td>24.487600</td>\n",
       "      <td>33.736925</td>\n",
       "      <td>36.466424</td>\n",
       "      <td>39.429331</td>\n",
       "      <td>47.254585</td>\n",
       "    </tr>\n",
       "    <tr>\n",
       "      <th>Oregon</th>\n",
       "      <td>1337.0</td>\n",
       "      <td>33.478182</td>\n",
       "      <td>3.115946</td>\n",
       "      <td>23.544898</td>\n",
       "      <td>31.910144</td>\n",
       "      <td>33.571451</td>\n",
       "      <td>35.298820</td>\n",
       "      <td>44.444744</td>\n",
       "    </tr>\n",
       "    <tr>\n",
       "      <th>Washington</th>\n",
       "      <td>1468.0</td>\n",
       "      <td>32.996226</td>\n",
       "      <td>4.879983</td>\n",
       "      <td>19.978627</td>\n",
       "      <td>29.390089</td>\n",
       "      <td>33.168928</td>\n",
       "      <td>36.520507</td>\n",
       "      <td>46.929940</td>\n",
       "    </tr>\n",
       "  </tbody>\n",
       "</table>\n",
       "</div>"
      ],
      "text/plain": [
       "                   count       mean       std        min        25%  \\\n",
       "state                                                                 \n",
       "British Columbia  1081.0  27.597289  3.360915  18.414703  25.421389   \n",
       "California        2200.0  36.453434  4.111702  24.487600  33.736925   \n",
       "Oregon            1337.0  33.478182  3.115946  23.544898  31.910144   \n",
       "Washington        1468.0  32.996226  4.879983  19.978627  29.390089   \n",
       "\n",
       "                        50%        75%        max  \n",
       "state                                              \n",
       "British Columbia  27.379768  29.502647  40.565983  \n",
       "California        36.466424  39.429331  47.254585  \n",
       "Oregon            33.571451  35.298820  44.444744  \n",
       "Washington        33.168928  36.520507  46.929940  "
      ]
     },
     "execution_count": 30,
     "metadata": {},
     "output_type": "execute_result"
    }
   ],
   "source": [
    "heatwave_control.groupby('state')['temperature_2m_heat'].describe()"
   ]
  },
  {
   "cell_type": "code",
   "execution_count": 31,
   "id": "73b327ae-22e8-4101-a8a4-6bed089db93f",
   "metadata": {},
   "outputs": [
    {
     "data": {
      "text/html": [
       "<div>\n",
       "<style scoped>\n",
       "    .dataframe tbody tr th:only-of-type {\n",
       "        vertical-align: middle;\n",
       "    }\n",
       "\n",
       "    .dataframe tbody tr th {\n",
       "        vertical-align: top;\n",
       "    }\n",
       "\n",
       "    .dataframe thead th {\n",
       "        text-align: right;\n",
       "    }\n",
       "</style>\n",
       "<table border=\"1\" class=\"dataframe\">\n",
       "  <thead>\n",
       "    <tr style=\"text-align: right;\">\n",
       "      <th></th>\n",
       "      <th>count</th>\n",
       "      <th>mean</th>\n",
       "      <th>std</th>\n",
       "      <th>min</th>\n",
       "      <th>25%</th>\n",
       "      <th>50%</th>\n",
       "      <th>75%</th>\n",
       "      <th>max</th>\n",
       "    </tr>\n",
       "    <tr>\n",
       "      <th>state</th>\n",
       "      <th></th>\n",
       "      <th></th>\n",
       "      <th></th>\n",
       "      <th></th>\n",
       "      <th></th>\n",
       "      <th></th>\n",
       "      <th></th>\n",
       "      <th></th>\n",
       "    </tr>\n",
       "  </thead>\n",
       "  <tbody>\n",
       "    <tr>\n",
       "      <th>British Columbia</th>\n",
       "      <td>294.0</td>\n",
       "      <td>3.850340</td>\n",
       "      <td>2.001207</td>\n",
       "      <td>2.0</td>\n",
       "      <td>2.0</td>\n",
       "      <td>3.0</td>\n",
       "      <td>5.0</td>\n",
       "      <td>9.0</td>\n",
       "    </tr>\n",
       "    <tr>\n",
       "      <th>California</th>\n",
       "      <td>712.0</td>\n",
       "      <td>3.557584</td>\n",
       "      <td>2.001279</td>\n",
       "      <td>2.0</td>\n",
       "      <td>2.0</td>\n",
       "      <td>3.0</td>\n",
       "      <td>4.0</td>\n",
       "      <td>11.0</td>\n",
       "    </tr>\n",
       "    <tr>\n",
       "      <th>Oregon</th>\n",
       "      <td>439.0</td>\n",
       "      <td>3.359909</td>\n",
       "      <td>1.830197</td>\n",
       "      <td>2.0</td>\n",
       "      <td>2.0</td>\n",
       "      <td>3.0</td>\n",
       "      <td>4.0</td>\n",
       "      <td>10.0</td>\n",
       "    </tr>\n",
       "    <tr>\n",
       "      <th>Washington</th>\n",
       "      <td>441.0</td>\n",
       "      <td>3.582766</td>\n",
       "      <td>1.872789</td>\n",
       "      <td>2.0</td>\n",
       "      <td>2.0</td>\n",
       "      <td>3.0</td>\n",
       "      <td>4.0</td>\n",
       "      <td>11.0</td>\n",
       "    </tr>\n",
       "  </tbody>\n",
       "</table>\n",
       "</div>"
      ],
      "text/plain": [
       "                  count      mean       std  min  25%  50%  75%   max\n",
       "state                                                                \n",
       "British Columbia  294.0  3.850340  2.001207  2.0  2.0  3.0  5.0   9.0\n",
       "California        712.0  3.557584  2.001279  2.0  2.0  3.0  4.0  11.0\n",
       "Oregon            439.0  3.359909  1.830197  2.0  2.0  3.0  4.0  10.0\n",
       "Washington        441.0  3.582766  1.872789  2.0  2.0  3.0  4.0  11.0"
      ]
     },
     "execution_count": 31,
     "metadata": {},
     "output_type": "execute_result"
    }
   ],
   "source": [
    "heatwave_control.drop_duplicates('heat_ID').groupby('state')['Heat Wave Duration'].describe()"
   ]
  },
  {
   "cell_type": "code",
   "execution_count": 32,
   "id": "87e4a26a-6c76-440e-a436-a4bd30b8633e",
   "metadata": {},
   "outputs": [
    {
     "data": {
      "text/html": [
       "<div>\n",
       "<style scoped>\n",
       "    .dataframe tbody tr th:only-of-type {\n",
       "        vertical-align: middle;\n",
       "    }\n",
       "\n",
       "    .dataframe tbody tr th {\n",
       "        vertical-align: top;\n",
       "    }\n",
       "\n",
       "    .dataframe thead th {\n",
       "        text-align: right;\n",
       "    }\n",
       "</style>\n",
       "<table border=\"1\" class=\"dataframe\">\n",
       "  <thead>\n",
       "    <tr style=\"text-align: right;\">\n",
       "      <th></th>\n",
       "      <th>residential_difference</th>\n",
       "      <th>workplaces_difference</th>\n",
       "      <th>transit_difference</th>\n",
       "      <th>grocery_pharmacy_difference</th>\n",
       "      <th>retail_difference</th>\n",
       "      <th>parks_difference</th>\n",
       "    </tr>\n",
       "  </thead>\n",
       "  <tbody>\n",
       "    <tr>\n",
       "      <th>count</th>\n",
       "      <td>4884.000000</td>\n",
       "      <td>5941.000000</td>\n",
       "      <td>3391.000000</td>\n",
       "      <td>4482.000000</td>\n",
       "      <td>5227.000000</td>\n",
       "      <td>2818.000000</td>\n",
       "    </tr>\n",
       "    <tr>\n",
       "      <th>mean</th>\n",
       "      <td>-0.077600</td>\n",
       "      <td>-0.518431</td>\n",
       "      <td>-0.680035</td>\n",
       "      <td>1.242972</td>\n",
       "      <td>0.426057</td>\n",
       "      <td>-1.605749</td>\n",
       "    </tr>\n",
       "    <tr>\n",
       "      <th>std</th>\n",
       "      <td>1.501967</td>\n",
       "      <td>3.566710</td>\n",
       "      <td>8.479401</td>\n",
       "      <td>6.326961</td>\n",
       "      <td>6.721429</td>\n",
       "      <td>26.826260</td>\n",
       "    </tr>\n",
       "    <tr>\n",
       "      <th>min</th>\n",
       "      <td>-6.000000</td>\n",
       "      <td>-17.000000</td>\n",
       "      <td>-41.000000</td>\n",
       "      <td>-27.000000</td>\n",
       "      <td>-31.000000</td>\n",
       "      <td>-119.000000</td>\n",
       "    </tr>\n",
       "    <tr>\n",
       "      <th>25%</th>\n",
       "      <td>-1.000000</td>\n",
       "      <td>-2.000000</td>\n",
       "      <td>-4.000000</td>\n",
       "      <td>-2.000000</td>\n",
       "      <td>-3.000000</td>\n",
       "      <td>-16.000000</td>\n",
       "    </tr>\n",
       "    <tr>\n",
       "      <th>50%</th>\n",
       "      <td>0.000000</td>\n",
       "      <td>0.000000</td>\n",
       "      <td>-1.000000</td>\n",
       "      <td>1.000000</td>\n",
       "      <td>0.000000</td>\n",
       "      <td>-5.000000</td>\n",
       "    </tr>\n",
       "    <tr>\n",
       "      <th>75%</th>\n",
       "      <td>1.000000</td>\n",
       "      <td>1.000000</td>\n",
       "      <td>3.000000</td>\n",
       "      <td>4.000000</td>\n",
       "      <td>3.000000</td>\n",
       "      <td>8.000000</td>\n",
       "    </tr>\n",
       "    <tr>\n",
       "      <th>max</th>\n",
       "      <td>6.000000</td>\n",
       "      <td>16.000000</td>\n",
       "      <td>41.000000</td>\n",
       "      <td>30.000000</td>\n",
       "      <td>31.000000</td>\n",
       "      <td>122.000000</td>\n",
       "    </tr>\n",
       "  </tbody>\n",
       "</table>\n",
       "</div>"
      ],
      "text/plain": [
       "       residential_difference  workplaces_difference  transit_difference  \\\n",
       "count             4884.000000            5941.000000         3391.000000   \n",
       "mean                -0.077600              -0.518431           -0.680035   \n",
       "std                  1.501967               3.566710            8.479401   \n",
       "min                 -6.000000             -17.000000          -41.000000   \n",
       "25%                 -1.000000              -2.000000           -4.000000   \n",
       "50%                  0.000000               0.000000           -1.000000   \n",
       "75%                  1.000000               1.000000            3.000000   \n",
       "max                  6.000000              16.000000           41.000000   \n",
       "\n",
       "       grocery_pharmacy_difference  retail_difference  parks_difference  \n",
       "count                  4482.000000        5227.000000       2818.000000  \n",
       "mean                      1.242972           0.426057         -1.605749  \n",
       "std                       6.326961           6.721429         26.826260  \n",
       "min                     -27.000000         -31.000000       -119.000000  \n",
       "25%                      -2.000000          -3.000000        -16.000000  \n",
       "50%                       1.000000           0.000000         -5.000000  \n",
       "75%                       4.000000           3.000000          8.000000  \n",
       "max                      30.000000          31.000000        122.000000  "
      ]
     },
     "execution_count": 32,
     "metadata": {},
     "output_type": "execute_result"
    }
   ],
   "source": [
    "heatwave_control[['residential_difference', 'workplaces_difference', 'transit_difference', 'grocery_pharmacy_difference', 'retail_difference', 'parks_difference']].describe()"
   ]
  },
  {
   "cell_type": "markdown",
   "id": "f140adcb-6728-4595-a0b3-dec030fe769b",
   "metadata": {},
   "source": [
    "### State Plot"
   ]
  },
  {
   "cell_type": "code",
   "execution_count": 30,
   "id": "97c04108-71a2-47f7-b088-4154b019bbda",
   "metadata": {},
   "outputs": [],
   "source": [
    "location_temps = pd.DataFrame(heatwave_control.groupby('location')['temperature_2m_heat'].mean()).reset_index()\n",
    "location_temps = gpd.GeoDataFrame(location_temps.merge(clean_nw, on='location'))\n",
    "location_temps.to_crs(epsg=3857, inplace=True)\n",
    "clean_nw.to_crs(epsg=3857, inplace=True)\n",
    "\n"
   ]
  },
  {
   "cell_type": "code",
   "execution_count": 31,
   "id": "e16a4ecc-46da-4f83-a2bf-25b0f203c4b0",
   "metadata": {},
   "outputs": [],
   "source": [
    "import matplotlib.image as img\n",
    "\n",
    "from matplotlib.offsetbox import TextArea, DrawingArea, OffsetImage, AnnotationBbox\n",
    "\n",
    "im=img.imread(r'/Users/shivyucel/Documents/projects/DPhil/Code_Data/misc/north_arrow.jpeg')"
   ]
  },
  {
   "cell_type": "code",
   "execution_count": 32,
   "id": "c9fdb98a-39f0-4deb-bc62-84bfe494731b",
   "metadata": {},
   "outputs": [
    {
     "name": "stderr",
     "output_type": "stream",
     "text": [
      "No artists with labels found to put in legend.  Note that artists whose label start with an underscore are ignored when legend() is called with no argument.\n"
     ]
    },
    {
     "data": {
      "image/png": "[encoded data removed]",
      "text/plain": [
       "<Figure size 640x480 with 2 Axes>"
      ]
     },
     "metadata": {},
     "output_type": "display_data"
    }
   ],
   "source": [
    "sns.set_style('whitegrid')\n",
    "fig, ax = plt.subplots()\n",
    "clean_nw.plot(ax=ax, color='grey')\n",
    "location_temps.plot(column='temperature_2m_heat', legend=True, ax=ax, cmap='inferno', legend_kwds={'shrink': 0.7})\n",
    "ax.add_artist(ScaleBar(1, location='lower left')  )\n",
    "ax.set_yticks([])\n",
    "ax.set_xticks([])\n",
    "ax.legend(loc=(1, .83),\n",
    "          fontsize=15,\n",
    "          frameon=False,\n",
    "          title=\"Mean heat wave \\n temperature (C)\")\n",
    "\n",
    "x, y, arrow_length = 0.27, 0.122, 0.1\n",
    "ax.annotate('N', xy=(x, y), xytext=(x, y-arrow_length),\n",
    "            arrowprops=dict(facecolor='black', width=5, headwidth=10),\n",
    "            ha='center', va='center', fontsize=10,\n",
    "            xycoords=ax.transAxes)\n",
    "\n",
    "\n",
    "plt.tight_layout()\n",
    "plt.savefig(\"/Users/shivyucel/Documents/projects/DPhil/Code_Data/data/results/plots/heat_state_plot_v6.png\", dpi=400)\n"
   ]
  },
  {
   "cell_type": "code",
   "execution_count": 33,
   "id": "b7bea993-ce5d-4c15-b75a-4b66e4f6885b",
   "metadata": {},
   "outputs": [
    {
     "name": "stderr",
     "output_type": "stream",
     "text": [
      "/var/folders/8g/qp1k_1g91m5f2m9pypxwxdhh0000gn/T/ipykernel_54722/2682032165.py:1: UserWarning: Column names longer than 10 characters will be truncated when saved to ESRI Shapefile.\n",
      "  location_temps.to_file('/Users/shivyucel/Documents/projects/DPhil/Code_Data/data/results/plots/state_maps/location_temps.shp')\n"
     ]
    }
   ],
   "source": [
    "location_temps.to_file('/Users/shivyucel/Documents/projects/DPhil/Code_Data/data/results/plots/state_maps/location_temps.shp')"
   ]
  },
  {
   "cell_type": "code",
   "execution_count": 33,
   "id": "e00e598a-9deb-4ac3-acc4-f23883284fbd",
   "metadata": {},
   "outputs": [],
   "source": [
    "plot_2_summary = heatwave_control.melt(id_vars=['year', 'state'], value_vars=['workplaces_difference', 'residential_difference', 'transit_difference', 'grocery_pharmacy_difference', 'parks_difference', 'retail_difference'])\n",
    "plot_2_summary.to_csv('/Users/shivyucel/Documents/projects/DPhil/Code_Data/data/results/plots/year_describe_v5.csv')"
   ]
  },
  {
   "cell_type": "code",
   "execution_count": 34,
   "id": "eb44b54a-bc45-4088-b150-3048877a0a9c",
   "metadata": {},
   "outputs": [],
   "source": [
    "plot_3_summary = heatwave_control.melt(id_vars=['temperature_2m_heat', 'state'], value_vars=['workplaces_difference', 'residential_difference', 'transit_difference', 'grocery_pharmacy_difference', 'parks_difference', 'retail_difference'])\n",
    "plot_3_summary.to_csv('/Users/shivyucel/Documents/projects/DPhil/Code_Data/data/results/plots/scatterplot_v7.csv')"
   ]
  },
  {
   "cell_type": "code",
   "execution_count": 36,
   "id": "768f9413-bdef-4a61-a622-41c69745d606",
   "metadata": {},
   "outputs": [
    {
     "data": {
      "text/plain": [
       "33.392870965862436"
      ]
     },
     "execution_count": 36,
     "metadata": {},
     "output_type": "execute_result"
    }
   ],
   "source": [
    "heatwave_control['temperature_2m_heat'].mean()"
   ]
  },
  {
   "cell_type": "code",
   "execution_count": 37,
   "id": "ea09230d-4fdf-4c0b-8a8e-ad02effce463",
   "metadata": {},
   "outputs": [
    {
     "data": {
      "text/html": [
       "<div>\n",
       "<style scoped>\n",
       "    .dataframe tbody tr th:only-of-type {\n",
       "        vertical-align: middle;\n",
       "    }\n",
       "\n",
       "    .dataframe tbody tr th {\n",
       "        vertical-align: top;\n",
       "    }\n",
       "\n",
       "    .dataframe thead th {\n",
       "        text-align: right;\n",
       "    }\n",
       "</style>\n",
       "<table border=\"1\" class=\"dataframe\">\n",
       "  <thead>\n",
       "    <tr style=\"text-align: right;\">\n",
       "      <th></th>\n",
       "      <th>count</th>\n",
       "      <th>mean</th>\n",
       "      <th>std</th>\n",
       "      <th>min</th>\n",
       "      <th>25%</th>\n",
       "      <th>50%</th>\n",
       "      <th>75%</th>\n",
       "      <th>max</th>\n",
       "    </tr>\n",
       "    <tr>\n",
       "      <th>year</th>\n",
       "      <th></th>\n",
       "      <th></th>\n",
       "      <th></th>\n",
       "      <th></th>\n",
       "      <th></th>\n",
       "      <th></th>\n",
       "      <th></th>\n",
       "      <th></th>\n",
       "    </tr>\n",
       "  </thead>\n",
       "  <tbody>\n",
       "    <tr>\n",
       "      <th>2020</th>\n",
       "      <td>1093.0</td>\n",
       "      <td>-0.106130</td>\n",
       "      <td>1.062898</td>\n",
       "      <td>-5.0</td>\n",
       "      <td>-1.0</td>\n",
       "      <td>0.0</td>\n",
       "      <td>0.0</td>\n",
       "      <td>6.0</td>\n",
       "    </tr>\n",
       "    <tr>\n",
       "      <th>2021</th>\n",
       "      <td>1881.0</td>\n",
       "      <td>0.053163</td>\n",
       "      <td>1.471481</td>\n",
       "      <td>-6.0</td>\n",
       "      <td>-1.0</td>\n",
       "      <td>0.0</td>\n",
       "      <td>1.0</td>\n",
       "      <td>6.0</td>\n",
       "    </tr>\n",
       "    <tr>\n",
       "      <th>2022</th>\n",
       "      <td>1910.0</td>\n",
       "      <td>-0.190052</td>\n",
       "      <td>1.720978</td>\n",
       "      <td>-5.0</td>\n",
       "      <td>-1.0</td>\n",
       "      <td>0.0</td>\n",
       "      <td>1.0</td>\n",
       "      <td>5.0</td>\n",
       "    </tr>\n",
       "  </tbody>\n",
       "</table>\n",
       "</div>"
      ],
      "text/plain": [
       "       count      mean       std  min  25%  50%  75%  max\n",
       "year                                                     \n",
       "2020  1093.0 -0.106130  1.062898 -5.0 -1.0  0.0  0.0  6.0\n",
       "2021  1881.0  0.053163  1.471481 -6.0 -1.0  0.0  1.0  6.0\n",
       "2022  1910.0 -0.190052  1.720978 -5.0 -1.0  0.0  1.0  5.0"
      ]
     },
     "execution_count": 37,
     "metadata": {},
     "output_type": "execute_result"
    }
   ],
   "source": [
    "heatwave_control.groupby('year')['residential_difference'].describe()"
   ]
  },
  {
   "cell_type": "code",
   "execution_count": null,
   "id": "9a3e17ab-94d3-4c55-93d3-487a3fd30c9f",
   "metadata": {},
   "outputs": [],
   "source": []
  }
 ],
 "metadata": {
  "kernelspec": {
   "display_name": "Python 3 (ipykernel)",
   "language": "python",
   "name": "python3"
  },
  "language_info": {
   "codemirror_mode": {
    "name": "ipython",
    "version": 3
   },
   "file_extension": ".py",
   "mimetype": "text/x-python",
   "name": "python",
   "nbconvert_exporter": "python",
   "pygments_lexer": "ipython3",
   "version": "3.10.9"
  }
 },
 "nbformat": 4,
 "nbformat_minor": 5
}
