{
 "cells": [
  {
   "cell_type": "code",
   "execution_count": 1,
   "id": "5b852271-c5a0-4e8f-8646-c388872c83b9",
   "metadata": {},
   "outputs": [
    {
     "name": "stderr",
     "output_type": "stream",
     "text": [
      "/var/folders/8g/qp1k_1g91m5f2m9pypxwxdhh0000gn/T/ipykernel_37599/1321555209.py:8: DeprecationWarning: Please use `pearsonr` from the `scipy.stats` namespace, the `scipy.stats.stats` namespace is deprecated.\n",
      "  from scipy.stats.stats import pearsonr\n"
     ]
    }
   ],
   "source": [
    "import pandas as pd\n",
    "import geopandas as gpd\n",
    "import matplotlib.pyplot as plt\n",
    "import seaborn as sns\n",
    "sns.set_style('darkgrid')\n",
    "from scipy.stats import ttest_ind\n",
    "import numpy as np\n",
    "from scipy.stats.stats import pearsonr\n",
    "from IPython.display import display, Markdown, Latex\n",
    "plt.style.use('ggplot')\n",
    "from datetime import date\n",
    "from statsmodels.stats.outliers_influence import variance_inflation_factor\n",
    "data_path = '/Users/shivyucel/Documents/projects/DPhil/Code_Data/data/'\n",
    "from seaborn_qqplot import pplot\n",
    "\n",
    "\n"
   ]
  },
  {
   "cell_type": "markdown",
   "id": "c5f363db-9349-4ef9-ac23-d3ee750d794c",
   "metadata": {},
   "source": [
    "### Load mobility-heat and heatwave-control day dataframes"
   ]
  },
  {
   "cell_type": "code",
   "execution_count": 2,
   "id": "b570e2d6-13d2-4644-ab17-30cd153c4369",
   "metadata": {},
   "outputs": [],
   "source": [
    "mobility_heat = pd.read_csv(data_path + 'mobility_heat/mobility_heat_clean_90_v1.csv')"
   ]
  },
  {
   "cell_type": "code",
   "execution_count": 3,
   "id": "a1a180e7-bbb6-40f6-bc1a-b2f885897aa2",
   "metadata": {},
   "outputs": [],
   "source": [
    "heatwave_control = pd.read_csv('/Users/shivyucel/Documents/projects/DPhil/Code_Data/data/heatwave_control/heatwave_control_clean_90_v1.csv')"
   ]
  },
  {
   "cell_type": "code",
   "execution_count": 5,
   "id": "84b31e8b-314b-443e-ba3f-f899ac812954",
   "metadata": {},
   "outputs": [],
   "source": [
    "heatwave_control.rename(columns={'datetime': 'date'}, inplace=True)\n",
    "heatwave_control.rename(columns={'Heat Wave Duration_x': 'Heat Wave Duration'}, inplace=True)\n",
    "\n",
    "\n",
    "mobility_heat.rename(columns={'datetime': 'date'}, inplace=True)\n",
    "heatwave_control.drop_duplicates(['location', 'date'], inplace=True)"
   ]
  },
  {
   "cell_type": "markdown",
   "id": "d6383384-1d4f-4263-be2a-131c912ea065",
   "metadata": {},
   "source": [
    "## Build Intensity Variable\n"
   ]
  },
  {
   "cell_type": "markdown",
   "id": "5e4ab756-0e6b-4f57-b284-154836b469dd",
   "metadata": {},
   "source": [
    "### Clean/Add control day temperature"
   ]
  },
  {
   "cell_type": "code",
   "execution_count": 6,
   "id": "e9dc0d77-b0b6-498c-9b80-64abb0de5c81",
   "metadata": {},
   "outputs": [],
   "source": [
    "import glob\n",
    "import dask.dataframe as dd"
   ]
  },
  {
   "cell_type": "code",
   "execution_count": 7,
   "id": "f4f97564-73f7-4c5d-8d5c-0148d7a0a2c9",
   "metadata": {},
   "outputs": [],
   "source": [
    "daily_max_dic = {}\n",
    "\n",
    "for state in ['California', 'Oregon', 'Washington', 'British Columbia']:\n",
    "            \n",
    "    daily_max_files = glob.glob(f'/Users/shivyucel/Documents/projects/DPhil/Code_Data/data/daily_max/{state}/max*')\n",
    "    \n",
    "    temp = dd.read_csv(daily_max_files)\n",
    "    temp = temp.compute()\n",
    "    daily_max_dic[state] = temp\n",
    "    \n",
    "\n",
    "full_df = pd.concat(daily_max_dic.values())\n",
    "\n",
    "full_df['datetime'] = pd.to_datetime(full_df[['day', 'month', 'year']])\n",
    "full_df['datetime_ord'] = [date(x,y,z).toordinal() for x,y,z in zip(full_df['year'], full_df['month'], full_df['day'])]\n",
    "\n",
    "full_df['location'] = full_df['county'] + ', ' + full_df['state']\n",
    "full_df.drop_duplicates(['location', 'datetime'], inplace=True)\n",
    "\n",
    "full_df = full_df[(full_df['month'] != 10)]\n",
    "full_df = full_df[(full_df['month'] != 4)]\n",
    "\n"
   ]
  },
  {
   "cell_type": "code",
   "execution_count": 8,
   "id": "644b8382-82e3-4fcd-8caa-a3190d453c20",
   "metadata": {},
   "outputs": [
    {
     "name": "stderr",
     "output_type": "stream",
     "text": [
      "/var/folders/8g/qp1k_1g91m5f2m9pypxwxdhh0000gn/T/ipykernel_37599/3648483601.py:6: SettingWithCopyWarning: \n",
      "A value is trying to be set on a copy of a slice from a DataFrame.\n",
      "Try using .loc[row_indexer,col_indexer] = value instead\n",
      "\n",
      "See the caveats in the documentation: https://pandas.pydata.org/pandas-docs/stable/user_guide/indexing.html#returning-a-view-versus-a-copy\n",
      "  us_temps['county'] = us_temps['county'] + ' County'\n",
      "/var/folders/8g/qp1k_1g91m5f2m9pypxwxdhh0000gn/T/ipykernel_37599/3648483601.py:7: SettingWithCopyWarning: \n",
      "A value is trying to be set on a copy of a slice from a DataFrame.\n",
      "Try using .loc[row_indexer,col_indexer] = value instead\n",
      "\n",
      "See the caveats in the documentation: https://pandas.pydata.org/pandas-docs/stable/user_guide/indexing.html#returning-a-view-versus-a-copy\n",
      "  us_temps['location'] = us_temps['county'] + ', ' + us_temps['state']\n",
      "/var/folders/8g/qp1k_1g91m5f2m9pypxwxdhh0000gn/T/ipykernel_37599/3648483601.py:10: SettingWithCopyWarning: \n",
      "A value is trying to be set on a copy of a slice from a DataFrame.\n",
      "Try using .loc[row_indexer,col_indexer] = value instead\n",
      "\n",
      "See the caveats in the documentation: https://pandas.pydata.org/pandas-docs/stable/user_guide/indexing.html#returning-a-view-versus-a-copy\n",
      "  ca_temps['location'] = ca_temps['county'] + ', ' + ca_temps['state']\n",
      "/var/folders/8g/qp1k_1g91m5f2m9pypxwxdhh0000gn/T/ipykernel_37599/3648483601.py:12: FutureWarning: The frame.append method is deprecated and will be removed from pandas in a future version. Use pandas.concat instead.\n",
      "  nw_temps = us_temps.append(ca_temps)\n"
     ]
    }
   ],
   "source": [
    "#load and format full temperature dataset\n",
    "\n",
    "#full_df = pd.read_csv('/Users/shivyucel/Documents/projects/DPhil/Code_Data/data/daily_max/max_temps/max_temps.csv')\n",
    "#full_df['datetime'] = pd.to_datetime(full_df['datetime'])\n",
    "us_temps = full_df[full_df['state'].isin(['California', 'Oregon', 'Washington'])]\n",
    "us_temps['county'] = us_temps['county'] + ' County'\n",
    "us_temps['location'] = us_temps['county'] + ', ' + us_temps['state']\n",
    "\n",
    "ca_temps = full_df[full_df['state'] == 'British Columbia']\n",
    "ca_temps['location'] = ca_temps['county'] + ', ' + ca_temps['state']\n",
    "\n",
    "nw_temps = us_temps.append(ca_temps)"
   ]
  },
  {
   "cell_type": "code",
   "execution_count": 10,
   "id": "6a9295a3-c65a-4d95-87fa-ad16c584266b",
   "metadata": {},
   "outputs": [],
   "source": [
    "mobility_heat['date_heat'] = pd.to_datetime(mobility_heat['date_heat'])"
   ]
  },
  {
   "cell_type": "code",
   "execution_count": 11,
   "id": "1f7d2196-fa12-41e8-b892-72a30595b5b1",
   "metadata": {},
   "outputs": [],
   "source": [
    "mobility_heat['date_control'] = pd.to_datetime(mobility_heat['date_control'])"
   ]
  },
  {
   "cell_type": "code",
   "execution_count": 12,
   "id": "314bcc4f-6fdd-444b-a5ea-1d6c989131a3",
   "metadata": {},
   "outputs": [],
   "source": [
    "#remove days on Canadian holidays for heatwave and control days\n",
    "holidays = pd.read_csv('/Users/shivyucel/Downloads/holidays.csv')\n",
    "holidays['date'] = pd.to_datetime(holidays['date'])\n",
    "mobility_heat['holiday'] = [1 if (x in holidays['date'].values) & (y=='British Columbia') else 0 for (x,y) in zip(mobility_heat['date_heat'].values, mobility_heat['state'])]\n",
    "mobility_heat = mobility_heat[mobility_heat['holiday'] != 1]\n",
    "\n",
    "\n",
    "mobility_heat['holiday'] = [1 if (x in holidays['date'].values) & (y=='British Columbia') else 0 for (x,y) in zip(mobility_heat['date_control'].values, mobility_heat['state'])]\n",
    "mobility_heat = mobility_heat[mobility_heat['holiday'] != 1]\n",
    "\n",
    "\n"
   ]
  },
  {
   "cell_type": "code",
   "execution_count": 13,
   "id": "85cfd160-6e52-4989-8756-02deaf1693ca",
   "metadata": {},
   "outputs": [],
   "source": [
    "#remove days on American holidays for heatwave and control days\n",
    "\n",
    "us_hols = pd.read_csv('/Users/shivyucel/Downloads/archive/400_Years_of_Generated_Dates_and_Holidays.csv')\n",
    "us_hols = us_hols[us_hols['IS_HOLIDAY'] == 1]\n",
    "us_hols['A_DATE'] = pd.to_datetime(us_hols['A_DATE'])\n",
    "\n",
    "\n",
    "mobility_heat['us_holiday_heat'] = [1 if (x in us_hols['A_DATE'].values) & (y != 'British Columbia') else 0 for (x,y) in zip(mobility_heat['date_heat'].values, mobility_heat['state'])]\n",
    "mobility_heat = mobility_heat[mobility_heat['us_holiday_heat'] == 0]\n",
    "\n",
    "\n",
    "mobility_heat['us_holiday'] = [1 if (x in us_hols['A_DATE'].values) & (y != 'British Columbia') else 0 for (x,y) in zip(mobility_heat['date_control'].values, mobility_heat['state'])]\n",
    "mobility_heat = mobility_heat[mobility_heat['us_holiday'] == 0]\n"
   ]
  },
  {
   "cell_type": "code",
   "execution_count": 14,
   "id": "df7b9202-1a36-42d3-a757-66027c42f4d8",
   "metadata": {},
   "outputs": [
    {
     "data": {
      "text/html": [
       "<div>\n",
       "<style scoped>\n",
       "    .dataframe tbody tr th:only-of-type {\n",
       "        vertical-align: middle;\n",
       "    }\n",
       "\n",
       "    .dataframe tbody tr th {\n",
       "        vertical-align: top;\n",
       "    }\n",
       "\n",
       "    .dataframe thead th {\n",
       "        text-align: right;\n",
       "    }\n",
       "</style>\n",
       "<table border=\"1\" class=\"dataframe\">\n",
       "  <thead>\n",
       "    <tr style=\"text-align: right;\">\n",
       "      <th></th>\n",
       "      <th>Unnamed: 0.1</th>\n",
       "      <th>Unnamed: 0</th>\n",
       "      <th>country_region_code</th>\n",
       "      <th>country_region</th>\n",
       "      <th>state</th>\n",
       "      <th>county</th>\n",
       "      <th>metro_area</th>\n",
       "      <th>iso_3166_2_code</th>\n",
       "      <th>census_fips_code</th>\n",
       "      <th>place_id</th>\n",
       "      <th>...</th>\n",
       "      <th>grocery_pharmacy_difference</th>\n",
       "      <th>parks_difference</th>\n",
       "      <th>transit_difference</th>\n",
       "      <th>workplaces_difference</th>\n",
       "      <th>residential_difference</th>\n",
       "      <th>day_of_week</th>\n",
       "      <th>weekend</th>\n",
       "      <th>holiday</th>\n",
       "      <th>us_holiday_heat</th>\n",
       "      <th>us_holiday</th>\n",
       "    </tr>\n",
       "  </thead>\n",
       "  <tbody>\n",
       "    <tr>\n",
       "      <th>0</th>\n",
       "      <td>0</td>\n",
       "      <td>48495</td>\n",
       "      <td>US</td>\n",
       "      <td>United States</td>\n",
       "      <td>California</td>\n",
       "      <td>Alameda County</td>\n",
       "      <td>NaN</td>\n",
       "      <td>NaN</td>\n",
       "      <td>6001.0</td>\n",
       "      <td>ChIJWRd5NDfyj4ARc30TGxHHxmg</td>\n",
       "      <td>...</td>\n",
       "      <td>1.0</td>\n",
       "      <td>-6.0</td>\n",
       "      <td>2.0</td>\n",
       "      <td>2.0</td>\n",
       "      <td>-1.0</td>\n",
       "      <td>2</td>\n",
       "      <td>0</td>\n",
       "      <td>0</td>\n",
       "      <td>0</td>\n",
       "      <td>0</td>\n",
       "    </tr>\n",
       "    <tr>\n",
       "      <th>1</th>\n",
       "      <td>1</td>\n",
       "      <td>48496</td>\n",
       "      <td>US</td>\n",
       "      <td>United States</td>\n",
       "      <td>California</td>\n",
       "      <td>Alameda County</td>\n",
       "      <td>NaN</td>\n",
       "      <td>NaN</td>\n",
       "      <td>6001.0</td>\n",
       "      <td>ChIJWRd5NDfyj4ARc30TGxHHxmg</td>\n",
       "      <td>...</td>\n",
       "      <td>0.0</td>\n",
       "      <td>-2.0</td>\n",
       "      <td>0.0</td>\n",
       "      <td>0.0</td>\n",
       "      <td>0.0</td>\n",
       "      <td>3</td>\n",
       "      <td>0</td>\n",
       "      <td>0</td>\n",
       "      <td>0</td>\n",
       "      <td>0</td>\n",
       "    </tr>\n",
       "    <tr>\n",
       "      <th>2</th>\n",
       "      <td>2</td>\n",
       "      <td>48533</td>\n",
       "      <td>US</td>\n",
       "      <td>United States</td>\n",
       "      <td>California</td>\n",
       "      <td>Alameda County</td>\n",
       "      <td>NaN</td>\n",
       "      <td>NaN</td>\n",
       "      <td>6001.0</td>\n",
       "      <td>ChIJWRd5NDfyj4ARc30TGxHHxmg</td>\n",
       "      <td>...</td>\n",
       "      <td>2.0</td>\n",
       "      <td>2.0</td>\n",
       "      <td>-1.0</td>\n",
       "      <td>0.0</td>\n",
       "      <td>0.0</td>\n",
       "      <td>5</td>\n",
       "      <td>1</td>\n",
       "      <td>0</td>\n",
       "      <td>0</td>\n",
       "      <td>0</td>\n",
       "    </tr>\n",
       "    <tr>\n",
       "      <th>3</th>\n",
       "      <td>3</td>\n",
       "      <td>48534</td>\n",
       "      <td>US</td>\n",
       "      <td>United States</td>\n",
       "      <td>California</td>\n",
       "      <td>Alameda County</td>\n",
       "      <td>NaN</td>\n",
       "      <td>NaN</td>\n",
       "      <td>6001.0</td>\n",
       "      <td>ChIJWRd5NDfyj4ARc30TGxHHxmg</td>\n",
       "      <td>...</td>\n",
       "      <td>8.0</td>\n",
       "      <td>12.0</td>\n",
       "      <td>1.0</td>\n",
       "      <td>2.0</td>\n",
       "      <td>1.0</td>\n",
       "      <td>6</td>\n",
       "      <td>1</td>\n",
       "      <td>0</td>\n",
       "      <td>0</td>\n",
       "      <td>0</td>\n",
       "    </tr>\n",
       "    <tr>\n",
       "      <th>4</th>\n",
       "      <td>4</td>\n",
       "      <td>48566</td>\n",
       "      <td>US</td>\n",
       "      <td>United States</td>\n",
       "      <td>California</td>\n",
       "      <td>Alameda County</td>\n",
       "      <td>NaN</td>\n",
       "      <td>NaN</td>\n",
       "      <td>6001.0</td>\n",
       "      <td>ChIJWRd5NDfyj4ARc30TGxHHxmg</td>\n",
       "      <td>...</td>\n",
       "      <td>-2.0</td>\n",
       "      <td>-8.0</td>\n",
       "      <td>-1.0</td>\n",
       "      <td>-1.0</td>\n",
       "      <td>0.0</td>\n",
       "      <td>3</td>\n",
       "      <td>0</td>\n",
       "      <td>0</td>\n",
       "      <td>0</td>\n",
       "      <td>0</td>\n",
       "    </tr>\n",
       "    <tr>\n",
       "      <th>...</th>\n",
       "      <td>...</td>\n",
       "      <td>...</td>\n",
       "      <td>...</td>\n",
       "      <td>...</td>\n",
       "      <td>...</td>\n",
       "      <td>...</td>\n",
       "      <td>...</td>\n",
       "      <td>...</td>\n",
       "      <td>...</td>\n",
       "      <td>...</td>\n",
       "      <td>...</td>\n",
       "      <td>...</td>\n",
       "      <td>...</td>\n",
       "      <td>...</td>\n",
       "      <td>...</td>\n",
       "      <td>...</td>\n",
       "      <td>...</td>\n",
       "      <td>...</td>\n",
       "      <td>...</td>\n",
       "      <td>...</td>\n",
       "      <td>...</td>\n",
       "    </tr>\n",
       "    <tr>\n",
       "      <th>6534</th>\n",
       "      <td>6534</td>\n",
       "      <td>13369</td>\n",
       "      <td>CA</td>\n",
       "      <td>Canada</td>\n",
       "      <td>British Columbia</td>\n",
       "      <td>Thompson-Nicola</td>\n",
       "      <td>NaN</td>\n",
       "      <td>NaN</td>\n",
       "      <td>NaN</td>\n",
       "      <td>ChIJ_SiQHppZmVMRU1GZA0M1YhU</td>\n",
       "      <td>...</td>\n",
       "      <td>4.0</td>\n",
       "      <td>-2.0</td>\n",
       "      <td>4.0</td>\n",
       "      <td>0.0</td>\n",
       "      <td>2.0</td>\n",
       "      <td>4</td>\n",
       "      <td>0</td>\n",
       "      <td>0</td>\n",
       "      <td>0</td>\n",
       "      <td>0</td>\n",
       "    </tr>\n",
       "    <tr>\n",
       "      <th>6535</th>\n",
       "      <td>6535</td>\n",
       "      <td>13380</td>\n",
       "      <td>CA</td>\n",
       "      <td>Canada</td>\n",
       "      <td>British Columbia</td>\n",
       "      <td>Thompson-Nicola</td>\n",
       "      <td>NaN</td>\n",
       "      <td>NaN</td>\n",
       "      <td>NaN</td>\n",
       "      <td>ChIJ_SiQHppZmVMRU1GZA0M1YhU</td>\n",
       "      <td>...</td>\n",
       "      <td>-6.0</td>\n",
       "      <td>8.0</td>\n",
       "      <td>9.0</td>\n",
       "      <td>1.0</td>\n",
       "      <td>-3.0</td>\n",
       "      <td>1</td>\n",
       "      <td>0</td>\n",
       "      <td>0</td>\n",
       "      <td>0</td>\n",
       "      <td>0</td>\n",
       "    </tr>\n",
       "    <tr>\n",
       "      <th>6536</th>\n",
       "      <td>6536</td>\n",
       "      <td>13381</td>\n",
       "      <td>CA</td>\n",
       "      <td>Canada</td>\n",
       "      <td>British Columbia</td>\n",
       "      <td>Thompson-Nicola</td>\n",
       "      <td>NaN</td>\n",
       "      <td>NaN</td>\n",
       "      <td>NaN</td>\n",
       "      <td>ChIJ_SiQHppZmVMRU1GZA0M1YhU</td>\n",
       "      <td>...</td>\n",
       "      <td>-4.0</td>\n",
       "      <td>26.0</td>\n",
       "      <td>-13.0</td>\n",
       "      <td>-2.0</td>\n",
       "      <td>0.0</td>\n",
       "      <td>2</td>\n",
       "      <td>0</td>\n",
       "      <td>0</td>\n",
       "      <td>0</td>\n",
       "      <td>0</td>\n",
       "    </tr>\n",
       "    <tr>\n",
       "      <th>6537</th>\n",
       "      <td>6537</td>\n",
       "      <td>13383</td>\n",
       "      <td>CA</td>\n",
       "      <td>Canada</td>\n",
       "      <td>British Columbia</td>\n",
       "      <td>Thompson-Nicola</td>\n",
       "      <td>NaN</td>\n",
       "      <td>NaN</td>\n",
       "      <td>NaN</td>\n",
       "      <td>ChIJ_SiQHppZmVMRU1GZA0M1YhU</td>\n",
       "      <td>...</td>\n",
       "      <td>3.0</td>\n",
       "      <td>66.0</td>\n",
       "      <td>-11.0</td>\n",
       "      <td>-8.0</td>\n",
       "      <td>1.0</td>\n",
       "      <td>4</td>\n",
       "      <td>0</td>\n",
       "      <td>0</td>\n",
       "      <td>0</td>\n",
       "      <td>0</td>\n",
       "    </tr>\n",
       "    <tr>\n",
       "      <th>6538</th>\n",
       "      <td>6538</td>\n",
       "      <td>13384</td>\n",
       "      <td>CA</td>\n",
       "      <td>Canada</td>\n",
       "      <td>British Columbia</td>\n",
       "      <td>Thompson-Nicola</td>\n",
       "      <td>NaN</td>\n",
       "      <td>NaN</td>\n",
       "      <td>NaN</td>\n",
       "      <td>ChIJ_SiQHppZmVMRU1GZA0M1YhU</td>\n",
       "      <td>...</td>\n",
       "      <td>0.0</td>\n",
       "      <td>20.0</td>\n",
       "      <td>12.0</td>\n",
       "      <td>-7.0</td>\n",
       "      <td>-2.0</td>\n",
       "      <td>5</td>\n",
       "      <td>1</td>\n",
       "      <td>0</td>\n",
       "      <td>0</td>\n",
       "      <td>0</td>\n",
       "    </tr>\n",
       "  </tbody>\n",
       "</table>\n",
       "<p>6100 rows × 40 columns</p>\n",
       "</div>"
      ],
      "text/plain": [
       "      Unnamed: 0.1  Unnamed: 0 country_region_code country_region  \\\n",
       "0                0       48495                  US  United States   \n",
       "1                1       48496                  US  United States   \n",
       "2                2       48533                  US  United States   \n",
       "3                3       48534                  US  United States   \n",
       "4                4       48566                  US  United States   \n",
       "...            ...         ...                 ...            ...   \n",
       "6534          6534       13369                  CA         Canada   \n",
       "6535          6535       13380                  CA         Canada   \n",
       "6536          6536       13381                  CA         Canada   \n",
       "6537          6537       13383                  CA         Canada   \n",
       "6538          6538       13384                  CA         Canada   \n",
       "\n",
       "                 state           county  metro_area  iso_3166_2_code  \\\n",
       "0           California   Alameda County         NaN              NaN   \n",
       "1           California   Alameda County         NaN              NaN   \n",
       "2           California   Alameda County         NaN              NaN   \n",
       "3           California   Alameda County         NaN              NaN   \n",
       "4           California   Alameda County         NaN              NaN   \n",
       "...                ...              ...         ...              ...   \n",
       "6534  British Columbia  Thompson-Nicola         NaN              NaN   \n",
       "6535  British Columbia  Thompson-Nicola         NaN              NaN   \n",
       "6536  British Columbia  Thompson-Nicola         NaN              NaN   \n",
       "6537  British Columbia  Thompson-Nicola         NaN              NaN   \n",
       "6538  British Columbia  Thompson-Nicola         NaN              NaN   \n",
       "\n",
       "      census_fips_code                     place_id  ...  \\\n",
       "0               6001.0  ChIJWRd5NDfyj4ARc30TGxHHxmg  ...   \n",
       "1               6001.0  ChIJWRd5NDfyj4ARc30TGxHHxmg  ...   \n",
       "2               6001.0  ChIJWRd5NDfyj4ARc30TGxHHxmg  ...   \n",
       "3               6001.0  ChIJWRd5NDfyj4ARc30TGxHHxmg  ...   \n",
       "4               6001.0  ChIJWRd5NDfyj4ARc30TGxHHxmg  ...   \n",
       "...                ...                          ...  ...   \n",
       "6534               NaN  ChIJ_SiQHppZmVMRU1GZA0M1YhU  ...   \n",
       "6535               NaN  ChIJ_SiQHppZmVMRU1GZA0M1YhU  ...   \n",
       "6536               NaN  ChIJ_SiQHppZmVMRU1GZA0M1YhU  ...   \n",
       "6537               NaN  ChIJ_SiQHppZmVMRU1GZA0M1YhU  ...   \n",
       "6538               NaN  ChIJ_SiQHppZmVMRU1GZA0M1YhU  ...   \n",
       "\n",
       "     grocery_pharmacy_difference  parks_difference  transit_difference  \\\n",
       "0                            1.0              -6.0                 2.0   \n",
       "1                            0.0              -2.0                 0.0   \n",
       "2                            2.0               2.0                -1.0   \n",
       "3                            8.0              12.0                 1.0   \n",
       "4                           -2.0              -8.0                -1.0   \n",
       "...                          ...               ...                 ...   \n",
       "6534                         4.0              -2.0                 4.0   \n",
       "6535                        -6.0               8.0                 9.0   \n",
       "6536                        -4.0              26.0               -13.0   \n",
       "6537                         3.0              66.0               -11.0   \n",
       "6538                         0.0              20.0                12.0   \n",
       "\n",
       "      workplaces_difference  residential_difference  day_of_week  weekend  \\\n",
       "0                       2.0                    -1.0            2        0   \n",
       "1                       0.0                     0.0            3        0   \n",
       "2                       0.0                     0.0            5        1   \n",
       "3                       2.0                     1.0            6        1   \n",
       "4                      -1.0                     0.0            3        0   \n",
       "...                     ...                     ...          ...      ...   \n",
       "6534                    0.0                     2.0            4        0   \n",
       "6535                    1.0                    -3.0            1        0   \n",
       "6536                   -2.0                     0.0            2        0   \n",
       "6537                   -8.0                     1.0            4        0   \n",
       "6538                   -7.0                    -2.0            5        1   \n",
       "\n",
       "      holiday us_holiday_heat us_holiday  \n",
       "0           0               0          0  \n",
       "1           0               0          0  \n",
       "2           0               0          0  \n",
       "3           0               0          0  \n",
       "4           0               0          0  \n",
       "...       ...             ...        ...  \n",
       "6534        0               0          0  \n",
       "6535        0               0          0  \n",
       "6536        0               0          0  \n",
       "6537        0               0          0  \n",
       "6538        0               0          0  \n",
       "\n",
       "[6100 rows x 40 columns]"
      ]
     },
     "execution_count": 14,
     "metadata": {},
     "output_type": "execute_result"
    }
   ],
   "source": [
    "mobility_heat"
   ]
  },
  {
   "cell_type": "code",
   "execution_count": 15,
   "id": "b23d2939-008d-467d-8a01-41a3069a4c7e",
   "metadata": {},
   "outputs": [],
   "source": [
    "mobility_heat[['date_heat','control_day']] = mobility_heat[['date_heat','control_day']].apply(pd.to_datetime) #if conversion required\n",
    "\n",
    "mobility_heat['C'] = (mobility_heat['date_heat'] - mobility_heat['control_day']).dt.days"
   ]
  },
  {
   "cell_type": "code",
   "execution_count": 16,
   "id": "f97109c2-51fa-4e21-b812-b5754cc18e95",
   "metadata": {},
   "outputs": [],
   "source": [
    "# get control day temperature\n",
    "mobility_heat = mobility_heat.merge(nw_temps[['datetime', 'temperature_2m', 'location']], left_on=['location', 'control_day'], right_on=['location', 'datetime'], suffixes=('_heat', '_control'))"
   ]
  },
  {
   "cell_type": "code",
   "execution_count": 17,
   "id": "fb97b8d8-2847-4c81-b850-8522c73b0462",
   "metadata": {},
   "outputs": [],
   "source": [
    "mobility_heat['temp_diff'] = mobility_heat['temperature_2m_heat'] - mobility_heat['temperature_2m_control']"
   ]
  },
  {
   "cell_type": "code",
   "execution_count": 18,
   "id": "42d6fcfa-7267-47e5-8c96-e77b6364e6e1",
   "metadata": {},
   "outputs": [
    {
     "data": {
      "image/png": "[encoded data removed]",
      "text/plain": [
       "<Figure size 640x480 with 1 Axes>"
      ]
     },
     "metadata": {},
     "output_type": "display_data"
    }
   ],
   "source": [
    "sns.histplot(mobility_heat, x='temp_diff')\n",
    "plt.title(\"Temperature Difference (heat wave vs. control)\")\n",
    "plt.tight_layout()\n",
    "#plt.savefig(data_path + '/img/12_09_2023/temp_diff_dist.png')"
   ]
  },
  {
   "cell_type": "markdown",
   "id": "729d6502-f731-4119-9e4a-60ae93a67a33",
   "metadata": {
    "tags": []
   },
   "source": [
    "### Build Duration Variable\n",
    "* Duration of heat wave (in days)\n",
    "* Build stage variable showing how far a day is into a distinct heatwave"
   ]
  },
  {
   "cell_type": "code",
   "execution_count": 19,
   "id": "44200734-0ea0-42fc-ace0-9105c225937f",
   "metadata": {},
   "outputs": [],
   "source": [
    "# Formatting column names and merging dataframes"
   ]
  },
  {
   "cell_type": "code",
   "execution_count": 20,
   "id": "8ced7698-4cf5-4a22-891c-5cc1d9741760",
   "metadata": {
    "tags": []
   },
   "outputs": [],
   "source": [
    "heatwave_control.reset_index(inplace=True)"
   ]
  },
  {
   "cell_type": "code",
   "execution_count": 21,
   "id": "fabefd52-de9a-4700-881d-2f916f9c920a",
   "metadata": {},
   "outputs": [],
   "source": [
    "duration_IDs = heatwave_control.drop_duplicates('heat_ID')[['heat_ID', 'Heat Wave Duration']  ]             "
   ]
  },
  {
   "cell_type": "code",
   "execution_count": 22,
   "id": "c062b426-baf4-4373-a235-a7e03b1baa5d",
   "metadata": {},
   "outputs": [],
   "source": [
    "duration_IDs.columns = ['heat_ID', 'Heat Wave Duration']"
   ]
  },
  {
   "cell_type": "code",
   "execution_count": 23,
   "id": "41e85560-61c6-4661-84b7-46e6e3a4b757",
   "metadata": {},
   "outputs": [
    {
     "data": {
      "text/plain": [
       "count    2094.000000\n",
       "mean        3.563037\n",
       "std         1.929624\n",
       "min         2.000000\n",
       "25%         2.000000\n",
       "50%         3.000000\n",
       "75%         4.000000\n",
       "max        11.000000\n",
       "Name: Heat Wave Duration, dtype: float64"
      ]
     },
     "execution_count": 23,
     "metadata": {},
     "output_type": "execute_result"
    }
   ],
   "source": [
    "duration_IDs['Heat Wave Duration'].describe()"
   ]
  },
  {
   "cell_type": "code",
   "execution_count": 24,
   "id": "1100bcc3-4b57-4626-8e79-a386120dca56",
   "metadata": {
    "tags": []
   },
   "outputs": [],
   "source": [
    "heatwave_control.drop('Heat Wave Duration', axis=1, inplace=True)\n",
    "heatwave_control = heatwave_control.merge(duration_IDs, on='heat_ID', how='left')\n",
    "heatwave_control.drop_duplicates(['location', 'date'], inplace=True)\n",
    "\n",
    "heatwave_control['dur_ranking'] = heatwave_control['Heat Wave Duration'].rank(pct=True)"
   ]
  },
  {
   "cell_type": "code",
   "execution_count": 25,
   "id": "efb90934-1133-41cc-97db-03b09662ef34",
   "metadata": {},
   "outputs": [],
   "source": [
    "#create stage variable\n",
    "heat_stage = heatwave_control.groupby('heat_ID').apply(lambda x: x.date.sort_values().rank()).reset_index()"
   ]
  },
  {
   "cell_type": "code",
   "execution_count": 26,
   "id": "685804aa-6490-45e1-9943-d53f0b9b1cf1",
   "metadata": {},
   "outputs": [],
   "source": [
    "heat_stage.columns=['heat_ID', 'index', 'stage']"
   ]
  },
  {
   "cell_type": "code",
   "execution_count": 27,
   "id": "5f89797d-550a-4a6e-affe-22077b55e4e9",
   "metadata": {},
   "outputs": [
    {
     "data": {
      "text/html": [
       "<div>\n",
       "<style scoped>\n",
       "    .dataframe tbody tr th:only-of-type {\n",
       "        vertical-align: middle;\n",
       "    }\n",
       "\n",
       "    .dataframe tbody tr th {\n",
       "        vertical-align: top;\n",
       "    }\n",
       "\n",
       "    .dataframe thead th {\n",
       "        text-align: right;\n",
       "    }\n",
       "</style>\n",
       "<table border=\"1\" class=\"dataframe\">\n",
       "  <thead>\n",
       "    <tr style=\"text-align: right;\">\n",
       "      <th></th>\n",
       "      <th>heat_ID</th>\n",
       "      <th>index</th>\n",
       "      <th>stage</th>\n",
       "    </tr>\n",
       "  </thead>\n",
       "  <tbody>\n",
       "    <tr>\n",
       "      <th>0</th>\n",
       "      <td>0021b16e-5a43-45ab-bdd0-bd6db65a40d4</td>\n",
       "      <td>6868</td>\n",
       "      <td>1.0</td>\n",
       "    </tr>\n",
       "    <tr>\n",
       "      <th>1</th>\n",
       "      <td>0021b16e-5a43-45ab-bdd0-bd6db65a40d4</td>\n",
       "      <td>6968</td>\n",
       "      <td>2.0</td>\n",
       "    </tr>\n",
       "    <tr>\n",
       "      <th>2</th>\n",
       "      <td>0021b16e-5a43-45ab-bdd0-bd6db65a40d4</td>\n",
       "      <td>7025</td>\n",
       "      <td>3.0</td>\n",
       "    </tr>\n",
       "    <tr>\n",
       "      <th>3</th>\n",
       "      <td>0021b16e-5a43-45ab-bdd0-bd6db65a40d4</td>\n",
       "      <td>7073</td>\n",
       "      <td>4.0</td>\n",
       "    </tr>\n",
       "    <tr>\n",
       "      <th>4</th>\n",
       "      <td>0021b16e-5a43-45ab-bdd0-bd6db65a40d4</td>\n",
       "      <td>7146</td>\n",
       "      <td>5.0</td>\n",
       "    </tr>\n",
       "    <tr>\n",
       "      <th>...</th>\n",
       "      <td>...</td>\n",
       "      <td>...</td>\n",
       "      <td>...</td>\n",
       "    </tr>\n",
       "    <tr>\n",
       "      <th>7456</th>\n",
       "      <td>ffe3c7d5-1e3f-4326-803e-a7decb3c54e5</td>\n",
       "      <td>1334</td>\n",
       "      <td>1.0</td>\n",
       "    </tr>\n",
       "    <tr>\n",
       "      <th>7457</th>\n",
       "      <td>ffe3c7d5-1e3f-4326-803e-a7decb3c54e5</td>\n",
       "      <td>1393</td>\n",
       "      <td>2.0</td>\n",
       "    </tr>\n",
       "    <tr>\n",
       "      <th>7458</th>\n",
       "      <td>ffe3c7d5-1e3f-4326-803e-a7decb3c54e5</td>\n",
       "      <td>1456</td>\n",
       "      <td>3.0</td>\n",
       "    </tr>\n",
       "    <tr>\n",
       "      <th>7459</th>\n",
       "      <td>ffe3c7d5-1e3f-4326-803e-a7decb3c54e5</td>\n",
       "      <td>1513</td>\n",
       "      <td>4.0</td>\n",
       "    </tr>\n",
       "    <tr>\n",
       "      <th>7460</th>\n",
       "      <td>ffe3c7d5-1e3f-4326-803e-a7decb3c54e5</td>\n",
       "      <td>1538</td>\n",
       "      <td>5.0</td>\n",
       "    </tr>\n",
       "  </tbody>\n",
       "</table>\n",
       "<p>7461 rows × 3 columns</p>\n",
       "</div>"
      ],
      "text/plain": [
       "                                   heat_ID  index  stage\n",
       "0     0021b16e-5a43-45ab-bdd0-bd6db65a40d4   6868    1.0\n",
       "1     0021b16e-5a43-45ab-bdd0-bd6db65a40d4   6968    2.0\n",
       "2     0021b16e-5a43-45ab-bdd0-bd6db65a40d4   7025    3.0\n",
       "3     0021b16e-5a43-45ab-bdd0-bd6db65a40d4   7073    4.0\n",
       "4     0021b16e-5a43-45ab-bdd0-bd6db65a40d4   7146    5.0\n",
       "...                                    ...    ...    ...\n",
       "7456  ffe3c7d5-1e3f-4326-803e-a7decb3c54e5   1334    1.0\n",
       "7457  ffe3c7d5-1e3f-4326-803e-a7decb3c54e5   1393    2.0\n",
       "7458  ffe3c7d5-1e3f-4326-803e-a7decb3c54e5   1456    3.0\n",
       "7459  ffe3c7d5-1e3f-4326-803e-a7decb3c54e5   1513    4.0\n",
       "7460  ffe3c7d5-1e3f-4326-803e-a7decb3c54e5   1538    5.0\n",
       "\n",
       "[7461 rows x 3 columns]"
      ]
     },
     "execution_count": 27,
     "metadata": {},
     "output_type": "execute_result"
    }
   ],
   "source": [
    "heat_stage"
   ]
  },
  {
   "cell_type": "code",
   "execution_count": 28,
   "id": "557a5e6a-7913-414f-92f9-28e64936f2d2",
   "metadata": {},
   "outputs": [
    {
     "data": {
      "text/plain": [
       "11.0"
      ]
     },
     "execution_count": 28,
     "metadata": {},
     "output_type": "execute_result"
    }
   ],
   "source": [
    "heat_stage['stage'].max()"
   ]
  },
  {
   "cell_type": "code",
   "execution_count": 29,
   "id": "e5caaa3c-edbd-4fcc-bc0a-a88a05a1bde0",
   "metadata": {},
   "outputs": [],
   "source": [
    "x = heat_stage.merge(duration_IDs, on='heat_ID')"
   ]
  },
  {
   "cell_type": "code",
   "execution_count": 30,
   "id": "a3699e03-a3f8-4c1b-809c-54a00a18c7c4",
   "metadata": {},
   "outputs": [
    {
     "data": {
      "text/plain": [
       "1.0"
      ]
     },
     "execution_count": 30,
     "metadata": {},
     "output_type": "execute_result"
    }
   ],
   "source": [
    "#get stage variable as a fraction\n",
    "(x['stage'] / x['Heat Wave Duration']).max()"
   ]
  },
  {
   "cell_type": "markdown",
   "id": "45fa86a2-2f23-4631-8c79-bf928cb30278",
   "metadata": {},
   "source": [
    "# Merge Mobility data with temperature data"
   ]
  },
  {
   "cell_type": "code",
   "execution_count": 31,
   "id": "42a04372-a1a5-455b-8ced-2a3c095440c2",
   "metadata": {},
   "outputs": [],
   "source": [
    "heatwave_control = heatwave_control.merge(heat_stage, on=['index', 'heat_ID'])"
   ]
  },
  {
   "cell_type": "code",
   "execution_count": 32,
   "id": "1b204bf2-8be9-4baa-8591-93a1ffea728d",
   "metadata": {},
   "outputs": [],
   "source": [
    "heatwave_control['date'] = pd.to_datetime(heatwave_control['date'])"
   ]
  },
  {
   "cell_type": "code",
   "execution_count": 33,
   "id": "ee9ad4b6-8ef5-4da5-990d-8a12754af8d7",
   "metadata": {},
   "outputs": [
    {
     "name": "stderr",
     "output_type": "stream",
     "text": [
      "/var/folders/8g/qp1k_1g91m5f2m9pypxwxdhh0000gn/T/ipykernel_37599/714079828.py:2: SettingWithCopyWarning: \n",
      "A value is trying to be set on a copy of a slice from a DataFrame.\n",
      "Try using .loc[row_indexer,col_indexer] = value instead\n",
      "\n",
      "See the caveats in the documentation: https://pandas.pydata.org/pandas-docs/stable/user_guide/indexing.html#returning-a-view-versus-a-copy\n",
      "  heatwave_control_us['county'] = heatwave_control_us['county'] + ' County'\n",
      "/var/folders/8g/qp1k_1g91m5f2m9pypxwxdhh0000gn/T/ipykernel_37599/714079828.py:3: SettingWithCopyWarning: \n",
      "A value is trying to be set on a copy of a slice from a DataFrame.\n",
      "Try using .loc[row_indexer,col_indexer] = value instead\n",
      "\n",
      "See the caveats in the documentation: https://pandas.pydata.org/pandas-docs/stable/user_guide/indexing.html#returning-a-view-versus-a-copy\n",
      "  heatwave_control_us['location'] = heatwave_control_us['county'] + ', ' + heatwave_control_us['state']\n",
      "/var/folders/8g/qp1k_1g91m5f2m9pypxwxdhh0000gn/T/ipykernel_37599/714079828.py:6: SettingWithCopyWarning: \n",
      "A value is trying to be set on a copy of a slice from a DataFrame.\n",
      "Try using .loc[row_indexer,col_indexer] = value instead\n",
      "\n",
      "See the caveats in the documentation: https://pandas.pydata.org/pandas-docs/stable/user_guide/indexing.html#returning-a-view-versus-a-copy\n",
      "  heatwave_control_ca['location'] = heatwave_control_ca['county'] + ', ' + heatwave_control_ca['state']\n",
      "/var/folders/8g/qp1k_1g91m5f2m9pypxwxdhh0000gn/T/ipykernel_37599/714079828.py:8: FutureWarning: The frame.append method is deprecated and will be removed from pandas in a future version. Use pandas.concat instead.\n",
      "  heatwave_control = heatwave_control_us.append(heatwave_control_ca)\n"
     ]
    }
   ],
   "source": [
    "heatwave_control_us = heatwave_control[heatwave_control['state'].isin(['California', 'Oregon', 'Washington'])]\n",
    "heatwave_control_us['county'] = heatwave_control_us['county'] + ' County'\n",
    "heatwave_control_us['location'] = heatwave_control_us['county'] + ', ' + heatwave_control_us['state']\n",
    "\n",
    "heatwave_control_ca = heatwave_control[heatwave_control['state'] == 'British Columbia']\n",
    "heatwave_control_ca['location'] = heatwave_control_ca['county'] + ', ' + heatwave_control_ca['state']\n",
    "\n",
    "heatwave_control = heatwave_control_us.append(heatwave_control_ca)"
   ]
  },
  {
   "cell_type": "code",
   "execution_count": 34,
   "id": "f0c2eea8-f951-4a86-80fd-527a43483fc5",
   "metadata": {},
   "outputs": [],
   "source": [
    "mobility_heat = mobility_heat.merge(heatwave_control[['heat_ID', 'location', 'date', 'Heat Wave Duration', 'dur_ranking', 'stage']], left_on=['location', 'date_heat'], right_on=['location', 'date'])"
   ]
  },
  {
   "cell_type": "code",
   "execution_count": 35,
   "id": "d9784486-b97c-4dd7-8ee1-6319be44a890",
   "metadata": {},
   "outputs": [],
   "source": [
    "mobility_heat.reset_index(inplace=True)"
   ]
  },
  {
   "cell_type": "code",
   "execution_count": 36,
   "id": "983ee7ec-3681-4a88-b377-6b028e567edf",
   "metadata": {},
   "outputs": [],
   "source": [
    "mobility_heat[['date_heat','control_day']] = mobility_heat[['date_heat','control_day']].apply(pd.to_datetime) #if conversion required\n",
    "\n",
    "mobility_heat['C'] = (mobility_heat['date_heat'] - mobility_heat['control_day']).dt.days"
   ]
  },
  {
   "cell_type": "code",
   "execution_count": 37,
   "id": "170f871f-33ee-46e6-8cec-9c81b2b1b509",
   "metadata": {},
   "outputs": [],
   "source": [
    "x = mobility_heat.copy()\n",
    "x['stage_frac'] = (mobility_heat['stage'] / mobility_heat['Heat Wave Duration'] )"
   ]
  },
  {
   "cell_type": "code",
   "execution_count": 38,
   "id": "0e649f04-a1c8-466c-b11f-ffd1ce85f6d5",
   "metadata": {},
   "outputs": [],
   "source": [
    "x.to_csv(data_path + 'mobility_heat/mobility_heat_vars_clean_90_v1.csv')"
   ]
  },
  {
   "cell_type": "code",
   "execution_count": null,
   "id": "03359e39-55ca-4069-a290-0eff62019766",
   "metadata": {},
   "outputs": [],
   "source": []
  }
 ],
 "metadata": {
  "kernelspec": {
   "display_name": "Python 3 (ipykernel)",
   "language": "python",
   "name": "python3"
  },
  "language_info": {
   "codemirror_mode": {
    "name": "ipython",
    "version": 3
   },
   "file_extension": ".py",
   "mimetype": "text/x-python",
   "name": "python",
   "nbconvert_exporter": "python",
   "pygments_lexer": "ipython3",
   "version": "3.10.9"
  }
 },
 "nbformat": 4,
 "nbformat_minor": 5
}
