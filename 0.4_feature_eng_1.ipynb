{
 "cells": [
  {
   "cell_type": "code",
   "execution_count": 3,
   "id": "5b852271-c5a0-4e8f-8646-c388872c83b9",
   "metadata": {},
   "outputs": [
    {
     "name": "stderr",
     "output_type": "stream",
     "text": [
      "/var/folders/8g/qp1k_1g91m5f2m9pypxwxdhh0000gn/T/ipykernel_16865/1321555209.py:8: DeprecationWarning: Please use `pearsonr` from the `scipy.stats` namespace, the `scipy.stats.stats` namespace is deprecated.\n",
      "  from scipy.stats.stats import pearsonr\n"
     ]
    }
   ],
   "source": [
    "import pandas as pd\n",
    "import geopandas as gpd\n",
    "import matplotlib.pyplot as plt\n",
    "import seaborn as sns\n",
    "sns.set_style('darkgrid')\n",
    "from scipy.stats import ttest_ind\n",
    "import numpy as np\n",
    "from scipy.stats.stats import pearsonr\n",
    "from IPython.display import display, Markdown, Latex\n",
    "plt.style.use('ggplot')\n",
    "from datetime import date\n",
    "from statsmodels.stats.outliers_influence import variance_inflation_factor\n",
    "data_path = '/Users/shivyucel/Documents/projects/DPhil/Code_Data/data/'\n",
    "from seaborn_qqplot import pplot\n",
    "\n",
    "\n"
   ]
  },
  {
   "cell_type": "markdown",
   "id": "c5f363db-9349-4ef9-ac23-d3ee750d794c",
   "metadata": {},
   "source": [
    "### Load mobility-heat and heatwave-control day dataframes"
   ]
  },
  {
   "cell_type": "code",
   "execution_count": 4,
   "id": "b570e2d6-13d2-4644-ab17-30cd153c4369",
   "metadata": {},
   "outputs": [],
   "source": [
    "mobility_heat = pd.read_csv(data_path + 'mobility_heat/mobility_heat_clean_90.csv')"
   ]
  },
  {
   "cell_type": "code",
   "execution_count": 5,
   "id": "a1a180e7-bbb6-40f6-bc1a-b2f885897aa2",
   "metadata": {},
   "outputs": [],
   "source": [
    "heatwave_control = pd.read_csv('/Users/shivyucel/Documents/projects/DPhil/Code_Data/data/heatwave_control/heatwave_control_clean_90.csv')"
   ]
  },
  {
   "cell_type": "code",
   "execution_count": 7,
   "id": "1b8b8087-9fb0-4d50-ac7a-f2d567ac6c5e",
   "metadata": {},
   "outputs": [
    {
     "data": {
      "text/html": [
       "<div>\n",
       "<style scoped>\n",
       "    .dataframe tbody tr th:only-of-type {\n",
       "        vertical-align: middle;\n",
       "    }\n",
       "\n",
       "    .dataframe tbody tr th {\n",
       "        vertical-align: top;\n",
       "    }\n",
       "\n",
       "    .dataframe thead th {\n",
       "        text-align: right;\n",
       "    }\n",
       "</style>\n",
       "<table border=\"1\" class=\"dataframe\">\n",
       "  <thead>\n",
       "    <tr style=\"text-align: right;\">\n",
       "      <th></th>\n",
       "      <th>count</th>\n",
       "      <th>mean</th>\n",
       "      <th>std</th>\n",
       "      <th>min</th>\n",
       "      <th>25%</th>\n",
       "      <th>50%</th>\n",
       "      <th>75%</th>\n",
       "      <th>max</th>\n",
       "    </tr>\n",
       "    <tr>\n",
       "      <th>state</th>\n",
       "      <th></th>\n",
       "      <th></th>\n",
       "      <th></th>\n",
       "      <th></th>\n",
       "      <th></th>\n",
       "      <th></th>\n",
       "      <th></th>\n",
       "      <th></th>\n",
       "    </tr>\n",
       "  </thead>\n",
       "  <tbody>\n",
       "    <tr>\n",
       "      <th>British Columbia</th>\n",
       "      <td>357.0</td>\n",
       "      <td>4.212885</td>\n",
       "      <td>2.196665</td>\n",
       "      <td>2.0</td>\n",
       "      <td>2.0</td>\n",
       "      <td>3.0</td>\n",
       "      <td>6.0</td>\n",
       "      <td>11.0</td>\n",
       "    </tr>\n",
       "    <tr>\n",
       "      <th>California</th>\n",
       "      <td>765.0</td>\n",
       "      <td>3.819608</td>\n",
       "      <td>2.160178</td>\n",
       "      <td>2.0</td>\n",
       "      <td>2.0</td>\n",
       "      <td>3.0</td>\n",
       "      <td>5.0</td>\n",
       "      <td>11.0</td>\n",
       "    </tr>\n",
       "    <tr>\n",
       "      <th>Oregon</th>\n",
       "      <td>572.0</td>\n",
       "      <td>3.388112</td>\n",
       "      <td>1.821183</td>\n",
       "      <td>2.0</td>\n",
       "      <td>2.0</td>\n",
       "      <td>3.0</td>\n",
       "      <td>4.0</td>\n",
       "      <td>11.0</td>\n",
       "    </tr>\n",
       "    <tr>\n",
       "      <th>Washington</th>\n",
       "      <td>559.0</td>\n",
       "      <td>3.822898</td>\n",
       "      <td>1.936939</td>\n",
       "      <td>2.0</td>\n",
       "      <td>2.0</td>\n",
       "      <td>3.0</td>\n",
       "      <td>5.0</td>\n",
       "      <td>12.0</td>\n",
       "    </tr>\n",
       "  </tbody>\n",
       "</table>\n",
       "</div>"
      ],
      "text/plain": [
       "                  count      mean       std  min  25%  50%  75%   max\n",
       "state                                                                \n",
       "British Columbia  357.0  4.212885  2.196665  2.0  2.0  3.0  6.0  11.0\n",
       "California        765.0  3.819608  2.160178  2.0  2.0  3.0  5.0  11.0\n",
       "Oregon            572.0  3.388112  1.821183  2.0  2.0  3.0  4.0  11.0\n",
       "Washington        559.0  3.822898  1.936939  2.0  2.0  3.0  5.0  12.0"
      ]
     },
     "execution_count": 7,
     "metadata": {},
     "output_type": "execute_result"
    }
   ],
   "source": [
    "heatwave_control.groupby('state')['Heat Wave Duration_x'].describe()"
   ]
  },
  {
   "cell_type": "code",
   "execution_count": 9,
   "id": "84b31e8b-314b-443e-ba3f-f899ac812954",
   "metadata": {},
   "outputs": [],
   "source": [
    "heatwave_control.rename(columns={'datetime': 'date'}, inplace=True)\n",
    "heatwave_control.rename(columns={'Heat Wave Duration_x': 'Heat Wave Duration'}, inplace=True)\n",
    "\n",
    "\n",
    "mobility_heat.rename(columns={'datetime': 'date'}, inplace=True)\n",
    "heatwave_control.drop_duplicates(['location', 'date'], inplace=True)"
   ]
  },
  {
   "cell_type": "markdown",
   "id": "d6383384-1d4f-4263-be2a-131c912ea065",
   "metadata": {},
   "source": [
    "## Build Intensity Variable\n"
   ]
  },
  {
   "cell_type": "markdown",
   "id": "5e4ab756-0e6b-4f57-b284-154836b469dd",
   "metadata": {},
   "source": [
    "### Clean/Add control day temperature"
   ]
  },
  {
   "cell_type": "code",
   "execution_count": null,
   "id": "644b8382-82e3-4fcd-8caa-a3190d453c20",
   "metadata": {},
   "outputs": [],
   "source": [
    "#load and format full temperature dataset\n",
    "\n",
    "full_df = pd.read_csv('/Users/shivyucel/Documents/projects/DPhil/Code_Data/data/daily_max/max_temps/max_temps.csv')\n",
    "full_df['datetime'] = pd.to_datetime(full_df['datetime'])\n",
    "us_temps = full_df[full_df['state'].isin(['California', 'Oregon', 'Washington'])]\n",
    "us_temps['county'] = us_temps['county'] + ' County'\n",
    "us_temps['location'] = us_temps['county'] + ', ' + us_temps['state']\n",
    "\n",
    "ca_temps = full_df[full_df['state'] == 'British Columbia']\n",
    "ca_temps['location'] = ca_temps['county'] + ', ' + ca_temps['state']\n",
    "\n",
    "nw_temps = us_temps.append(ca_temps)"
   ]
  },
  {
   "cell_type": "code",
   "execution_count": null,
   "id": "314bcc4f-6fdd-444b-a5ea-1d6c989131a3",
   "metadata": {},
   "outputs": [],
   "source": [
    "#remove days on Canadian holidays\n",
    "holidays = pd.read_csv('/Users/shivyucel/Downloads/holidays.csv')\n",
    "holidays['date'] = pd.to_datetime(holidays['date'])\n",
    "mobility_heat['holiday'] = [1 if (x in holidays['date'].values) & (y=='British Columbia') else 0 for (x,y) in zip(mobility_heat['date_heat'], mobility_heat['state'])]\n",
    "mobility_heat = mobility_heat[mobility_heat['holiday'] != 1]"
   ]
  },
  {
   "cell_type": "code",
   "execution_count": null,
   "id": "85cfd160-6e52-4989-8756-02deaf1693ca",
   "metadata": {},
   "outputs": [],
   "source": [
    "#remove days on American holidays\n",
    "\n",
    "us_hols = pd.read_csv('/Users/shivyucel/Downloads/archive/400_Years_of_Generated_Dates_and_Holidays.csv')\n",
    "us_hols = us_hols[us_hols['IS_HOLIDAY'] == 1]\n",
    "us_hols['A_DATE'] = pd.to_datetime(us_hols['A_DATE'])\n",
    "mobility_heat['us_holiday_heat'] = [1 if (x in us_hols['A_DATE'].values) & (y != 'British Columbia') else 0 for (x,y) in zip(mobility_heat['date_heat'], mobility_heat['state'])]\n",
    "mobility_heat['us_holiday'] = [1 if (x in us_hols['A_DATE'].values) & (y != 'British Columbia') else 0 for (x,y) in zip(mobility_heat['date_control'], mobility_heat['state'])]\n",
    "mobility_heat = mobility_heat[mobility_heat['us_holiday'] == 0]"
   ]
  },
  {
   "cell_type": "code",
   "execution_count": 14,
   "id": "37953201-f433-4d7d-9a3c-009a7f46df78",
   "metadata": {},
   "outputs": [],
   "source": [
    "# get heatwave control day difference (days)"
   ]
  },
  {
   "cell_type": "code",
   "execution_count": 15,
   "id": "b23d2939-008d-467d-8a01-41a3069a4c7e",
   "metadata": {},
   "outputs": [],
   "source": [
    "mobility_heat[['date_heat','control_day']] = mobility_heat[['date_heat','control_day']].apply(pd.to_datetime) #if conversion required\n",
    "\n",
    "mobility_heat['C'] = (mobility_heat['date_heat'] - mobility_heat['control_day']).dt.days"
   ]
  },
  {
   "cell_type": "code",
   "execution_count": 16,
   "id": "f97109c2-51fa-4e21-b812-b5754cc18e95",
   "metadata": {},
   "outputs": [],
   "source": [
    "# get control day temperature\n",
    "mobility_heat = mobility_heat.merge(nw_temps[['datetime', 'temperature_2m', 'location']], left_on=['location', 'control_day'], right_on=['location', 'datetime'], suffixes=('_heat', '_control'))"
   ]
  },
  {
   "cell_type": "code",
   "execution_count": 20,
   "id": "fb97b8d8-2847-4c81-b850-8522c73b0462",
   "metadata": {},
   "outputs": [],
   "source": [
    "mobility_heat['temp_diff'] = mobility_heat['temperature_2m_heat'] - mobility_heat['temperature_2m_control']"
   ]
  },
  {
   "cell_type": "code",
   "execution_count": 22,
   "id": "42d6fcfa-7267-47e5-8c96-e77b6364e6e1",
   "metadata": {},
   "outputs": [
    {
     "data": {
      "image/png": "[encoded data removed]",
      "text/plain": [
       "<Figure size 640x480 with 1 Axes>"
      ]
     },
     "metadata": {},
     "output_type": "display_data"
    }
   ],
   "source": [
    "sns.histplot(mobility_heat, x='temp_diff')\n",
    "plt.title(\"Temperature Difference (heat wave vs. control)\")\n",
    "plt.tight_layout()\n",
    "#plt.savefig(data_path + '/img/12_09_2023/temp_diff_dist.png')"
   ]
  },
  {
   "cell_type": "markdown",
   "id": "729d6502-f731-4119-9e4a-60ae93a67a33",
   "metadata": {
    "tags": []
   },
   "source": [
    "### Build Duration Variable\n",
    "* Duration of heat wave (in days)\n",
    "* Build stage variable showing how far a day is into a distinct heatwave"
   ]
  },
  {
   "cell_type": "code",
   "execution_count": 23,
   "id": "44200734-0ea0-42fc-ace0-9105c225937f",
   "metadata": {},
   "outputs": [],
   "source": [
    "# Formatting column names and merging dataframes"
   ]
  },
  {
   "cell_type": "code",
   "execution_count": 24,
   "id": "8ced7698-4cf5-4a22-891c-5cc1d9741760",
   "metadata": {
    "tags": []
   },
   "outputs": [],
   "source": [
    "heatwave_control.reset_index(inplace=True)"
   ]
  },
  {
   "cell_type": "code",
   "execution_count": 25,
   "id": "fabefd52-de9a-4700-881d-2f916f9c920a",
   "metadata": {},
   "outputs": [],
   "source": [
    "duration_IDs = heatwave_control.drop_duplicates('heat_ID')[['heat_ID', 'Heat Wave Duration']  ]             "
   ]
  },
  {
   "cell_type": "code",
   "execution_count": 26,
   "id": "c062b426-baf4-4373-a235-a7e03b1baa5d",
   "metadata": {},
   "outputs": [],
   "source": [
    "duration_IDs.columns = ['heat_ID', 'Heat Wave Duration']"
   ]
  },
  {
   "cell_type": "code",
   "execution_count": 28,
   "id": "41e85560-61c6-4661-84b7-46e6e3a4b757",
   "metadata": {},
   "outputs": [
    {
     "data": {
      "text/html": [
       "<div>\n",
       "<style scoped>\n",
       "    .dataframe tbody tr th:only-of-type {\n",
       "        vertical-align: middle;\n",
       "    }\n",
       "\n",
       "    .dataframe tbody tr th {\n",
       "        vertical-align: top;\n",
       "    }\n",
       "\n",
       "    .dataframe thead th {\n",
       "        text-align: right;\n",
       "    }\n",
       "</style>\n",
       "<table border=\"1\" class=\"dataframe\">\n",
       "  <thead>\n",
       "    <tr style=\"text-align: right;\">\n",
       "      <th></th>\n",
       "      <th>heat_ID</th>\n",
       "      <th>Heat Wave Duration</th>\n",
       "    </tr>\n",
       "  </thead>\n",
       "  <tbody>\n",
       "    <tr>\n",
       "      <th>0</th>\n",
       "      <td>8ef32a02-7165-40e1-b559-635edbcd1cc4</td>\n",
       "      <td>3.0</td>\n",
       "    </tr>\n",
       "    <tr>\n",
       "      <th>1</th>\n",
       "      <td>dbfe460c-49c7-493a-bc88-c033e6920abd</td>\n",
       "      <td>2.0</td>\n",
       "    </tr>\n",
       "    <tr>\n",
       "      <th>2</th>\n",
       "      <td>e803b7b8-7ff3-42bd-9785-ef7956662df6</td>\n",
       "      <td>3.0</td>\n",
       "    </tr>\n",
       "    <tr>\n",
       "      <th>3</th>\n",
       "      <td>51149baa-07b2-4878-b339-d7a43d56cf35</td>\n",
       "      <td>2.0</td>\n",
       "    </tr>\n",
       "    <tr>\n",
       "      <th>4</th>\n",
       "      <td>f136d5c5-7c4b-486f-8697-ef0d292efbbd</td>\n",
       "      <td>2.0</td>\n",
       "    </tr>\n",
       "  </tbody>\n",
       "</table>\n",
       "</div>"
      ],
      "text/plain": [
       "                                heat_ID  Heat Wave Duration\n",
       "0  8ef32a02-7165-40e1-b559-635edbcd1cc4                 3.0\n",
       "1  dbfe460c-49c7-493a-bc88-c033e6920abd                 2.0\n",
       "2  e803b7b8-7ff3-42bd-9785-ef7956662df6                 3.0\n",
       "3  51149baa-07b2-4878-b339-d7a43d56cf35                 2.0\n",
       "4  f136d5c5-7c4b-486f-8697-ef0d292efbbd                 2.0"
      ]
     },
     "execution_count": 28,
     "metadata": {},
     "output_type": "execute_result"
    }
   ],
   "source": [
    "duration_IDs.head()"
   ]
  },
  {
   "cell_type": "code",
   "execution_count": 29,
   "id": "1100bcc3-4b57-4626-8e79-a386120dca56",
   "metadata": {
    "tags": []
   },
   "outputs": [],
   "source": [
    "heatwave_control.drop('Heat Wave Duration', axis=1, inplace=True)\n",
    "heatwave_control = heatwave_control.merge(duration_IDs, on='heat_ID', how='left')\n",
    "heatwave_control.drop_duplicates(['location', 'date'], inplace=True)\n",
    "\n",
    "heatwave_control['dur_ranking'] = heatwave_control['Heat Wave Duration'].rank(pct=True)"
   ]
  },
  {
   "cell_type": "code",
   "execution_count": 30,
   "id": "efb90934-1133-41cc-97db-03b09662ef34",
   "metadata": {},
   "outputs": [],
   "source": [
    "#create stage variable\n",
    "heat_stage = heatwave_control.groupby('heat_ID').apply(lambda x: x.date.sort_values().rank()).reset_index()"
   ]
  },
  {
   "cell_type": "code",
   "execution_count": 31,
   "id": "685804aa-6490-45e1-9943-d53f0b9b1cf1",
   "metadata": {},
   "outputs": [],
   "source": [
    "heat_stage.columns=['heat_ID', 'index', 'stage']"
   ]
  },
  {
   "cell_type": "code",
   "execution_count": 738,
   "id": "5f89797d-550a-4a6e-affe-22077b55e4e9",
   "metadata": {},
   "outputs": [
    {
     "data": {
      "text/html": [
       "<div>\n",
       "<style scoped>\n",
       "    .dataframe tbody tr th:only-of-type {\n",
       "        vertical-align: middle;\n",
       "    }\n",
       "\n",
       "    .dataframe tbody tr th {\n",
       "        vertical-align: top;\n",
       "    }\n",
       "\n",
       "    .dataframe thead th {\n",
       "        text-align: right;\n",
       "    }\n",
       "</style>\n",
       "<table border=\"1\" class=\"dataframe\">\n",
       "  <thead>\n",
       "    <tr style=\"text-align: right;\">\n",
       "      <th></th>\n",
       "      <th>heat_ID</th>\n",
       "      <th>index</th>\n",
       "      <th>stage</th>\n",
       "    </tr>\n",
       "  </thead>\n",
       "  <tbody>\n",
       "    <tr>\n",
       "      <th>0</th>\n",
       "      <td>00536be6-cad7-4a1b-97fa-1b763337df85</td>\n",
       "      <td>4201</td>\n",
       "      <td>1.0</td>\n",
       "    </tr>\n",
       "    <tr>\n",
       "      <th>1</th>\n",
       "      <td>00536be6-cad7-4a1b-97fa-1b763337df85</td>\n",
       "      <td>4299</td>\n",
       "      <td>2.0</td>\n",
       "    </tr>\n",
       "    <tr>\n",
       "      <th>2</th>\n",
       "      <td>00536be6-cad7-4a1b-97fa-1b763337df85</td>\n",
       "      <td>4398</td>\n",
       "      <td>3.0</td>\n",
       "    </tr>\n",
       "    <tr>\n",
       "      <th>3</th>\n",
       "      <td>00536be6-cad7-4a1b-97fa-1b763337df85</td>\n",
       "      <td>4464</td>\n",
       "      <td>4.0</td>\n",
       "    </tr>\n",
       "    <tr>\n",
       "      <th>4</th>\n",
       "      <td>0055a761-bfb7-4d65-84f7-1eb77e31e66f</td>\n",
       "      <td>976</td>\n",
       "      <td>1.0</td>\n",
       "    </tr>\n",
       "    <tr>\n",
       "      <th>...</th>\n",
       "      <td>...</td>\n",
       "      <td>...</td>\n",
       "      <td>...</td>\n",
       "    </tr>\n",
       "    <tr>\n",
       "      <th>8496</th>\n",
       "      <td>ffe375ec-afda-4d82-a5a2-57fdac046dc3</td>\n",
       "      <td>6978</td>\n",
       "      <td>3.0</td>\n",
       "    </tr>\n",
       "    <tr>\n",
       "      <th>8497</th>\n",
       "      <td>ffe375ec-afda-4d82-a5a2-57fdac046dc3</td>\n",
       "      <td>7003</td>\n",
       "      <td>4.0</td>\n",
       "    </tr>\n",
       "    <tr>\n",
       "      <th>8498</th>\n",
       "      <td>ffe6c341-1616-4128-8f73-eba5974d059d</td>\n",
       "      <td>2059</td>\n",
       "      <td>1.0</td>\n",
       "    </tr>\n",
       "    <tr>\n",
       "      <th>8499</th>\n",
       "      <td>ffe6c341-1616-4128-8f73-eba5974d059d</td>\n",
       "      <td>2061</td>\n",
       "      <td>2.0</td>\n",
       "    </tr>\n",
       "    <tr>\n",
       "      <th>8500</th>\n",
       "      <td>ffe6c341-1616-4128-8f73-eba5974d059d</td>\n",
       "      <td>2062</td>\n",
       "      <td>3.0</td>\n",
       "    </tr>\n",
       "  </tbody>\n",
       "</table>\n",
       "<p>8501 rows × 3 columns</p>\n",
       "</div>"
      ],
      "text/plain": [
       "                                   heat_ID  index  stage\n",
       "0     00536be6-cad7-4a1b-97fa-1b763337df85   4201    1.0\n",
       "1     00536be6-cad7-4a1b-97fa-1b763337df85   4299    2.0\n",
       "2     00536be6-cad7-4a1b-97fa-1b763337df85   4398    3.0\n",
       "3     00536be6-cad7-4a1b-97fa-1b763337df85   4464    4.0\n",
       "4     0055a761-bfb7-4d65-84f7-1eb77e31e66f    976    1.0\n",
       "...                                    ...    ...    ...\n",
       "8496  ffe375ec-afda-4d82-a5a2-57fdac046dc3   6978    3.0\n",
       "8497  ffe375ec-afda-4d82-a5a2-57fdac046dc3   7003    4.0\n",
       "8498  ffe6c341-1616-4128-8f73-eba5974d059d   2059    1.0\n",
       "8499  ffe6c341-1616-4128-8f73-eba5974d059d   2061    2.0\n",
       "8500  ffe6c341-1616-4128-8f73-eba5974d059d   2062    3.0\n",
       "\n",
       "[8501 rows x 3 columns]"
      ]
     },
     "execution_count": 738,
     "metadata": {},
     "output_type": "execute_result"
    }
   ],
   "source": [
    "heat_stage"
   ]
  },
  {
   "cell_type": "code",
   "execution_count": 32,
   "id": "557a5e6a-7913-414f-92f9-28e64936f2d2",
   "metadata": {},
   "outputs": [
    {
     "data": {
      "text/plain": [
       "12.0"
      ]
     },
     "execution_count": 32,
     "metadata": {},
     "output_type": "execute_result"
    }
   ],
   "source": [
    "heat_stage['stage'].max()"
   ]
  },
  {
   "cell_type": "code",
   "execution_count": 33,
   "id": "e5caaa3c-edbd-4fcc-bc0a-a88a05a1bde0",
   "metadata": {},
   "outputs": [],
   "source": [
    "x = heat_stage.merge(duration_IDs, on='heat_ID')"
   ]
  },
  {
   "cell_type": "code",
   "execution_count": 741,
   "id": "a3699e03-a3f8-4c1b-809c-54a00a18c7c4",
   "metadata": {},
   "outputs": [
    {
     "data": {
      "text/plain": [
       "1.0"
      ]
     },
     "execution_count": 741,
     "metadata": {},
     "output_type": "execute_result"
    }
   ],
   "source": [
    "#get stage variable as a fraction\n",
    "(x['stage'] / x['Heat Wave Duration']).max()"
   ]
  },
  {
   "cell_type": "markdown",
   "id": "45fa86a2-2f23-4631-8c79-bf928cb30278",
   "metadata": {},
   "source": [
    "# Merge Mobility data with temperature data"
   ]
  },
  {
   "cell_type": "code",
   "execution_count": 743,
   "id": "42a04372-a1a5-455b-8ced-2a3c095440c2",
   "metadata": {},
   "outputs": [],
   "source": [
    "heatwave_control = heatwave_control.merge(heat_stage, on=['index', 'heat_ID'])"
   ]
  },
  {
   "cell_type": "code",
   "execution_count": 746,
   "id": "1b204bf2-8be9-4baa-8591-93a1ffea728d",
   "metadata": {},
   "outputs": [],
   "source": [
    "heatwave_control['date'] = pd.to_datetime(heatwave_control['date'])"
   ]
  },
  {
   "cell_type": "code",
   "execution_count": null,
   "id": "ee9ad4b6-8ef5-4da5-990d-8a12754af8d7",
   "metadata": {},
   "outputs": [],
   "source": [
    "heatwave_control_us = heatwave_control[heatwave_control['state'].isin(['California', 'Oregon', 'Washington'])]\n",
    "heatwave_control_us['county'] = heatwave_control_us['county'] + ' County'\n",
    "heatwave_control_us['location'] = heatwave_control_us['county'] + ', ' + heatwave_control_us['state']\n",
    "\n",
    "heatwave_control_ca = heatwave_control[heatwave_control['state'] == 'British Columbia']\n",
    "heatwave_control_ca['location'] = heatwave_control_ca['county'] + ', ' + heatwave_control_ca['state']\n",
    "\n",
    "heatwave_control = heatwave_control_us.append(heatwave_control_ca)"
   ]
  },
  {
   "cell_type": "code",
   "execution_count": 751,
   "id": "f0c2eea8-f951-4a86-80fd-527a43483fc5",
   "metadata": {},
   "outputs": [],
   "source": [
    "mobility_heat = mobility_heat.merge(heatwave_control[['heat_ID', 'location', 'date', 'Heat Wave Duration', 'dur_ranking', 'stage']], left_on=['location', 'date_heat'], right_on=['location', 'date'])"
   ]
  },
  {
   "cell_type": "code",
   "execution_count": 752,
   "id": "d9784486-b97c-4dd7-8ee1-6319be44a890",
   "metadata": {},
   "outputs": [],
   "source": [
    "mobility_heat.reset_index(inplace=True)"
   ]
  },
  {
   "cell_type": "code",
   "execution_count": 753,
   "id": "983ee7ec-3681-4a88-b377-6b028e567edf",
   "metadata": {},
   "outputs": [],
   "source": [
    "mobility_heat[['date_heat','control_day']] = mobility_heat[['date_heat','control_day']].apply(pd.to_datetime) #if conversion required\n",
    "\n",
    "mobility_heat['C'] = (mobility_heat['date_heat'] - mobility_heat['control_day']).dt.days"
   ]
  },
  {
   "cell_type": "code",
   "execution_count": 757,
   "id": "170f871f-33ee-46e6-8cec-9c81b2b1b509",
   "metadata": {},
   "outputs": [],
   "source": [
    "x = mobility_heat.copy()\n",
    "x['stage_frac'] = (mobility_heat['stage'] / mobility_heat['Heat Wave Duration'] )"
   ]
  },
  {
   "cell_type": "code",
   "execution_count": 758,
   "id": "0e649f04-a1c8-466c-b11f-ffd1ce85f6d5",
   "metadata": {},
   "outputs": [],
   "source": [
    "mobility_heat.to_csv(data_path + 'mobility_heat/mobility_heat_vars_clean_90.csv')"
   ]
  }
 ],
 "metadata": {
  "kernelspec": {
   "display_name": "Python 3 (ipykernel)",
   "language": "python",
   "name": "python3"
  },
  "language_info": {
   "codemirror_mode": {
    "name": "ipython",
    "version": 3
   },
   "file_extension": ".py",
   "mimetype": "text/x-python",
   "name": "python",
   "nbconvert_exporter": "python",
   "pygments_lexer": "ipython3",
   "version": "3.10.9"
  }
 },
 "nbformat": 4,
 "nbformat_minor": 5
}
