{
 "cells": [
  {
   "cell_type": "code",
   "execution_count": 1,
   "id": "dac26cce-e6c4-4072-b038-a2b04679e46e",
   "metadata": {},
   "outputs": [],
   "source": [
    "import ee\n",
    "from datetime import datetime, timedelta\n",
    "import pandas as pd\n",
    "from shapely.geometry import Point\n",
    "import geopandas as gpd\n",
    "import matplotlib.pyplot as plt\n",
    "datelist = pd.date_range(datetime.today(), periods=100).tolist()\n",
    "from time import sleep\n",
    "import dask.dataframe as dd\n",
    "from dateutil.parser import parse\n",
    "from dateutil.relativedelta import relativedelta\n",
    "import os\n",
    "import glob\n",
    "from datetime import date\n",
    "\n",
    "from uuid import uuid4\n",
    "\n",
    "\n",
    "from shapely.geometry import Polygon, MultiPolygon, LineString, GeometryCollection\n",
    "import plotly\n",
    "import plotly.express as px\n",
    "import numpy as np\n",
    "import pandas as pd\n",
    "from datetime import datetime, timedelta\n",
    "import geopandas as gpd\n",
    "import seaborn as sns\n",
    "\n",
    "import dask.dataframe as dd\n",
    "import geopandas as gpd\n",
    "from heatwave_1 import detect\n",
    "from datetime import timedelta\n",
    "import seaborn as sns\n",
    "from datetime import date\n",
    "import matplotlib.pyplot as plt\n",
    "\n",
    "sns.set_style('darkgrid')"
   ]
  },
  {
   "cell_type": "code",
   "execution_count": 2,
   "id": "cbdbff1e-6970-49a1-b0a1-a71fb09ace6b",
   "metadata": {},
   "outputs": [],
   "source": [
    "daily_max_dic = {}\n",
    "\n",
    "for state in ['California', 'Oregon', 'Washington', 'British Columbia']:\n",
    "            \n",
    "    daily_max_files = glob.glob(f'/Users/shivyucel/Documents/projects/DPhil/Code_Data/data/daily_max/{state}/max*')\n",
    "    \n",
    "    temp = dd.read_csv(daily_max_files)\n",
    "    temp = temp.compute()\n",
    "    daily_max_dic[state] = temp\n",
    "    \n",
    "\n",
    "full_df = pd.concat(daily_max_dic.values())\n",
    "\n",
    "full_df['datetime'] = pd.to_datetime(full_df[['day', 'month', 'year']])\n",
    "full_df['datetime_ord'] = [date(x,y,z).toordinal() for x,y,z in zip(full_df['year'], full_df['month'], full_df['day'])]\n",
    "\n",
    "full_df['location'] = full_df['county'] + ', ' + full_df['state']\n",
    "full_df.drop_duplicates(['location', 'datetime'], inplace=True)\n",
    "\n",
    "full_df = full_df[(full_df['month'] != 10)]\n",
    "full_df = full_df[(full_df['month'] != 4)]\n",
    "\n",
    "full_df['pct'] = full_df.groupby('location')['temperature_2m'].transform(lambda x: x.rank(pct=True))"
   ]
  },
  {
   "cell_type": "markdown",
   "id": "f4fe9f14-7102-47b5-b884-3818a6f6c35b",
   "metadata": {},
   "source": [
    "# Identify heatwaves"
   ]
  },
  {
   "cell_type": "code",
   "execution_count": null,
   "id": "9ecb0aab-c267-4846-9128-0aa94cea2968",
   "metadata": {
    "tags": []
   },
   "outputs": [],
   "source": [
    "#create dictionary containing each county's heatwave periods\n",
    "heatwave_dic = {}\n",
    "for county in full_df['location'].unique():\n",
    "    county_df = full_df[(full_df['location'] == county)]\n",
    "    county_df.reset_index(inplace=True)\n",
    "    county_df.sort_values(by='datetime', inplace=True)\n",
    "    county_df.drop_duplicates(['county', 'datetime'], inplace=True)\n",
    "    \n",
    "    #call 'detect' function from heatwave_1.py\n",
    "    heatwave_dic[county] = detect(county_df['datetime_ord'].values, county_df['temperature_2m'].values, pctile=90, climatologyPeriod = [None, None], minDuration=2)\n",
    "\n",
    "\n",
    "#create dictionary of dates for each heatwave\n",
    "heatwave_dates = {}\n",
    "\n",
    "#create dictionary of heatwave start day and lengths\n",
    "consec_dates = {}\n",
    "\n",
    "#generate unique ID code for each heatwave\n",
    "\n",
    "heatwave_IDs = {}\n",
    "for county in heatwave_dic.keys(): \n",
    "    consec_dates[county] = {}\n",
    "    heatwave_dates[county] = []\n",
    "    heatwave_IDs[county] = {}\n",
    "\n",
    "\n",
    "    heatwave_starts = heatwave_dic[county][0]['date_start']\n",
    "    heatwave_ends = heatwave_dic[county][0]['date_end']\n",
    "    for i in range(len(heatwave_starts)):\n",
    "        heatwave_code = str(uuid4())\n",
    "        heatwave_days = pd.date_range(heatwave_starts[i],heatwave_ends[i],freq='d')\n",
    "        length_heatwaves = len(heatwave_days)\n",
    "        consec_dates[county][heatwave_days[0]] = length_heatwaves\n",
    "        for item in heatwave_days:\n",
    "            heatwave_dates[county].append(item)\n",
    "            heatwave_IDs[county][item] = heatwave_code\n",
    "            \n",
    "            \n",
    "heat_df = pd.DataFrame.from_dict(heatwave_dates, orient='index').unstack().reset_index()\n",
    "heat_df.rename(columns={'level_1':'location', 0:'datetime'}, inplace=True)\n",
    "\n",
    "\n",
    "heat_df.dropna(inplace=True)\n",
    "heat_df['heatwave']=1"
   ]
  },
  {
   "cell_type": "code",
   "execution_count": 9,
   "id": "e1f089ad-9af7-4ad2-a70c-23f153adcc7c",
   "metadata": {
    "tags": []
   },
   "outputs": [],
   "source": [
    "#merge full temperature dataset with identified \n",
    "full_df = full_df.merge(heat_df, on=['location', 'datetime'], how='left')\n",
    "\n",
    "full_df['heatwave'] = full_df['heatwave'].replace(np.nan, 0)"
   ]
  },
  {
   "cell_type": "code",
   "execution_count": 10,
   "id": "dd1ec2e7-1a92-4c5d-bc08-d82513f303af",
   "metadata": {},
   "outputs": [],
   "source": [
    "full_df['pct'] = full_df.groupby('location')['temperature_2m'].transform(lambda x: x.rank(pct=True))"
   ]
  },
  {
   "cell_type": "code",
   "execution_count": 11,
   "id": "240d479c-500f-4dfb-921c-9909d23d0f57",
   "metadata": {},
   "outputs": [
    {
     "data": {
      "text/html": [
       "<div>\n",
       "<style scoped>\n",
       "    .dataframe tbody tr th:only-of-type {\n",
       "        vertical-align: middle;\n",
       "    }\n",
       "\n",
       "    .dataframe tbody tr th {\n",
       "        vertical-align: top;\n",
       "    }\n",
       "\n",
       "    .dataframe thead th {\n",
       "        text-align: right;\n",
       "    }\n",
       "</style>\n",
       "<table border=\"1\" class=\"dataframe\">\n",
       "  <thead>\n",
       "    <tr style=\"text-align: right;\">\n",
       "      <th></th>\n",
       "      <th>count</th>\n",
       "      <th>mean</th>\n",
       "      <th>std</th>\n",
       "      <th>min</th>\n",
       "      <th>25%</th>\n",
       "      <th>50%</th>\n",
       "      <th>75%</th>\n",
       "      <th>max</th>\n",
       "    </tr>\n",
       "    <tr>\n",
       "      <th>state</th>\n",
       "      <th></th>\n",
       "      <th></th>\n",
       "      <th></th>\n",
       "      <th></th>\n",
       "      <th></th>\n",
       "      <th></th>\n",
       "      <th></th>\n",
       "      <th></th>\n",
       "    </tr>\n",
       "  </thead>\n",
       "  <tbody>\n",
       "    <tr>\n",
       "      <th>British Columbia</th>\n",
       "      <td>2787.0</td>\n",
       "      <td>26.377772</td>\n",
       "      <td>3.446535</td>\n",
       "      <td>17.107688</td>\n",
       "      <td>24.266970</td>\n",
       "      <td>26.536002</td>\n",
       "      <td>28.533001</td>\n",
       "      <td>40.565983</td>\n",
       "    </tr>\n",
       "    <tr>\n",
       "      <th>California</th>\n",
       "      <td>5325.0</td>\n",
       "      <td>35.858835</td>\n",
       "      <td>4.197082</td>\n",
       "      <td>24.487600</td>\n",
       "      <td>33.254892</td>\n",
       "      <td>35.651928</td>\n",
       "      <td>38.916122</td>\n",
       "      <td>48.243633</td>\n",
       "    </tr>\n",
       "    <tr>\n",
       "      <th>Oregon</th>\n",
       "      <td>3154.0</td>\n",
       "      <td>33.245785</td>\n",
       "      <td>2.930243</td>\n",
       "      <td>23.204296</td>\n",
       "      <td>31.778013</td>\n",
       "      <td>33.445842</td>\n",
       "      <td>35.045235</td>\n",
       "      <td>44.444990</td>\n",
       "    </tr>\n",
       "    <tr>\n",
       "      <th>Washington</th>\n",
       "      <td>3631.0</td>\n",
       "      <td>32.303933</td>\n",
       "      <td>4.454247</td>\n",
       "      <td>19.978627</td>\n",
       "      <td>29.185256</td>\n",
       "      <td>32.518465</td>\n",
       "      <td>35.240538</td>\n",
       "      <td>46.929940</td>\n",
       "    </tr>\n",
       "  </tbody>\n",
       "</table>\n",
       "</div>"
      ],
      "text/plain": [
       "                   count       mean       std        min        25%  \\\n",
       "state                                                                 \n",
       "British Columbia  2787.0  26.377772  3.446535  17.107688  24.266970   \n",
       "California        5325.0  35.858835  4.197082  24.487600  33.254892   \n",
       "Oregon            3154.0  33.245785  2.930243  23.204296  31.778013   \n",
       "Washington        3631.0  32.303933  4.454247  19.978627  29.185256   \n",
       "\n",
       "                        50%        75%        max  \n",
       "state                                              \n",
       "British Columbia  26.536002  28.533001  40.565983  \n",
       "California        35.651928  38.916122  48.243633  \n",
       "Oregon            33.445842  35.045235  44.444990  \n",
       "Washington        32.518465  35.240538  46.929940  "
      ]
     },
     "execution_count": 11,
     "metadata": {},
     "output_type": "execute_result"
    }
   ],
   "source": [
    "full_df[full_df['heatwave'] == 1].groupby('state')['temperature_2m'].describe()"
   ]
  },
  {
   "cell_type": "code",
   "execution_count": 12,
   "id": "bf2387f1-782e-464c-ad07-75357f6f1514",
   "metadata": {},
   "outputs": [],
   "source": [
    "#create dictionary of unique heatwave ID codes\n",
    "codes = pd.DataFrame.from_dict(heatwave_IDs, orient='index').unstack().reset_index()"
   ]
  },
  {
   "cell_type": "code",
   "execution_count": 13,
   "id": "76b3e78e-191b-44b1-8d6c-ca97760e1b60",
   "metadata": {},
   "outputs": [],
   "source": [
    "codes.columns=['datetime', 'location', 'heat_ID']"
   ]
  },
  {
   "cell_type": "code",
   "execution_count": 14,
   "id": "4af2990c-0de2-429b-b89c-935badedaf10",
   "metadata": {},
   "outputs": [],
   "source": [
    "codes.dropna(inplace=True)"
   ]
  },
  {
   "cell_type": "code",
   "execution_count": 15,
   "id": "e2b486a4-16fa-4dfc-9f0a-a98bd181e254",
   "metadata": {},
   "outputs": [
    {
     "data": {
      "text/html": [
       "<div>\n",
       "<style scoped>\n",
       "    .dataframe tbody tr th:only-of-type {\n",
       "        vertical-align: middle;\n",
       "    }\n",
       "\n",
       "    .dataframe tbody tr th {\n",
       "        vertical-align: top;\n",
       "    }\n",
       "\n",
       "    .dataframe thead th {\n",
       "        text-align: right;\n",
       "    }\n",
       "</style>\n",
       "<table border=\"1\" class=\"dataframe\">\n",
       "  <thead>\n",
       "    <tr style=\"text-align: right;\">\n",
       "      <th></th>\n",
       "      <th>datetime</th>\n",
       "      <th>location</th>\n",
       "      <th>heat_ID</th>\n",
       "    </tr>\n",
       "  </thead>\n",
       "  <tbody>\n",
       "    <tr>\n",
       "      <th>0</th>\n",
       "      <td>2016-06-19</td>\n",
       "      <td>San Bernardino, California</td>\n",
       "      <td>6cfb3653-2366-4594-9e24-805dddcc888e</td>\n",
       "    </tr>\n",
       "    <tr>\n",
       "      <th>1</th>\n",
       "      <td>2016-06-19</td>\n",
       "      <td>Imperial, California</td>\n",
       "      <td>20571f04-bbb0-4000-aabf-709d84ae10dd</td>\n",
       "    </tr>\n",
       "    <tr>\n",
       "      <th>2</th>\n",
       "      <td>2016-06-19</td>\n",
       "      <td>Los Angeles, California</td>\n",
       "      <td>646fe7cf-e15d-4d5e-a3a1-079d6df2409e</td>\n",
       "    </tr>\n",
       "    <tr>\n",
       "      <th>3</th>\n",
       "      <td>2016-06-19</td>\n",
       "      <td>Orange, California</td>\n",
       "      <td>f82f809c-c265-4885-95d6-f31068e8d821</td>\n",
       "    </tr>\n",
       "    <tr>\n",
       "      <th>4</th>\n",
       "      <td>2016-06-19</td>\n",
       "      <td>Riverside, California</td>\n",
       "      <td>8e22296c-8e3b-4a5c-a320-d6e58831660e</td>\n",
       "    </tr>\n",
       "  </tbody>\n",
       "</table>\n",
       "</div>"
      ],
      "text/plain": [
       "    datetime                    location                               heat_ID\n",
       "0 2016-06-19  San Bernardino, California  6cfb3653-2366-4594-9e24-805dddcc888e\n",
       "1 2016-06-19        Imperial, California  20571f04-bbb0-4000-aabf-709d84ae10dd\n",
       "2 2016-06-19     Los Angeles, California  646fe7cf-e15d-4d5e-a3a1-079d6df2409e\n",
       "3 2016-06-19          Orange, California  f82f809c-c265-4885-95d6-f31068e8d821\n",
       "4 2016-06-19       Riverside, California  8e22296c-8e3b-4a5c-a320-d6e58831660e"
      ]
     },
     "execution_count": 15,
     "metadata": {},
     "output_type": "execute_result"
    }
   ],
   "source": [
    "codes.head()"
   ]
  },
  {
   "cell_type": "code",
   "execution_count": 16,
   "id": "4043c97d-9b58-4268-9d00-321d038a417c",
   "metadata": {},
   "outputs": [],
   "source": [
    "#get dataframe of heatwave durations\n",
    "consec = pd.DataFrame.from_dict(consec_dates, orient='index').unstack().reset_index()"
   ]
  },
  {
   "cell_type": "code",
   "execution_count": 17,
   "id": "c9bba8eb-e6cc-4f29-bea2-1ac61f366fc4",
   "metadata": {},
   "outputs": [],
   "source": [
    "consec.columns= ['datetime', 'location', 'Heat Wave Duration']"
   ]
  },
  {
   "cell_type": "code",
   "execution_count": 18,
   "id": "72d59e83-8f86-47e4-b5d6-7367ea2bce5c",
   "metadata": {},
   "outputs": [
    {
     "data": {
      "text/plain": [
       "12.0"
      ]
     },
     "execution_count": 18,
     "metadata": {},
     "output_type": "execute_result"
    }
   ],
   "source": [
    "consec['Heat Wave Duration'].max()"
   ]
  },
  {
   "cell_type": "code",
   "execution_count": 19,
   "id": "8a4dddb0-3c78-4a8b-a284-d7f01e5ada77",
   "metadata": {},
   "outputs": [
    {
     "data": {
      "text/html": [
       "<div>\n",
       "<style scoped>\n",
       "    .dataframe tbody tr th:only-of-type {\n",
       "        vertical-align: middle;\n",
       "    }\n",
       "\n",
       "    .dataframe tbody tr th {\n",
       "        vertical-align: top;\n",
       "    }\n",
       "\n",
       "    .dataframe thead th {\n",
       "        text-align: right;\n",
       "    }\n",
       "</style>\n",
       "<table border=\"1\" class=\"dataframe\">\n",
       "  <thead>\n",
       "    <tr style=\"text-align: right;\">\n",
       "      <th></th>\n",
       "      <th>datetime</th>\n",
       "      <th>location</th>\n",
       "      <th>Heat Wave Duration</th>\n",
       "    </tr>\n",
       "  </thead>\n",
       "  <tbody>\n",
       "    <tr>\n",
       "      <th>0</th>\n",
       "      <td>2016-06-19</td>\n",
       "      <td>San Bernardino, California</td>\n",
       "      <td>3.0</td>\n",
       "    </tr>\n",
       "    <tr>\n",
       "      <th>1</th>\n",
       "      <td>2016-06-19</td>\n",
       "      <td>Imperial, California</td>\n",
       "      <td>2.0</td>\n",
       "    </tr>\n",
       "    <tr>\n",
       "      <th>2</th>\n",
       "      <td>2016-06-19</td>\n",
       "      <td>Los Angeles, California</td>\n",
       "      <td>3.0</td>\n",
       "    </tr>\n",
       "    <tr>\n",
       "      <th>3</th>\n",
       "      <td>2016-06-19</td>\n",
       "      <td>Orange, California</td>\n",
       "      <td>2.0</td>\n",
       "    </tr>\n",
       "    <tr>\n",
       "      <th>4</th>\n",
       "      <td>2016-06-19</td>\n",
       "      <td>Riverside, California</td>\n",
       "      <td>2.0</td>\n",
       "    </tr>\n",
       "  </tbody>\n",
       "</table>\n",
       "</div>"
      ],
      "text/plain": [
       "    datetime                    location  Heat Wave Duration\n",
       "0 2016-06-19  San Bernardino, California                 3.0\n",
       "1 2016-06-19        Imperial, California                 2.0\n",
       "2 2016-06-19     Los Angeles, California                 3.0\n",
       "3 2016-06-19          Orange, California                 2.0\n",
       "4 2016-06-19       Riverside, California                 2.0"
      ]
     },
     "execution_count": 19,
     "metadata": {},
     "output_type": "execute_result"
    }
   ],
   "source": [
    "consec.head()"
   ]
  },
  {
   "cell_type": "code",
   "execution_count": 20,
   "id": "db2fe7e3-13a0-49ab-8292-17263a0b9761",
   "metadata": {},
   "outputs": [],
   "source": [
    "consec.dropna(inplace=True)"
   ]
  },
  {
   "cell_type": "code",
   "execution_count": 21,
   "id": "867c2be5-b962-49be-ab2f-76797fb4b421",
   "metadata": {},
   "outputs": [],
   "source": [
    "full_df = full_df.merge(codes, on=['datetime', 'location'])"
   ]
  },
  {
   "cell_type": "code",
   "execution_count": 22,
   "id": "2ed7a763-5108-4420-88ad-572798ea0876",
   "metadata": {},
   "outputs": [],
   "source": [
    "full_df = full_df[full_df['year'] >= 2020]\n",
    "\n"
   ]
  },
  {
   "cell_type": "code",
   "execution_count": 23,
   "id": "73027c39-17aa-45a7-900b-6823f9d413be",
   "metadata": {},
   "outputs": [],
   "source": [
    "full_df = full_df.merge(consec, on=['datetime', 'location'], how='left')"
   ]
  },
  {
   "cell_type": "code",
   "execution_count": 24,
   "id": "66f7f190-edce-4db6-a8bd-18f1a2da11c4",
   "metadata": {},
   "outputs": [],
   "source": [
    "heatwaves = full_df.copy()"
   ]
  },
  {
   "cell_type": "code",
   "execution_count": 25,
   "id": "cc8c177a-2bc6-46a5-97a0-171efe57d9ec",
   "metadata": {},
   "outputs": [],
   "source": [
    "heatwaves['location'] = heatwaves['county'] + ', ' + heatwaves['state']"
   ]
  },
  {
   "cell_type": "code",
   "execution_count": 26,
   "id": "79e80bcb-7061-4c35-b6a9-35c5ca98b5eb",
   "metadata": {},
   "outputs": [],
   "source": [
    "heatwaves['datetime'] = pd.to_datetime(heatwaves['datetime'])"
   ]
  },
  {
   "cell_type": "code",
   "execution_count": 27,
   "id": "c3ea0f98-a164-453f-bf49-6b461c121957",
   "metadata": {
    "tags": []
   },
   "outputs": [],
   "source": [
    "heatwaves = heatwaves.merge(consec, on=['datetime', 'location'], how='left')"
   ]
  },
  {
   "cell_type": "code",
   "execution_count": 28,
   "id": "d4d59803-ffa1-45a2-a127-1b37a6df6f01",
   "metadata": {},
   "outputs": [],
   "source": [
    "heatwaves = heatwaves[heatwaves['month'] != 10]"
   ]
  },
  {
   "cell_type": "code",
   "execution_count": 29,
   "id": "4fa261ba-e6ba-4a18-939b-b7c2cf14c034",
   "metadata": {},
   "outputs": [],
   "source": [
    "heatwaves.sort_values(by='datetime', inplace=True)"
   ]
  },
  {
   "cell_type": "code",
   "execution_count": 30,
   "id": "c60c8b57-c086-4c5e-8d7e-88e63393d96e",
   "metadata": {},
   "outputs": [
    {
     "data": {
      "text/html": [
       "<div>\n",
       "<style scoped>\n",
       "    .dataframe tbody tr th:only-of-type {\n",
       "        vertical-align: middle;\n",
       "    }\n",
       "\n",
       "    .dataframe tbody tr th {\n",
       "        vertical-align: top;\n",
       "    }\n",
       "\n",
       "    .dataframe thead th {\n",
       "        text-align: right;\n",
       "    }\n",
       "</style>\n",
       "<table border=\"1\" class=\"dataframe\">\n",
       "  <thead>\n",
       "    <tr style=\"text-align: right;\">\n",
       "      <th></th>\n",
       "      <th>count</th>\n",
       "      <th>mean</th>\n",
       "      <th>std</th>\n",
       "      <th>min</th>\n",
       "      <th>25%</th>\n",
       "      <th>50%</th>\n",
       "      <th>75%</th>\n",
       "      <th>max</th>\n",
       "    </tr>\n",
       "    <tr>\n",
       "      <th>state</th>\n",
       "      <th></th>\n",
       "      <th></th>\n",
       "      <th></th>\n",
       "      <th></th>\n",
       "      <th></th>\n",
       "      <th></th>\n",
       "      <th></th>\n",
       "      <th></th>\n",
       "    </tr>\n",
       "  </thead>\n",
       "  <tbody>\n",
       "    <tr>\n",
       "      <th>British Columbia</th>\n",
       "      <td>1336.0</td>\n",
       "      <td>27.005151</td>\n",
       "      <td>3.625918</td>\n",
       "      <td>17.107688</td>\n",
       "      <td>24.712823</td>\n",
       "      <td>26.909636</td>\n",
       "      <td>29.143250</td>\n",
       "      <td>40.565983</td>\n",
       "    </tr>\n",
       "    <tr>\n",
       "      <th>California</th>\n",
       "      <td>2762.0</td>\n",
       "      <td>36.237737</td>\n",
       "      <td>4.209442</td>\n",
       "      <td>24.487600</td>\n",
       "      <td>33.552885</td>\n",
       "      <td>36.214873</td>\n",
       "      <td>39.277454</td>\n",
       "      <td>47.254585</td>\n",
       "    </tr>\n",
       "    <tr>\n",
       "      <th>Oregon</th>\n",
       "      <td>1644.0</td>\n",
       "      <td>33.544126</td>\n",
       "      <td>3.093504</td>\n",
       "      <td>23.544898</td>\n",
       "      <td>32.059122</td>\n",
       "      <td>33.624946</td>\n",
       "      <td>35.326932</td>\n",
       "      <td>44.444990</td>\n",
       "    </tr>\n",
       "    <tr>\n",
       "      <th>Washington</th>\n",
       "      <td>1782.0</td>\n",
       "      <td>33.006739</td>\n",
       "      <td>4.727335</td>\n",
       "      <td>19.978627</td>\n",
       "      <td>29.656325</td>\n",
       "      <td>33.284610</td>\n",
       "      <td>36.300178</td>\n",
       "      <td>46.929940</td>\n",
       "    </tr>\n",
       "  </tbody>\n",
       "</table>\n",
       "</div>"
      ],
      "text/plain": [
       "                   count       mean       std        min        25%  \\\n",
       "state                                                                 \n",
       "British Columbia  1336.0  27.005151  3.625918  17.107688  24.712823   \n",
       "California        2762.0  36.237737  4.209442  24.487600  33.552885   \n",
       "Oregon            1644.0  33.544126  3.093504  23.544898  32.059122   \n",
       "Washington        1782.0  33.006739  4.727335  19.978627  29.656325   \n",
       "\n",
       "                        50%        75%        max  \n",
       "state                                              \n",
       "British Columbia  26.909636  29.143250  40.565983  \n",
       "California        36.214873  39.277454  47.254585  \n",
       "Oregon            33.624946  35.326932  44.444990  \n",
       "Washington        33.284610  36.300178  46.929940  "
      ]
     },
     "execution_count": 30,
     "metadata": {},
     "output_type": "execute_result"
    }
   ],
   "source": [
    "heatwaves.groupby('state')['temperature_2m'].describe()"
   ]
  },
  {
   "cell_type": "code",
   "execution_count": 31,
   "id": "e26603ef-19e9-4985-a667-9a742e3a737e",
   "metadata": {
    "tags": []
   },
   "outputs": [],
   "source": [
    "#save file\n",
    "heatwaves.to_csv(f'/Users/shivyucel/Documents/projects/DPhil/Code_Data/data/heatwave/heatwave_clean_90_v1.csv')"
   ]
  },
  {
   "cell_type": "code",
   "execution_count": null,
   "id": "e2b675c2-ea32-47bf-a5c8-728af053ad74",
   "metadata": {},
   "outputs": [],
   "source": []
  }
 ],
 "metadata": {
  "kernelspec": {
   "display_name": "Python 3 (ipykernel)",
   "language": "python",
   "name": "python3"
  },
  "language_info": {
   "codemirror_mode": {
    "name": "ipython",
    "version": 3
   },
   "file_extension": ".py",
   "mimetype": "text/x-python",
   "name": "python",
   "nbconvert_exporter": "python",
   "pygments_lexer": "ipython3",
   "version": "3.10.9"
  }
 },
 "nbformat": 4,
 "nbformat_minor": 5
}
